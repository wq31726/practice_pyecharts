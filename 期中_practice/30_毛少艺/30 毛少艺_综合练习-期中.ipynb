{
 "cells": [
  {
   "cell_type": "markdown",
   "metadata": {},
   "source": [
    "# 1．打印出所有的\"水仙花数\"，所谓\"水仙花数\"是指一个三位数，其各位数字立方和等于该数本身。例如：153是一个\"水仙花数\"，因为153=1的三次方＋5的三次方＋3的三次方。"
   ]
  },
  {
   "cell_type": "code",
   "execution_count": 18,
   "metadata": {},
   "outputs": [
    {
     "name": "stdout",
     "output_type": "stream",
     "text": [
      "[153, 370, 371, 407]\n"
     ]
    }
   ],
   "source": [
    "def shui_flower():\n",
    "    nums = [str(i)  for i in range(100 ,1000)]  # 生成三位数的 并转换为字符串\n",
    "    shui_nums=[]\n",
    "    for i in nums:\n",
    "        if int(i[0])**3 + int(i[1])**3 +int(i[2])**3 == int(i):   #判断是否符合条件\n",
    "            shui_nums.append(int(i))                              #将符合条件的数字添加到shui_nums[]中\n",
    "    print(shui_nums)\n",
    "    \n",
    "shui_flower()"
   ]
  },
  {
   "cell_type": "markdown",
   "metadata": {},
   "source": [
    "# 2. “回文”是指正读反读都能读通的句子，它是古今中外都有的一种修辞方式和文字游戏，如“我为人人，人人为我”等。在数学中也有这样一类数字有这样的特征，称为回文数（palindrome number），例如10001,9889等，设计一个函数f用于检查输入的数字是否为回文数，返回布尔类型"
   ]
  },
  {
   "cell_type": "code",
   "execution_count": 41,
   "metadata": {},
   "outputs": [
    {
     "name": "stdout",
     "output_type": "stream",
     "text": [
      "请输入一个数字:261162\n",
      "True\n"
     ]
    }
   ],
   "source": [
    "def f(number):\n",
    "    \n",
    "    if number == number[::-1]:\n",
    "        print(True)\n",
    "        \n",
    "    else:\n",
    "        print(False)\n",
    "        \n",
    "number=input('请输入一个数字:')\n",
    "f(number)"
   ]
  },
  {
   "cell_type": "markdown",
   "metadata": {},
   "source": [
    "# 3. \n",
    "<font face='微软雅黑' size=4>有三个学生stu1,stu2,stu3如下所示：<br/>\n",
    "stu1 = {\"大学英语\":98,\"色彩学基础\":99,\"普通话\":70} <br/>\n",
    "stu2 = {\"大学英语\":97,\"音乐鉴赏\":90,\"会计基础\":89}<br/>\n",
    "stu3 = {\"大学英语\":44,\"普通话\":63,\"网店运营\":90}<br/>\n",
    "请编程完成下列要求：<br/>\n",
    "（1）全校（假设仅3个学生）总共开了多少门课程 <br/>\n",
    "（2）找出三个学生都选的课程  <br/>\n",
    "（3）stu3的大学英文课程进行了补考，更新stu3的大学英语的成绩为60，之后计算该学生的平均分（15分）</font>"
   ]
  },
  {
   "cell_type": "markdown",
   "metadata": {},
   "source": [
    "<font face= '微软雅黑' size=5>（1）全校（假设仅3个学生）总共开了多少门课程 </font>"
   ]
  },
  {
   "cell_type": "code",
   "execution_count": 71,
   "metadata": {},
   "outputs": [
    {
     "name": "stdout",
     "output_type": "stream",
     "text": [
      "总共开了:6门    {'大学英语', '网店运营', '会计基础', '音乐鉴赏', '普通话', '色彩学基础'}\n"
     ]
    }
   ],
   "source": [
    "def all_course(all_stu ):\n",
    "    course = [key  for stu in all_stu  for key in stu.keys()]\n",
    "    print('总共开了:'+str(len(set(course))) +'门   ' ,set(course))\n",
    "    \n",
    "    \n",
    "stu1 = {\"大学英语\":98,\"色彩学基础\":99,\"普通话\":70}\n",
    "stu2 = {\"大学英语\":97,\"音乐鉴赏\":90,\"会计基础\":89}\n",
    "stu3 = {\"大学英语\":44,\"普通话\":63,\"网店运营\":90}\n",
    "\n",
    "all_stu = [stu1, stu2 ,stu3]\n",
    "all_course(all_stu )"
   ]
  },
  {
   "cell_type": "markdown",
   "metadata": {},
   "source": [
    "<font face= '微软雅黑' size=5>（2）找出三个学生都选的课程 </font>"
   ]
  },
  {
   "cell_type": "code",
   "execution_count": 121,
   "metadata": {},
   "outputs": [
    {
     "name": "stdout",
     "output_type": "stream",
     "text": [
      "['大学英语']\n"
     ]
    }
   ],
   "source": [
    "stu1 = {\"大学英语\":98,\"色彩学基础\":99,\"普通话\":70}\n",
    "stu2 = {\"大学英语\":97,\"音乐鉴赏\":90,\"会计基础\":89}\n",
    "stu3 = {\"大学英语\":44,\"普通话\":63,\"网店运营\":90}\n",
    "a=list(stu1.keys())\n",
    "b=list(stu2.keys())\n",
    "c=list(stu3.keys())\n",
    "\n",
    "# jiaoji=[val for val in a if val in b and val in c]\n",
    "# print(jiaoji)\n",
    "\n",
    "print(list(set(a).intersection(set(b),set(c))))"
   ]
  },
  {
   "cell_type": "markdown",
   "metadata": {},
   "source": [
    " <font face= '微软雅黑' size=5>stu3的大学英文课程进行了补考，更新stu3的大学英语的成绩为60，之后计算该学生的平均分</font>"
   ]
  },
  {
   "cell_type": "code",
   "execution_count": 136,
   "metadata": {},
   "outputs": [
    {
     "name": "stdout",
     "output_type": "stream",
     "text": [
      "84.0\n"
     ]
    }
   ],
   "source": [
    "def means(all_stu):\n",
    "    scores = [value  for stu in all_stu  for value in stu.values()]\n",
    "    print(sum(scores)/len(scores))\n",
    "    \n",
    "stu1 = {\"大学英语\":98,\"色彩学基础\":99,\"普通话\":70}\n",
    "stu2 = {\"大学英语\":97,\"音乐鉴赏\":90,\"会计基础\":89}\n",
    "stu3 = {\"大学英语\":44,\"普通话\":63,\"网店运营\":90}\n",
    "stu3.update({\"大学英语\":60})                          #更新成绩\n",
    " \n",
    "\n",
    "all_stu = [stu1, stu2 ,stu3]\n",
    "means(all_stu)"
   ]
  },
  {
   "cell_type": "markdown",
   "metadata": {},
   "source": [
    "# 4\n",
    "<font face= '微软雅黑' size=5>已知列表stus=[  <br/>\n",
    "    {\"NO\":\"2019201\",\"数学\":98,\"语文\":99}， <br/>\n",
    "    {\"NO\":\"2019202\",\"数学\":97,\"语文\":90},  <br/>\n",
    "    {\"NO\":\"2019203\",\"数学\":44,\"语文\":33},  <br/>\n",
    "    {\"NO\":\"2019204\",\"数学\":44,\"语文\":60},...]  <br/> \n",
    "存放着某班所有学生的学号、数学课成绩和语文课成绩。请编程完成下列要求  \n",
    "（1）分别求这个班数学和语文的平均分并输出。  <br/> \n",
    "（2）找出两门课都不及格(<60)的学生，输出他们的学号和各科成绩。  \n",
    "（3）找出两门课的平均分在90分以上的学生，输出他们的学号和各科成绩。 <br/>\n",
    "建议用三个函数分别实现以上要求.</font>"
   ]
  },
  {
   "cell_type": "markdown",
   "metadata": {},
   "source": [
    "<font size=5>(1) 分别求这个班数学和语文的平均分并输出。</font>"
   ]
  },
  {
   "cell_type": "code",
   "execution_count": 150,
   "metadata": {},
   "outputs": [
    {
     "name": "stdout",
     "output_type": "stream",
     "text": [
      "70.75\n",
      "70.5\n"
     ]
    }
   ],
   "source": [
    "def get_score(stus):\n",
    "    math = [stu.get('数学',' ')  for stu in stus ]\n",
    "    chinese = [stu.get('语文',' ')  for stu in stus ]\n",
    "    print(sum(math)/len(math))\n",
    "    print(sum(chinese) /len(chinese))\n",
    "    \n",
    "stus=[\n",
    "    {\"NO\":\"2019201\",\"数学\":98,\"语文\":99},\n",
    "    {\"NO\":\"2019202\",\"数学\":97,\"语文\":90},\n",
    "    {\"NO\":\"2019203\",\"数学\":44,\"语文\":33},\n",
    "    {\"NO\":\"2019204\",\"数学\":44,\"语文\":60}]\n",
    "\n",
    "get_score(stus)"
   ]
  },
  {
   "cell_type": "markdown",
   "metadata": {},
   "source": [
    "<font size=5>（2）找出两门课都不及格(<60)的学生，输出他们的学号和各科成绩</font>"
   ]
  },
  {
   "cell_type": "code",
   "execution_count": 156,
   "metadata": {},
   "outputs": [
    {
     "name": "stdout",
     "output_type": "stream",
     "text": [
      "{'NO': '2019203', '数学': 44, '语文': 33}\n"
     ]
    }
   ],
   "source": [
    "def get_score(stus):\n",
    "    for stu in stus:\n",
    "        if stu.get('数学',' ') <60  and stu.get('语文',' ')<60:\n",
    "            print(stu)\n",
    "\n",
    "    \n",
    "stus=[\n",
    "    {\"NO\":\"2019201\",\"数学\":98,\"语文\":99},\n",
    "    {\"NO\":\"2019202\",\"数学\":97,\"语文\":90},\n",
    "    {\"NO\":\"2019203\",\"数学\":44,\"语文\":33},\n",
    "    {\"NO\":\"2019204\",\"数学\":44,\"语文\":60}]\n",
    "\n",
    "get_score(stus)"
   ]
  },
  {
   "cell_type": "markdown",
   "metadata": {},
   "source": [
    "<font size=5>(3) 找出两门课的平均分在90分以上的学生，输出他们的学号和各科成绩。\n",
    "建议用三个函数分别实现以上要求.</font>"
   ]
  },
  {
   "cell_type": "code",
   "execution_count": 158,
   "metadata": {},
   "outputs": [
    {
     "name": "stdout",
     "output_type": "stream",
     "text": [
      "{'NO': '2019201', '数学': 98, '语文': 99}\n",
      "{'NO': '2019202', '数学': 97, '语文': 90}\n"
     ]
    }
   ],
   "source": [
    "def get_great(stus):\n",
    "    for stu in stus:\n",
    "        if (stu.get('数学',' ')+stu.get('语文',' '))/2 > 60:\n",
    "            print(stu)\n",
    "stus=[\n",
    "    {\"NO\":\"2019201\",\"数学\":98,\"语文\":99},\n",
    "    {\"NO\":\"2019202\",\"数学\":97,\"语文\":90},\n",
    "    {\"NO\":\"2019203\",\"数学\":44,\"语文\":33},\n",
    "    {\"NO\":\"2019204\",\"数学\":44,\"语文\":60}]\n",
    "\n",
    "get_great(stus)"
   ]
  },
  {
   "cell_type": "code",
   "execution_count": null,
   "metadata": {},
   "outputs": [],
   "source": []
  }
 ],
 "metadata": {
  "kernelspec": {
   "display_name": "Python 3",
   "language": "python",
   "name": "python3"
  },
  "language_info": {
   "codemirror_mode": {
    "name": "ipython",
    "version": 3
   },
   "file_extension": ".py",
   "mimetype": "text/x-python",
   "name": "python",
   "nbconvert_exporter": "python",
   "pygments_lexer": "ipython3",
   "version": "3.7.3"
  },
  "toc": {
   "base_numbering": 1,
   "nav_menu": {},
   "number_sections": true,
   "sideBar": true,
   "skip_h1_title": false,
   "title_cell": "Table of Contents",
   "title_sidebar": "Contents",
   "toc_cell": false,
   "toc_position": {},
   "toc_section_display": true,
   "toc_window_display": false
  }
 },
 "nbformat": 4,
 "nbformat_minor": 2
}
