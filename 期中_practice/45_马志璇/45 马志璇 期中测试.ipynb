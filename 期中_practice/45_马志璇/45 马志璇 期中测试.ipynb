{
 "cells": [
  {
   "cell_type": "markdown",
   "metadata": {},
   "source": [
    "1．打印出所有的\"水仙花数\"，所谓\"水仙花数\"是指一个三位数，其各位数字立方和等于该数本身。例如：153是一个\"水仙花数\"，因为153=1的三次方＋5的三次方＋3的三次方。"
   ]
  },
  {
   "cell_type": "code",
   "execution_count": null,
   "metadata": {},
   "outputs": [],
   "source": [
    "for i in range(100,1000):\n",
    "    a = i//100\n",
    "    b = (i-a*100)//10\n",
    "    c = (i-a*100-b*10)\n",
    "\n",
    "    if i == pow(a,3)+pow(b,3)+pow(c,3):\n",
    "        print(i)"
   ]
  },
  {
   "cell_type": "markdown",
   "metadata": {},
   "source": [
    "2. “回文”是指正读反读都能读通的句子，它是古今中外都有的一种修辞方式和文字游戏，如“我为人人，人人为我”等。在数学中也有这样一类数字有这样的特征，称为回文数（palindrome number），例如10001,9889等，设计一个函数f用于检查输入的数字是否为回文数，返回布尔类型"
   ]
  },
  {
   "cell_type": "code",
   "execution_count": 15,
   "metadata": {},
   "outputs": [
    {
     "name": "stdout",
     "output_type": "stream",
     "text": [
      "[1001, 1111, 1221, 1331, 1441, 1551, 1661, 1771, 1881, 1991, 2002, 2112, 2222, 2332, 2442, 2552, 2662, 2772, 2882, 2992, 3003, 3113, 3223, 3333, 3443, 3553, 3663, 3773, 3883, 3993, 4004, 4114, 4224, 4334, 4444, 4554, 4664, 4774, 4884, 4994, 5005, 5115, 5225, 5335, 5445, 5555, 5665, 5775, 5885, 5995, 6006, 6116, 6226, 6336, 6446, 6556, 6666, 6776, 6886, 6996, 7007, 7117, 7227, 7337, 7447, 7557, 7667, 7777, 7887, 7997, 8008, 8118, 8228, 8338, 8448, 8558, 8668, 8778, 8888, 8998, 9009, 9119, 9229, 9339, 9449, 9559, 9669, 9779, 9889, 9999]\n"
     ]
    }
   ],
   "source": [
    "def f_shifouhuiwen(n):\n",
    "    reversed_str = str(n)\n",
    "    return reversed_str == reversed_str[-1::-1]   \n",
    "\n",
    "output = filter(f_shifouhuiwen,range(1000,10000))\n",
    "print(list(output))"
   ]
  },
  {
   "cell_type": "markdown",
   "metadata": {},
   "source": [
    "3. \n",
    "有三个学生stu1,stu2,stu3如下所示：\n",
    "stu1 = {\"大学英语\":98,\"色彩学基础\":99,\"普通话\":70}\n",
    "stu2 = {\"大学英语\":97,\"音乐鉴赏\":90,\"会计基础\":89}\n",
    "stu3 = {\"大学英语\":44,\"普通话\":63,\"网店运营\":90}\n",
    "请编程完成下列要求：\n",
    "（1）全校（假设仅3个学生）总共开了多少门课程\n",
    "（2）找出三个学生都选的课程\n",
    "（3）stu3的大学英文课程进行了补考，更新stu3的大学英语的成绩为60，之后计算该学生的平均分（15分）"
   ]
  },
  {
   "cell_type": "code",
   "execution_count": 4,
   "metadata": {},
   "outputs": [
    {
     "name": "stdout",
     "output_type": "stream",
     "text": [
      "6\n",
      "{'大学英语'}\n",
      "71.0\n"
     ]
    }
   ],
   "source": [
    "stu1 = {\"大学英语\":98,\"色彩学基础\":99,\"普通话\":70}\n",
    "stu2 = {\"大学英语\":97,\"音乐鉴赏\":90,\"会计基础\":89}\n",
    "stu3 = {\"大学英语\":44,\"普通话\":63,\"网店运营\":90}\n",
    "#更新stu3大学英语成绩为60\n",
    "stu3[\"大学英语\"] = 60\n",
    "#建立集合\n",
    "jihe1 = set(stu1)\n",
    "jihe2 = set(stu2)\n",
    "jihe3 = set(stu3)\n",
    "#将三人的课程去重\n",
    "quchong = jihe1|jihe2|jihe3\n",
    "#筛选三人相同的课程\n",
    "quxiangtong = jihe1&jihe2&jihe3\n",
    "#求stu3的平均成绩\n",
    "average3 = (int(stu3[\"大学英语\"]) + int(stu3[\"网店运营\"]) + int(stu3[\"普通话\"]))/3\n",
    "\n",
    "print(len(quchong))\n",
    "print(quxiangtong)\n",
    "print(average3)"
   ]
  },
  {
   "cell_type": "markdown",
   "metadata": {},
   "source": [
    "4.\n",
    "已知列表stus=[\n",
    "{\"NO\":\"2019201\",\"数学\":98,\"语文\":99},\n",
    "      {\"NO\":\"2019202\",\"数学\":97,\"语文\":90},\n",
    "      {\"NO\":\"2019203\",\"数学\":44,\"语文\":33},\n",
    "      {\"NO\":\"2019204\",\"数学\":44,\"语文\":60},...]\n",
    "存放着某班所有学生的学号、数学课成绩和语文课成绩。请编程完成下列要求：\n",
    "（1）分别求这个班数学和语文的平均分并输出。\n",
    "（2）找出两门课都不及格（<60）的学生，输出他们的学号和各科成绩。\n",
    "（3）找出两门课的平均分在90分以上的学生，输出他们的学号和各科成绩。\n",
    "建议用三个函数分别实现以上要求。"
   ]
  },
  {
   "cell_type": "code",
   "execution_count": null,
   "metadata": {},
   "outputs": [],
   "source": []
  }
 ],
 "metadata": {
  "kernelspec": {
   "display_name": "Python 3",
   "language": "python",
   "name": "python3"
  },
  "language_info": {
   "codemirror_mode": {
    "name": "ipython",
    "version": 3
   },
   "file_extension": ".py",
   "mimetype": "text/x-python",
   "name": "python",
   "nbconvert_exporter": "python",
   "pygments_lexer": "ipython3",
   "version": "3.7.1"
  }
 },
 "nbformat": 4,
 "nbformat_minor": 2
}
