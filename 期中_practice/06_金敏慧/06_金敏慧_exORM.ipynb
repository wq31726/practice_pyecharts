{
 "cells": [
  {
   "cell_type": "code",
   "execution_count": 1,
   "metadata": {},
   "outputs": [],
   "source": [
    "from pony.orm import *\n",
    "\n",
    "\n",
    "db = Database()\n",
    "\n",
    "\n",
    "class Student(db.Entity):\n",
    "    id = PrimaryKey(int, auto=True)\n",
    "    Class = Required('Class')\n",
    "    no = Optional(str, column='no')\n",
    "    passwd = Optional(str, column='passwd')\n",
    "    courses = Set('Course')\n",
    "\n",
    "\n",
    "class Class(db.Entity):\n",
    "    id = PrimaryKey(int, auto=True)\n",
    "    students = Set(Student)\n",
    "    name = Optional(str, column='name')\n",
    "\n",
    "\n",
    "class Course(db.Entity):\n",
    "    id = PrimaryKey(int, auto=True)\n",
    "    students = Set(Student)\n",
    "    name = Optional(str, column='name')\n",
    "\n",
    "\n",
    "\n",
    "#db.generate_mapping()"
   ]
  },
  {
   "cell_type": "code",
   "execution_count": 2,
   "metadata": {},
   "outputs": [],
   "source": [
    "db.bind(provider='sqlite', filename='C:\\\\Users\\\\86182\\\\llll.sqlite')\n",
    "\n",
    "db.generate_mapping(create_tables=True)\n",
    "\n",
    "set_sql_debug(True)"
   ]
  },
  {
   "cell_type": "code",
   "execution_count": null,
   "metadata": {},
   "outputs": [],
   "source": []
  },
  {
   "cell_type": "code",
   "execution_count": 3,
   "metadata": {},
   "outputs": [
    {
     "name": "stdout",
     "output_type": "stream",
     "text": [
      "GET NEW CONNECTION\n",
      "BEGIN IMMEDIATE TRANSACTION\n",
      "INSERT INTO \"Class\" (\"name\") VALUES (?)\n",
      "['181']\n",
      "\n",
      "INSERT INTO \"Course\" (\"name\") VALUES (?)\n",
      "['区块链']\n",
      "\n",
      "INSERT INTO \"Course\" (\"name\") VALUES (?)\n",
      "['python数据分析']\n",
      "\n",
      "INSERT INTO \"Student\" (\"Class\", \"no\", \"passwd\") VALUES (?, ?, ?)\n",
      "[3, '24', '123456']\n",
      "\n",
      "INSERT INTO \"Student\" (\"Class\", \"no\", \"passwd\") VALUES (?, ?, ?)\n",
      "[3, '06', '123456']\n",
      "\n",
      "INSERT INTO \"Student\" (\"Class\", \"no\", \"passwd\") VALUES (?, ?, ?)\n",
      "[3, '29', '123456']\n",
      "\n",
      "EXECUTEMANY (6)\n",
      "INSERT INTO \"Course_Student\" (\"course\", \"student\") VALUES (?, ?)\n",
      "[6, 7]\n",
      "[5, 7]\n",
      "[5, 9]\n",
      "[5, 8]\n",
      "[6, 9]\n",
      "[6, 8]\n",
      "\n",
      "COMMIT\n"
     ]
    }
   ],
   "source": [
    "cls1 = Class(name = \"181\")\n",
    "c1 = Course(name = \"区块链\")\n",
    "c2 = Course(name = \"python数据分析\")\n",
    "s1 = Student(no = \"24\",Class = cls1,passwd = \"123456\",courses = (c1,c2))\n",
    "s2 = Student(no = \"06\",Class = cls1,passwd = \"123456\",courses = (c1,c2))\n",
    "s3 = Student(no = \"29\",Class = cls1,passwd = \"123456\",courses = (c1,c2))\n",
    "db.commit()"
   ]
  },
  {
   "cell_type": "code",
   "execution_count": null,
   "metadata": {},
   "outputs": [],
   "source": []
  }
 ],
 "metadata": {
  "kernelspec": {
   "display_name": "Python 3",
   "language": "python",
   "name": "python3"
  },
  "language_info": {
   "codemirror_mode": {
    "name": "ipython",
    "version": 3
   },
   "file_extension": ".py",
   "mimetype": "text/x-python",
   "name": "python",
   "nbconvert_exporter": "python",
   "pygments_lexer": "ipython3",
   "version": "3.7.1"
  }
 },
 "nbformat": 4,
 "nbformat_minor": 2
}
