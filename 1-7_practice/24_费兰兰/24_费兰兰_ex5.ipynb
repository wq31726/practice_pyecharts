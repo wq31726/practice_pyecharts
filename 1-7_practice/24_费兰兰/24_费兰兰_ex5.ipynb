{
 "cells": [
  {
   "cell_type": "markdown",
   "metadata": {},
   "source": [
    "# 1，定义一个数学中的复数类complex，他有一个构造函数与一个显示函数，建立一个complex对象并调用该函数显示"
   ]
  },
  {
   "cell_type": "code",
   "execution_count": 17,
   "metadata": {},
   "outputs": [
    {
     "name": "stdout",
     "output_type": "stream",
     "text": [
      "1 2\n"
     ]
    }
   ],
   "source": [
    "class Complex:\n",
    "    def __init__(self,x,y):\n",
    "        self.x=x\n",
    "        self.y=y\n",
    "    def show(self):\n",
    "        print(self.x,self.y)\n",
    "c=Complex(1,2)\n",
    "c.show()"
   ]
  },
  {
   "cell_type": "markdown",
   "metadata": {},
   "source": [
    "# 2、定义一个计算机类MyComputer,它包含CPU类型（string类型）、RAM内存大小（integer类型）、HD硬盘大小（integer类型），设计他的构造函数，并设计一个显示函数，建立一个MyComputer对象并调用该显示函数显示"
   ]
  },
  {
   "cell_type": "code",
   "execution_count": 11,
   "metadata": {},
   "outputs": [
    {
     "name": "stdout",
     "output_type": "stream",
     "text": [
      "计算机1 2345 516\n"
     ]
    }
   ],
   "source": [
    "class MyComputer:\n",
    "    def __init__(self,c,r,h):\n",
    "        self.CPU=c\n",
    "        self.RAM=r\n",
    "        self.HD=h\n",
    "        \n",
    "    def show(self):\n",
    "        print(self.CPU,self.RAM,self.HD)\n",
    "m=MyComputer(\"计算机1\",2345,516)\n",
    "m.show()\n",
    "        \n",
    "    \n",
    "    "
   ]
  },
  {
   "cell_type": "markdown",
   "metadata": {},
   "source": [
    "# 3、设计一个整数类MyInteger,他有一个整数变量，并有一个Value存取该变量的值，还有一个转二进制字符串的成员函数toBin及转十六进制字符串的成员函数toHex"
   ]
  },
  {
   "cell_type": "code",
   "execution_count": null,
   "metadata": {},
   "outputs": [],
   "source": []
  },
  {
   "cell_type": "markdown",
   "metadata": {},
   "source": [
    "# 4.建立一个普通人员类Person，包含姓名(m_name)、性别(m_sex)、年龄(m_age)成员变量。\n",
    "#(1)建立Person类，包含Private成员m_name、m_sex、m_age成员变量；\n",
    "#(2)建立Person的构造函数；\n",
    "#(3)建立一个显示过程Show()，显示该对象的数据；\n",
    "#(4)派生一个学生类Student，增加班级(m_class)，专业(m_major)，设计这些类的构造函数；\n",
    "#(5)建立m_class、m_major对应的属性函数sClass()、sMajor()；\n",
    "#(6)建立显示成员函数Show()，显示该学生对象所有成员数据"
   ]
  },
  {
   "cell_type": "code",
   "execution_count": 21,
   "metadata": {},
   "outputs": [
    {
     "name": "stdout",
     "output_type": "stream",
     "text": [
      "小珠 女 22\n"
     ]
    }
   ],
   "source": [
    "#（1）---（3）\n",
    "class Person:\n",
    "    def __init__(self,n,s,a):\n",
    "        self.m_name=n\n",
    "        self.m_sex=s\n",
    "        self.m_age=a\n",
    "    def show(self):\n",
    "        print(self.m_name,self.m_sex,self.m_age)\n",
    "p=Person(\"小珠\",\"女\",22)\n",
    "p.show()"
   ]
  },
  {
   "cell_type": "markdown",
   "metadata": {},
   "source": [
    "# 5、建立一个时间类Time，它包含时hour,分minute，秒second的实例属性(1)设计时间显示函数show(self)；(2)设计两个时间大小比较函数compare(self,t)，其中t是另外一个时间；"
   ]
  },
  {
   "cell_type": "code",
   "execution_count": null,
   "metadata": {},
   "outputs": [],
   "source": []
  }
 ],
 "metadata": {
  "kernelspec": {
   "display_name": "Python 3",
   "language": "python",
   "name": "python3"
  },
  "language_info": {
   "codemirror_mode": {
    "name": "ipython",
    "version": 3
   },
   "file_extension": ".py",
   "mimetype": "text/x-python",
   "name": "python",
   "nbconvert_exporter": "python",
   "pygments_lexer": "ipython3",
   "version": "3.7.1"
  }
 },
 "nbformat": 4,
 "nbformat_minor": 2
}
