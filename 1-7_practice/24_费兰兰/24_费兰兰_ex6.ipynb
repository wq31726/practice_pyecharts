{
 "cells": [
  {
   "cell_type": "markdown",
   "metadata": {},
   "source": [
    "# 1． 编写一个程序建立一个文本文件 abc.txt，向其中写入”abc\\n”并存盘，查看 abc.txt 是 几个字节的文件，说明为什么。 "
   ]
  },
  {
   "cell_type": "code",
   "execution_count": null,
   "metadata": {},
   "outputs": [],
   "source": [
    "  "
   ]
  },
  {
   "cell_type": "code",
   "execution_count": 3,
   "metadata": {},
   "outputs": [
    {
     "name": "stdout",
     "output_type": "stream",
     "text": [
      "abc\n",
      " 4\n"
     ]
    }
   ],
   "source": [
    "def writeFile():\n",
    "    f=open(\"abc.txt\",\"wt\")\n",
    "    f.write(\"abc\\n\")               \n",
    "    f.close()\n",
    "def readFile():\n",
    "    f=open(\"abc.txt\",\"rt\")\n",
    "    s=f.readline()\n",
    "    print(s,len(s))\n",
    "    f.close()\n",
    "writeFile()\n",
    "readFile()"
   ]
  },
  {
   "cell_type": "markdown",
   "metadata": {},
   "source": []
  },
  {
   "cell_type": "markdown",
   "metadata": {},
   "source": [
    "# 2． 用 Windows 记事本编写一个文本文件 xyz.txt，在其中存入”123”后打”Enter”键换行， 存盘后查看文件应是 5 个字节长，用 read(1)读该文件，看看要读 5 次还是 4 次就把文 件读完，为什么？编写程序验证。 "
   ]
  },
  {
   "cell_type": "code",
   "execution_count": null,
   "metadata": {},
   "outputs": [],
   "source": []
  },
  {
   "cell_type": "code",
   "execution_count": 3,
   "metadata": {},
   "outputs": [
    {
     "name": "stdout",
     "output_type": "stream",
     "text": [
      "123\n",
      "\n"
     ]
    }
   ],
   "source": [
    "def readFile():\n",
    "    f = open(\"C:\\\\Users\\\\86182\\\\Desktop\\\\xyz.txt\",\"rt\")\n",
    "    goon = 1\n",
    "    st = \"\"\n",
    "    while goon == 1:\n",
    "        s = f.read(1)\n",
    "        if s!=\"\":\n",
    "            st = st+s\n",
    "        else:\n",
    "            goon = 0\n",
    "    f.close()\n",
    "    print(st)\n",
    "try:\n",
    "    readFile()\n",
    "except Exception as err:\n",
    "    print(err)\n",
    "            \n",
    "        "
   ]
  },
  {
   "cell_type": "markdown",
   "metadata": {},
   "source": [
    "# 3．编写程序查找某个单词（键盘输入）所出现的行号及该行的内容，并统计该单词在文件 共出现多少次。 "
   ]
  },
  {
   "cell_type": "code",
   "execution_count": null,
   "metadata": {},
   "outputs": [],
   "source": []
  },
  {
   "cell_type": "markdown",
   "metadata": {},
   "source": [
    "# 4．设一个文本文件 marks.txt 中存储了学生的姓名及成绩如下： 张三  96 李四  95 …… 每行为学生姓名与成绩，编写一个程序读取这些学生的姓名与成绩并按成绩的从高到低的顺 序输出到另外一个文件 sorted.txt 中。"
   ]
  },
  {
   "cell_type": "code",
   "execution_count": null,
   "metadata": {},
   "outputs": [],
   "source": []
  },
  {
   "cell_type": "markdown",
   "metadata": {},
   "source": [
    "# 5．用二进制方式创建文件 abc 并写入”abc\\r\\nxyz\\n\\r123\\r456\\n”的字符串，查看该文件 有多少个字节，再用文本文件的方式打开此文件并用 fgetc 来读，看看每次读出的是什么字 符"
   ]
  },
  {
   "cell_type": "code",
   "execution_count": 6,
   "metadata": {},
   "outputs": [
    {
     "name": "stdout",
     "output_type": "stream",
     "text": [
      "abc\r\n",
      "xyz\n",
      "456\n",
      "\n"
     ]
    }
   ],
   "source": [
    "def write():\n",
    "    f=open(\"abc\",\"wb\")\n",
    "    f.write(\"abc\\r\\nxyz\\n\\r123\\r456\\n\".encode())\n",
    "    f.close()\n",
    "def read():\n",
    "    f=open(\"abc\",\"rb\")\n",
    "    data=f.read()\n",
    "    s=data.decode()\n",
    "    f.close()\n",
    "    print(s)\n",
    "\n",
    "\n",
    "write()\n",
    "read() \n",
    " "
   ]
  },
  {
   "cell_type": "markdown",
   "metadata": {},
   "source": [
    "# 6．用文本文件方式创建文件并写入”abc\\nxyz\\r\\n123\\r”字符串，再用二进制方式打开读 取每个字节，看看每个字节是什么"
   ]
  },
  {
   "cell_type": "code",
   "execution_count": null,
   "metadata": {},
   "outputs": [],
   "source": []
  },
  {
   "cell_type": "markdown",
   "metadata": {},
   "source": [
    "# 7. 编写一个程序，它能统计一篇英文文章中的 a~z 各个字母出现的次数（不分大小写），并 按出现次数的多少按顺序输出"
   ]
  },
  {
   "cell_type": "code",
   "execution_count": 8,
   "metadata": {},
   "outputs": [
    {
     "name": "stdout",
     "output_type": "stream",
     "text": [
      "输入文件：xyz\n"
     ]
    },
    {
     "ename": "FileNotFoundError",
     "evalue": "[Errno 2] No such file or directory: 'xyz'",
     "output_type": "error",
     "traceback": [
      "\u001b[1;31m---------------------------------------------------------------------------\u001b[0m",
      "\u001b[1;31mFileNotFoundError\u001b[0m                         Traceback (most recent call last)",
      "\u001b[1;32m<ipython-input-8-2c472539a0b7>\u001b[0m in \u001b[0;36m<module>\u001b[1;34m\u001b[0m\n\u001b[0;32m     15\u001b[0m     \u001b[0mprint\u001b[0m\u001b[1;33m(\u001b[0m\u001b[0mn\u001b[0m\u001b[1;33m)\u001b[0m\u001b[1;33m\u001b[0m\u001b[1;33m\u001b[0m\u001b[0m\n\u001b[0;32m     16\u001b[0m \u001b[0mfilename\u001b[0m\u001b[1;33m=\u001b[0m\u001b[0minput\u001b[0m\u001b[1;33m(\u001b[0m \u001b[1;34m\"输入文件：\"\u001b[0m\u001b[1;33m)\u001b[0m\u001b[1;33m\u001b[0m\u001b[1;33m\u001b[0m\u001b[0m\n\u001b[1;32m---> 17\u001b[1;33m \u001b[0mcount\u001b[0m\u001b[1;33m(\u001b[0m\u001b[0mfilename\u001b[0m\u001b[1;33m)\u001b[0m\u001b[1;33m\u001b[0m\u001b[1;33m\u001b[0m\u001b[0m\n\u001b[0m",
      "\u001b[1;32m<ipython-input-8-2c472539a0b7>\u001b[0m in \u001b[0;36mcount\u001b[1;34m(filename)\u001b[0m\n\u001b[0;32m      4\u001b[0m         \u001b[0mx\u001b[0m\u001b[1;33m=\u001b[0m\u001b[0mchr\u001b[0m\u001b[1;33m(\u001b[0m\u001b[0mord\u001b[0m\u001b[1;33m(\u001b[0m\u001b[1;34m'a'\u001b[0m\u001b[1;33m)\u001b[0m\u001b[1;33m+\u001b[0m\u001b[0mi\u001b[0m\u001b[1;33m)\u001b[0m\u001b[1;33m\u001b[0m\u001b[1;33m\u001b[0m\u001b[0m\n\u001b[0;32m      5\u001b[0m         \u001b[0mn\u001b[0m\u001b[1;33m[\u001b[0m\u001b[0mx\u001b[0m\u001b[1;33m]\u001b[0m\u001b[1;33m=\u001b[0m\u001b[1;36m0\u001b[0m\u001b[1;33m\u001b[0m\u001b[1;33m\u001b[0m\u001b[0m\n\u001b[1;32m----> 6\u001b[1;33m         \u001b[0mf\u001b[0m\u001b[1;33m=\u001b[0m\u001b[0mopen\u001b[0m\u001b[1;33m(\u001b[0m\u001b[0mfilename\u001b[0m\u001b[1;33m,\u001b[0m\u001b[1;34m\"r\"\u001b[0m\u001b[1;33m)\u001b[0m\u001b[1;33m\u001b[0m\u001b[1;33m\u001b[0m\u001b[0m\n\u001b[0m\u001b[0;32m      7\u001b[0m         \u001b[0mrows\u001b[0m\u001b[1;33m=\u001b[0m\u001b[0mf\u001b[0m\u001b[1;33m.\u001b[0m\u001b[0mreadlines\u001b[0m\u001b[1;33m(\u001b[0m\u001b[1;33m)\u001b[0m\u001b[1;33m\u001b[0m\u001b[1;33m\u001b[0m\u001b[0m\n\u001b[0;32m      8\u001b[0m     \u001b[1;32mfor\u001b[0m \u001b[0mrow\u001b[0m \u001b[1;32min\u001b[0m \u001b[0mrows\u001b[0m\u001b[1;33m:\u001b[0m\u001b[1;33m\u001b[0m\u001b[1;33m\u001b[0m\u001b[0m\n",
      "\u001b[1;31mFileNotFoundError\u001b[0m: [Errno 2] No such file or directory: 'xyz'"
     ]
    }
   ],
   "source": [
    "def count(filename):\n",
    "    n={}\n",
    "    for i in range(26):\n",
    "        x=chr(ord('a')+i)\n",
    "        n[x]=0\n",
    "        f=open(filename,\"r\")\n",
    "        rows=f.readlines()\n",
    "    for row in rows:\n",
    "        s=row.strip(\"\\n\")\n",
    "        for x in s:\n",
    "            y=x.lower()\n",
    "            if y>='a' and y<='z':\n",
    "                n[y]=n[y]+1\n",
    "        f.close()\n",
    "    print(n)\n",
    "filename=input( \"输入文件：\")\n",
    "count(filename)"
   ]
  },
  {
   "cell_type": "code",
   "execution_count": null,
   "metadata": {},
   "outputs": [],
   "source": []
  },
  {
   "cell_type": "code",
   "execution_count": null,
   "metadata": {},
   "outputs": [],
   "source": []
  },
  {
   "cell_type": "code",
   "execution_count": null,
   "metadata": {},
   "outputs": [],
   "source": []
  }
 ],
 "metadata": {
  "kernelspec": {
   "display_name": "Python 3",
   "language": "python",
   "name": "python3"
  },
  "language_info": {
   "codemirror_mode": {
    "name": "ipython",
    "version": 3
   },
   "file_extension": ".py",
   "mimetype": "text/x-python",
   "name": "python",
   "nbconvert_exporter": "python",
   "pygments_lexer": "ipython3",
   "version": "3.7.1"
  }
 },
 "nbformat": 4,
 "nbformat_minor": 2
}
