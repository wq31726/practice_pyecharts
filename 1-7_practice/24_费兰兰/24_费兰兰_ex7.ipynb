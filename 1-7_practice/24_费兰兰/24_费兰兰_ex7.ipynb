{
 "cells": [
  {
   "cell_type": "markdown",
   "metadata": {},
   "source": [
    "# 1.简述 Python 连接 MySQL 数据库的方法？"
   ]
  },
  {
   "cell_type": "code",
   "execution_count": null,
   "metadata": {},
   "outputs": [],
   "source": [
    "（1）首先我们需要的是一个MySQLdb的库。使用import来进行测试看是否存在，这个样子就是存在的。\n",
    "（2）使用#! /usr/bin/python# -*- coding: UTF-8 -*-来支持中文。\n",
    "（3）使用import MySQLdb导入库\n",
    "（4）使用connect进行数据库的连接。db=MySQLdb.connect('127.0.0.1','root','root','myself')\n",
    "（5）然后使用db.curspor()方法来获取\n",
    "（6）最后进行sql语句执行查询命令就可以了。"
   ]
  },
  {
   "cell_type": "markdown",
   "metadata": {},
   "source": [
    "# 2.fetchone()怎么样判断读到数据库末尾？"
   ]
  },
  {
   "cell_type": "markdown",
   "metadata": {},
   "source": [
    " 它的返回值是单个的元组,每次执行有一行记录,以此类推，如果返回值到none时，就是末尾"
   ]
  },
  {
   "cell_type": "markdown",
   "metadata": {},
   "source": [
    "# 3.fetchall()与 fetchone()有什么区别？"
   ]
  },
  {
   "cell_type": "code",
   "execution_count": null,
   "metadata": {},
   "outputs": [],
   "source": [
    "（1）fetchone()函数它的返回值是单个的元组,也就是一行记录,如果没有结果,那就会返回null\n",
    "（2）fetchall()函数,它的返回值是多个元组,即返回多个行记录,如果没有结果,返回的是() 一个空的元组"
   ]
  },
  {
   "cell_type": "markdown",
   "metadata": {},
   "source": [
    "# 4.rowcount()返回值代表什么？ "
   ]
  },
  {
   "cell_type": "code",
   "execution_count": null,
   "metadata": {},
   "outputs": [],
   "source": [
    "返回满足条件记录的数目"
   ]
  },
  {
   "cell_type": "markdown",
   "metadata": {},
   "source": [
    "# 5.MySQL 中怎么样使用带参数的 SQL 命令？ "
   ]
  },
  {
   "cell_type": "code",
   "execution_count": null,
   "metadata": {},
   "outputs": [],
   "source": [
    "mysql_query()\n",
    "对于没有数据返回结果集的 SQL ，如 UPDATE、DELETE 等在执行成功时返回 TRUE，出错时返回 FALSE；对于 SELECT，SHOW，EXPLAIN 或 DESCRIBE 语句返回一\n",
    "个资源标识符，如果查询执行不正确则返回 FALSE。6.数据库操作完成后为什么要调用 commit()函数"
   ]
  },
  {
   "cell_type": "markdown",
   "metadata": {},
   "source": [
    "# 6.数据库操作完成后为什么要调用 commit()函数"
   ]
  },
  {
   "cell_type": "code",
   "execution_count": null,
   "metadata": {},
   "outputs": [],
   "source": [
    "COMMIT命令用于把事务所做的修改保存到数据库，它把上一个COMMIT或ROLLBACK命令之后的全部事务都保存到数据库。"
   ]
  },
  {
   "cell_type": "markdown",
   "metadata": {},
   "source": [
    "# 7.什么是游标 cursor，它有什么作用？"
   ]
  },
  {
   "cell_type": "code",
   "execution_count": null,
   "metadata": {},
   "outputs": [],
   "source": [
    "游标（cursor）是系统为用户开设的一个数据缓冲区，存放SQL语句的执行结果。每个游标区都有一个名字,用户可以用SQL语句逐一从游标中获取记录，并赋给主变量，交由主语言进一步处理。\n",
    "　　游标是处理结果集的一种机制吧，它可以定位到结果集中的某一行，多数据进行读写，也可以移动游标定位到你所需要的行中进行操作数据。一般复杂的存储过程，都会有游标的出现，他的用处主要有：\n",
    "（1）定位到结果集中的某一行。\n",
    "（2）对当前位置的数据进行读写。 \n",
    "（3）可以对结果集中的数据单独操作，而不是整行执行相同的操作。 \n",
    "（4）是面向集合的数据库管理系统和面向行的程序设计之间的桥梁。"
   ]
  },
  {
   "cell_type": "markdown",
   "metadata": {},
   "source": [
    "# 8.Python 怎么样连接 Sqlite 数据库？ "
   ]
  },
  {
   "cell_type": "code",
   "execution_count": 3,
   "metadata": {},
   "outputs": [
    {
     "name": "stdout",
     "output_type": "stream",
     "text": [
      "[('1', 'seven bai')]\n"
     ]
    }
   ],
   "source": [
    "# 导入SQLite\n",
    "import sqlite3\n",
    "# (Python DB-api)\n",
    "# 连接到SQLite数据库\n",
    "# 这里的数据库文件是test.db\n",
    "# 如果文件不存在，会自动在当前的目录创建\n",
    "conn = sqlite3.connect('test.db')\n",
    "# 创建一个cursor 游标（用于执行SQL语句）\n",
    "cursor = conn.cursor()\n",
    "# 执行SQL语句\n",
    "# 创建user表\n",
    "cursor.execute('create table user (id varchar(20) primary key, name varchar(20))')\n",
    "# 向表中插入数据\n",
    "cursor.execute('insert into user (id, name) values (\\'1\\', \\'seven bai\\')')\n",
    "# 执行查询语句\n",
    "cursor.execute('select * from user where id=?', ('1',))\n",
    "# rowcount返回影响的行数（可以在执行update，delete，inset后执行查看）\n",
    "cursor.rowcount\n",
    "# 查询结果\n",
    "values = cursor.fetchall()\n",
    "print(values)\n",
    "# 关闭cursor\n",
    "cursor.close()\n",
    "# 提交事务\n",
    "conn.commit()\n",
    "# 关闭数据库连接\n",
    "conn.close()"
   ]
  },
  {
   "cell_type": "code",
   "execution_count": null,
   "metadata": {},
   "outputs": [],
   "source": []
  }
 ],
 "metadata": {
  "kernelspec": {
   "display_name": "Python 3",
   "language": "python",
   "name": "python3"
  },
  "language_info": {
   "codemirror_mode": {
    "name": "ipython",
    "version": 3
   },
   "file_extension": ".py",
   "mimetype": "text/x-python",
   "name": "python",
   "nbconvert_exporter": "python",
   "pygments_lexer": "ipython3",
   "version": "3.7.1"
  }
 },
 "nbformat": 4,
 "nbformat_minor": 2
}
