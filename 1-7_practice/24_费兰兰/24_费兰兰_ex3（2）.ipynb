{
 "cells": [
  {
   "cell_type": "markdown",
   "metadata": {},
   "source": [
    "# 1.计算1+2+4.....+100的和"
   ]
  },
  {
   "cell_type": "code",
   "execution_count": 2,
   "metadata": {},
   "outputs": [
    {
     "name": "stdout",
     "output_type": "stream",
     "text": [
      "2551\n"
     ]
    }
   ],
   "source": [
    "sum = 1\n",
    "for i in range(2,101,2):\n",
    "    sum=sum+i\n",
    "print(sum)"
   ]
  },
  {
   "cell_type": "markdown",
   "metadata": {},
   "source": [
    "# 2.计算1+1/3+1/5....+1/99的和"
   ]
  },
  {
   "cell_type": "code",
   "execution_count": 3,
   "metadata": {},
   "outputs": [
    {
     "name": "stdout",
     "output_type": "stream",
     "text": [
      "2.937774848474907\n"
     ]
    }
   ],
   "source": [
    "sum=1\n",
    "for i in range(3,100,2):\n",
    "    sum = sum+1/i\n",
    "print(sum)\n"
   ]
  },
  {
   "cell_type": "markdown",
   "metadata": {},
   "source": [
    "# 3.从键盘输入一个字符串，直到回车结束，统计字符串中的大小写英文字母各有多少个"
   ]
  },
  {
   "cell_type": "code",
   "execution_count": 12,
   "metadata": {},
   "outputs": [
    {
     "name": "stdout",
     "output_type": "stream",
     "text": [
      "小写： 7 大写: 3\n"
     ]
    }
   ],
   "source": [
    "str=(\"hello WORld\")\n",
    "a=0\n",
    "b=0\n",
    "for i in str:\n",
    "    if i >=\"a\"  and i <= \"z\":\n",
    "       a=a+1\n",
    "    elif i >=\"A\" and i <= \"Z\":\n",
    "        b=b+1\n",
    "print(\"小写：\",a,\"大写:\",b)\n"
   ]
  },
  {
   "cell_type": "markdown",
   "metadata": {},
   "source": [
    "# 5.有一分数序列: 2/1, 3/2, 5/3,8/5, 13/8, 21/13...，. 求出这个数列的前20项之和"
   ]
  },
  {
   "cell_type": "code",
   "execution_count": 15,
   "metadata": {},
   "outputs": [
    {
     "name": "stdout",
     "output_type": "stream",
     "text": [
      "32.66026079864164\n"
     ]
    }
   ],
   "source": [
    "sum = 0\n",
    "a=2\n",
    "b=1\n",
    "for i in range(20):\n",
    "    sum = sum + a/b\n",
    "    a = a + b\n",
    "    b = a - b\n",
    "print(sum)\n",
    "    \n"
   ]
  },
  {
   "cell_type": "markdown",
   "metadata": {},
   "source": [
    "# 6.输入若干个同学的成绩,计算平均成绩,输入的成绩为负数或大于100时表示结束输入"
   ]
  },
  {
   "cell_type": "code",
   "execution_count": null,
   "metadata": {},
   "outputs": [],
   "source": [
    "s = 0\n",
    "n = 0\n",
    "while True:\n",
    "    m = float(input())\n",
    "    if m<0 or m>100:\n",
    "        break\n",
    "    s=s+m\n",
    "    n=n+1\n",
    "print(\"平均：\",s/n)"
   ]
  },
  {
   "cell_type": "markdown",
   "metadata": {},
   "source": [
    "# 7.输入三个正整数a、b、n,精确计算a/b的结果到小数后n位"
   ]
  },
  {
   "cell_type": "code",
   "execution_count": 1,
   "metadata": {},
   "outputs": [
    {
     "name": "stdout",
     "output_type": "stream",
     "text": [
      "a= 3\n",
      "b= 4\n",
      "n= 2\n",
      "0.75\n"
     ]
    }
   ],
   "source": [
    "import math\n",
    "a = int(input(\"a= \"))\n",
    "b = int(input(\"b= \"))\n",
    "n = int(input(\"n= \"))\n",
    "s = a/b\n",
    "print( round(s,n))"
   ]
  },
  {
   "cell_type": "markdown",
   "metadata": {},
   "source": [
    "# 8.一个猴子第一天摘下若干个桃子，当即吃了一半，还不过瘾，又多吃了一个。第二天早上又将剩下的桃子吃掉一半, 又多吃了一个。以后每天早上都吃了前一天剩下的一半零一个。到第10天早上想再吃时，见只剩下一个桃子了。求第一天共摘了多少"
   ]
  },
  {
   "cell_type": "code",
   "execution_count": 2,
   "metadata": {},
   "outputs": [
    {
     "name": "stdout",
     "output_type": "stream",
     "text": [
      "1534\n"
     ]
    }
   ],
   "source": [
    "n = 1\n",
    "s = 1\n",
    "while n <= 9:\n",
    "    s = (s + 1) * 2\n",
    "    n = n + 1\n",
    "print(s)"
   ]
  },
  {
   "cell_type": "markdown",
   "metadata": {},
   "source": [
    "# 9.有一序列: 1, 3，5, 8，13，2.... 用while循环求出这个数列的前20项之和#9.有一序列: 1, 3，5, 8，13，2.... 用while循环求出这个数列的前20项之和"
   ]
  },
  {
   "cell_type": "code",
   "execution_count": 3,
   "metadata": {},
   "outputs": [
    {
     "name": "stdout",
     "output_type": "stream",
     "text": [
      "1+3+5+8+13+21+34+55+89+144+233+377+610+987+1597+2584+4181+6765+10946+17711=46364\n"
     ]
    }
   ],
   "source": [
    "a=1\n",
    "b=2\n",
    "s=1\n",
    "t=\"1+\"\n",
    "i=0\n",
    "while i < 19:\n",
    "    c = a+b\n",
    "    s = s+c\n",
    "    t = t+str(c)\n",
    "    if(i<18):\n",
    "        t =t+\"+\"\n",
    "    a = b\n",
    "    b = c\n",
    "    i = i+1\n",
    "print(t+\"=\"+str(s))"
   ]
  },
  {
   "cell_type": "markdown",
   "metadata": {},
   "source": [
    "# 11.有近千名学生排队，7人1行余3人，5人一行余2人，3人一行余1人，编写程序求学生人数。"
   ]
  },
  {
   "cell_type": "code",
   "execution_count": 4,
   "metadata": {},
   "outputs": [
    {
     "name": "stdout",
     "output_type": "stream",
     "text": [
      "997\n"
     ]
    }
   ],
   "source": [
    "for i in range(900,1000):\n",
    "    if (((i % 5) == 2) and ((i % 7) == 3) and ((i % 3) == 1)):\n",
    "        print(i)"
   ]
  },
  {
   "cell_type": "markdown",
   "metadata": {},
   "source": [
    "# 12.小华今年12岁，他妈妈比他大20岁，编写程序计算多少年后他妈妈年龄比他大-一倍"
   ]
  },
  {
   "cell_type": "code",
   "execution_count": 5,
   "metadata": {},
   "outputs": [
    {
     "name": "stdout",
     "output_type": "stream",
     "text": [
      "8\n"
     ]
    }
   ],
   "source": [
    "for i in range(1,100):\n",
    "    if ((i + 12) * 2) == (i +32):\n",
    "        print(i)"
   ]
  },
  {
   "cell_type": "code",
   "execution_count": null,
   "metadata": {},
   "outputs": [],
   "source": []
  }
 ],
 "metadata": {
  "kernelspec": {
   "display_name": "Python 3",
   "language": "python",
   "name": "python3"
  },
  "language_info": {
   "codemirror_mode": {
    "name": "ipython",
    "version": 3
   },
   "file_extension": ".py",
   "mimetype": "text/x-python",
   "name": "python",
   "nbconvert_exporter": "python",
   "pygments_lexer": "ipython3",
   "version": "3.7.1"
  }
 },
 "nbformat": 4,
 "nbformat_minor": 2
}
