{
 "cells": [
  {
   "cell_type": "markdown",
   "metadata": {},
   "source": [
    "# 能直接修改字符串的某个字符吗？"
   ]
  },
  {
   "cell_type": "code",
   "execution_count": 11,
   "metadata": {},
   "outputs": [
    {
     "name": "stdout",
     "output_type": "stream",
     "text": [
      "['a', 'b', 'c']\n",
      "[1, 'b', 'c']\n"
     ]
    }
   ],
   "source": [
    "s=list(\"abc\")\n",
    "print(s)\n",
    "s[0]=1\n",
    "print(s)\n",
    "\n"
   ]
  },
  {
   "cell_type": "markdown",
   "metadata": {},
   "source": [
    "# 输入一个字符串，输出他所包含的所有数字"
   ]
  },
  {
   "cell_type": "code",
   "execution_count": 1,
   "metadata": {},
   "outputs": [
    {
     "name": "stdout",
     "output_type": "stream",
     "text": [
      "233\n"
     ]
    }
   ],
   "source": [
    "import re\n",
    "s=\"23me3e\"\n",
    "str=re.sub(\"\\D\",\"\",s)\n",
    "print(str)"
   ]
  },
  {
   "cell_type": "markdown",
   "metadata": {},
   "source": [
    "# 设计一个字符串函数reverse(s),它返回字符串s的反串"
   ]
  },
  {
   "cell_type": "code",
   "execution_count": 15,
   "metadata": {},
   "outputs": [
    {
     "name": "stdout",
     "output_type": "stream",
     "text": [
      "cba\n"
     ]
    }
   ],
   "source": [
    "s=(\"abc\")\n",
    "str=s[::-1]\n",
    "print(str)"
   ]
  },
  {
   "cell_type": "markdown",
   "metadata": {},
   "source": [
    "# 元祖与列表有什么不同"
   ]
  },
  {
   "cell_type": "markdown",
   "metadata": {},
   "source": [
    "# 元组使用小括号，列表使用方括号。元组中的元素值是不允许修改的，但列表可以。元组中的元素值是不允许删除的，但列表元素值可以删除。同理，元组没有pop、insert、append等对元组进行修改删除插入的方法或函数。\n"
   ]
  },
  {
   "cell_type": "markdown",
   "metadata": {},
   "source": [
    "# 5一个列表中的元素类型要求一致吗？"
   ]
  },
  {
   "cell_type": "markdown",
   "metadata": {},
   "source": [
    "# 可以不同"
   ]
  },
  {
   "cell_type": "markdown",
   "metadata": {},
   "source": [
    "# 6、列表是否还可以嵌套别的列表"
   ]
  },
  {
   "cell_type": "markdown",
   "metadata": {},
   "source": [
    "# 可以"
   ]
  },
  {
   "cell_type": "code",
   "execution_count": null,
   "metadata": {},
   "outputs": [],
   "source": [
    "s={[123],[1]}"
   ]
  },
  {
   "cell_type": "markdown",
   "metadata": {},
   "source": [
    "# 7、用一个字典描述一个日期，包含年year、月month、日day的键字"
   ]
  },
  {
   "cell_type": "code",
   "execution_count": 29,
   "metadata": {},
   "outputs": [
    {
     "name": "stdout",
     "output_type": "stream",
     "text": [
      "{'年': 2020, '月': 3, '日': 10}\n"
     ]
    }
   ],
   "source": [
    "dic={}\n",
    "dic[\"年\"] = 2020\n",
    "dic[\"月\"] = 3\n",
    "dic[\"日\"] = 10\n",
    "print(dic)"
   ]
  },
  {
   "cell_type": "markdown",
   "metadata": {},
   "source": [
    "# 8、Python的字典数据类型与JSON数据类有很多相似的地方，说明有哪些共同点"
   ]
  },
  {
   "cell_type": "markdown",
   "metadata": {},
   "source": [
    "# json是一种数据的表现形式，是一种数据格式、字典是一种数据结构。字典中的键key，只要是hashable的数据类型即可；但是json的键key（属性名称），必须是用双引号引起来的字符串。"
   ]
  },
  {
   "cell_type": "markdown",
   "metadata": {},
   "source": [
    "# 9、写出下列程序的结果"
   ]
  },
  {
   "cell_type": "code",
   "execution_count": 30,
   "metadata": {},
   "outputs": [
    {
     "name": "stdout",
     "output_type": "stream",
     "text": [
      "name A\n",
      "sex M\n",
      "name B\n",
      "sex C\n"
     ]
    }
   ],
   "source": [
    "d={\"students\":[{\"name\":\"A\",\"sex\":\"M\"},{\"name\":\"B\",\"sex\":\"C\"}]}\n",
    "for k1 in d.keys():\n",
    "    for k2 in d[k1]:\n",
    "        for k3 in k2.keys():\n",
    "            print(k3,k2[k3])\n",
    "        "
   ]
  },
  {
   "cell_type": "markdown",
   "metadata": {},
   "source": [
    "# 10、字典"
   ]
  },
  {
   "cell_type": "code",
   "execution_count": null,
   "metadata": {},
   "outputs": [],
   "source": []
  }
 ],
 "metadata": {
  "kernelspec": {
   "display_name": "Python 3",
   "language": "python",
   "name": "python3"
  },
  "language_info": {
   "codemirror_mode": {
    "name": "ipython",
    "version": 3
   },
   "file_extension": ".py",
   "mimetype": "text/x-python",
   "name": "python",
   "nbconvert_exporter": "python",
   "pygments_lexer": "ipython3",
   "version": "3.7.1"
  }
 },
 "nbformat": 4,
 "nbformat_minor": 2
}
