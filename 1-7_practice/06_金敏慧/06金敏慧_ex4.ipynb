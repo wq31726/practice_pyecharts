{
 "cells": [
  {
   "cell_type": "code",
   "execution_count": 3,
   "metadata": {},
   "outputs": [
    {
     "name": "stdout",
     "output_type": "stream",
     "text": [
      "['a', 'b', 'c']\n",
      "1bc\n"
     ]
    }
   ],
   "source": [
    "#能直接修改字符串的某个字符吗？例如 s=\"abc\",s[0]= \"1\"可以吗？\n",
    "s = \"abc\"\n",
    "list1 = list(s)\n",
    "print(list1)\n",
    "list1[0] = \"1\"  \n",
    "s = \"\".join(list1)   \n",
    "print(s)                      "
   ]
  },
  {
   "cell_type": "code",
   "execution_count": 11,
   "metadata": {},
   "outputs": [
    {
     "name": "stdout",
     "output_type": "stream",
     "text": [
      "[23, 3]\n"
     ]
    }
   ],
   "source": [
    "#输入一个字符串，输出它所包含的所有数字，例如输入\"23me3e\"，输出\"233\"\n",
    "s = \"23me3e\"\n",
    "l = len(s) \n",
    "numbers = []\n",
    "i = 0\n",
    "while i < l:\n",
    "    num = ''\n",
    "    symbol = s[i]\n",
    "    while '0' <= symbol <= '9': # symbol.isdigit()\n",
    "        num += symbol\n",
    "        i += 1\n",
    "        if i < l:\n",
    "            symbol = s[i]\n",
    "        else:\n",
    "            break\n",
    "    i += 1\n",
    "    if num != '':\n",
    "        numbers.append(int(num))\n",
    "print(numbers)"
   ]
  },
  {
   "cell_type": "code",
   "execution_count": 17,
   "metadata": {},
   "outputs": [],
   "source": [
    "#设计一个字符串函数 reverse(s)，它返回字符串 s 的反串，例如 reverse(\"abc\")返回\n",
    "#\"cba\"。\n",
    "def reverse1():\n",
    " s=input(\"请输入需要反转的内容：\")\n",
    " return s[::-1]\n",
    "reverse1()"
   ]
  },
  {
   "cell_type": "code",
   "execution_count": 20,
   "metadata": {},
   "outputs": [
    {
     "data": {
      "text/plain": [
       "24"
      ]
     },
     "execution_count": 20,
     "metadata": {},
     "output_type": "execute_result"
    }
   ],
   "source": [
    "#元祖与列表有什么不同？\n",
    "\n",
    "#元祖\n",
    "listdemo = []\n",
    "listdemo.__sizeof__()\n",
    " \n",
    "#列表\n",
    "tupleDemo = ()\n",
    "tupleDemo.__sizeof__()\n",
    "\n",
    "#列表字节比元祖多"
   ]
  },
  {
   "cell_type": "code",
   "execution_count": null,
   "metadata": {},
   "outputs": [],
   "source": [
    "#一个列表中的元素类型要求一致吗？例如 list=[1, \"a\"]是正确的吗？\n",
    "#列表的元素类型可以不同。正确的"
   ]
  },
  {
   "cell_type": "code",
   "execution_count": 23,
   "metadata": {},
   "outputs": [
    {
     "name": "stdout",
     "output_type": "stream",
     "text": [
      "4\n",
      "[2019, 'z']\n",
      "3\n",
      "['zhang', 'phil', [1, 2, 3]]\n",
      "zhang\n",
      "1\n",
      "3\n",
      "1\n"
     ]
    }
   ],
   "source": [
    "#列表是否还可以嵌套别的列表？列举一个例子说明。\n",
    "a = [2019, \"z\", [\"zhang\", 'phil', [1, 2, 3]], 2018]\n",
    "print(len(a))\n",
    "print(a[:2])\n",
    "print(len(a[2]))\n",
    "print(a[2])\n",
    "print(a[2][0])\n",
    "print(a[2][2][0])\n",
    "print(max(a[2][2]))\n",
    "print(min(a[2][2]))"
   ]
  },
  {
   "cell_type": "code",
   "execution_count": 27,
   "metadata": {},
   "outputs": [],
   "source": [
    "#用一个字典描述一个日期，包含年 year、月 month、日 day 的键字。\n",
    "d={'year':2020,'month':3,'day':5}"
   ]
  },
  {
   "cell_type": "code",
   "execution_count": null,
   "metadata": {},
   "outputs": [],
   "source": [
    "#Python 的字典数据类型与 JSON 数据类有很多相似的地方，说明有哪些共同点。\n",
    "#从形式上看，都是“Key：Value”的形式。\n",
    "#但是从本质上讲，字典是一种数据结构，而json是一种格式；\n",
    "#字典有很多内置函数，有多种调用方法，而json是数据打包的一种格式，并不像字典具备操作性，并且是格式就会有一些形式上的限制，\n",
    "#比如json的格式要求必须且只能使用双引号作为key或者值的边界符号，不能使用单引号，而且“key”必须使用边界符（双引号），但字典就无所谓了。\n",
    "#Python中提供了json.load()转换函数，方便json数据的调用。"
   ]
  },
  {
   "cell_type": "code",
   "execution_count": 29,
   "metadata": {},
   "outputs": [
    {
     "ename": "IndentationError",
     "evalue": "expected an indented block (<ipython-input-29-c04ff1072e32>, line 3)",
     "output_type": "error",
     "traceback": [
      "\u001b[1;36m  File \u001b[1;32m\"<ipython-input-29-c04ff1072e32>\"\u001b[1;36m, line \u001b[1;32m3\u001b[0m\n\u001b[1;33m    for k2 in d[k1]:\u001b[0m\n\u001b[1;37m      ^\u001b[0m\n\u001b[1;31mIndentationError\u001b[0m\u001b[1;31m:\u001b[0m expected an indented block\n"
     ]
    }
   ],
   "source": [
    "#9\n",
    "d={\"students\":[{\"name\":\"A\",\"sex\":\"M\"},{\"name\":\"B\",\"sex\":\"C\"}]}\n",
    "for k1 in d.keys():\n",
    "for k2 in d[k1]:\n",
    "for k3 in k2.keys():\n",
    "    print(k3,k2[k3])"
   ]
  },
  {
   "cell_type": "code",
   "execution_count": null,
   "metadata": {},
   "outputs": [],
   "source": [
    "#如果使用字典描述一个时间，例如 t={\" hour\":12, \"minute\":23, \"second\":34}表示\n",
    "#时间\"12:23:34\",设计一个函数 interval(t1,t2)，计算时间 t1 与 t2 的时间差，返回相\n",
    "#同结构的一个字典时间。\n"
   ]
  }
 ],
 "metadata": {
  "kernelspec": {
   "display_name": "Python 3",
   "language": "python",
   "name": "python3"
  },
  "language_info": {
   "codemirror_mode": {
    "name": "ipython",
    "version": 3
   },
   "file_extension": ".py",
   "mimetype": "text/x-python",
   "name": "python",
   "nbconvert_exporter": "python",
   "pygments_lexer": "ipython3",
   "version": "3.7.1"
  }
 },
 "nbformat": 4,
 "nbformat_minor": 2
}
