{
 "cells": [
  {
   "cell_type": "markdown",
   "metadata": {},
   "source": [
    "# 1、输入a、b、c三个参数，求解ax2+bx+c=0的两个根，假定b2-4ac>0"
   ]
  },
  {
   "cell_type": "code",
   "execution_count": 1,
   "metadata": {},
   "outputs": [
    {
     "name": "stdout",
     "output_type": "stream",
     "text": [
      "(-2.0916730868040165, -12.908326913195985)\n"
     ]
    }
   ],
   "source": [
    "import math\n",
    "def get_res(a,b,c):\n",
    "    x = b*b - 4*a*c\n",
    "    if x <=0:\n",
    "        return \"error\"\n",
    "    x1 = (-b+math.sqrt(x))/2*a\n",
    "    x2 = (-b-math.sqrt(x))/2*a\n",
    "    return (x1,x2)\n",
    "print(get_res(3,5,1))"
   ]
  },
  {
   "cell_type": "markdown",
   "metadata": {},
   "source": [
    "# 2、计算三角形的面积"
   ]
  },
  {
   "cell_type": "code",
   "execution_count": 8,
   "metadata": {},
   "outputs": [
    {
     "name": "stdout",
     "output_type": "stream",
     "text": [
      "三角形的第一边长3\n",
      "三角形的第二边长3\n",
      "三角形的第三边长3\n",
      "三角形的面积等于 3.897114317029974\n"
     ]
    }
   ],
   "source": [
    "import math\n",
    "a = int(input('三角形的第一边长'))\n",
    "b = int(input('三角形的第二边长'))\n",
    "c = int(input('三角形的第三边长'))\n",
    "\n",
    "p =( a+b+c)/2\n",
    "\n",
    "s = math.sqrt(p*(p-a)*(p-b)*(p-c))\n",
    "print('三角形的面积等于',s)"
   ]
  },
  {
   "cell_type": "markdown",
   "metadata": {},
   "source": [
    "# 3、输入一个字母，判断它是否为小写英文字母"
   ]
  },
  {
   "cell_type": "code",
   "execution_count": 2,
   "metadata": {},
   "outputs": [
    {
     "name": "stdout",
     "output_type": "stream",
     "text": [
      "输入一个字母：k\n",
      "您输入的 k 为小写字母！\n"
     ]
    }
   ],
   "source": [
    "x = input('输入一个字母：')\n",
    "num = ord(x)\n",
    "if 65 <= num <= 90:\n",
    "    print('您输入的 %s 为大写字母！'%x)\n",
    "elif 97 <= num <= 122:\n",
    "    print('您输入的 %s 为小写字母！'%x)\n",
    "else:\n",
    "    print('输入有误！')\n"
   ]
  },
  {
   "cell_type": "markdown",
   "metadata": {},
   "source": [
    "# 4、从键盘输入五个字符，统计’0’字符的出现次数"
   ]
  },
  {
   "cell_type": "code",
   "execution_count": 14,
   "metadata": {},
   "outputs": [
    {
     "ename": "NameError",
     "evalue": "name '不会' is not defined",
     "output_type": "error",
     "traceback": [
      "\u001b[1;31m---------------------------------------------------------------------------\u001b[0m",
      "\u001b[1;31mNameError\u001b[0m                                 Traceback (most recent call last)",
      "\u001b[1;32m<ipython-input-14-ef8b1ca40ee3>\u001b[0m in \u001b[0;36m<module>\u001b[1;34m\u001b[0m\n\u001b[1;32m----> 1\u001b[1;33m \u001b[0m不会\u001b[0m\u001b[1;33m\u001b[0m\u001b[1;33m\u001b[0m\u001b[0m\n\u001b[0m",
      "\u001b[1;31mNameError\u001b[0m: name '不会' is not defined"
     ]
    }
   ],
   "source": [
    "unknown"
   ]
  },
  {
   "cell_type": "markdown",
   "metadata": {},
   "source": [
    "# 5、输入两个整数判断哪个大并输出结果"
   ]
  },
  {
   "cell_type": "code",
   "execution_count": 9,
   "metadata": {},
   "outputs": [
    {
     "name": "stdout",
     "output_type": "stream",
     "text": [
      "请输入第一个整数：2\n",
      "请输入第二个整数：5\n",
      "5最大\n"
     ]
    }
   ],
   "source": [
    " a = int(input('请输入第一个整数：'))\n",
    " b = int(input('请输入第二个整数：'))\n",
    " if a > b:\n",
    " \tprint('%s最大'%a)\n",
    " elif a < b:\n",
    " \tprint('%s最大'%b)\n",
    " else:\n",
    " \tprint('a = b')"
   ]
  },
  {
   "cell_type": "markdown",
   "metadata": {},
   "source": [
    "# 6、输入一个字母，如果它是一个小写的英文字母，则把它变为对应大写字母输出"
   ]
  },
  {
   "cell_type": "code",
   "execution_count": 10,
   "metadata": {},
   "outputs": [
    {
     "name": "stdout",
     "output_type": "stream",
     "text": [
      "请输入一个小写英文字母:A\n",
      "不是小写字母!\n"
     ]
    }
   ],
   "source": [
    "x = input(\"请输入一个小写英文字母:\");\n",
    "if(ord(x) >= ord('a') and ord(x) <= ord('z')):\n",
    "    print(x.upper());\n",
    "else:   \n",
    "    print(\"不是小写字母!\")"
   ]
  },
  {
   "cell_type": "markdown",
   "metadata": {},
   "source": [
    "# 7、输入一个年份，判断它是否为闰年"
   ]
  },
  {
   "cell_type": "code",
   "execution_count": 11,
   "metadata": {},
   "outputs": [
    {
     "name": "stdout",
     "output_type": "stream",
     "text": [
      "输入一个年份：2001\n",
      "2001年不是闰年\n"
     ]
    }
   ],
   "source": [
    "year=int(input(\"输入一个年份：\"))\n",
    "if year % 100 == 0:\n",
    "    if year % 400 == 0:\n",
    "        print('%d年是闰年' %year)\n",
    "    else:\n",
    "        print('%d年不是闰年' %year)\n",
    "else:\n",
    "    if year%4==0:\n",
    "        print('%d年是闰年' %year)\n",
    "    else:\n",
    "        print('%d年不是闰年' %year)"
   ]
  },
  {
   "cell_type": "markdown",
   "metadata": {},
   "source": [
    "# 8、从键盘输入a、b两个数，按大小顺序输出它们"
   ]
  },
  {
   "cell_type": "code",
   "execution_count": 12,
   "metadata": {},
   "outputs": [
    {
     "name": "stdout",
     "output_type": "stream",
     "text": [
      "error\n"
     ]
    }
   ],
   "source": [
    "def get_res(a,b):\n",
    "    x = a\n",
    "    y = b\n",
    "    if x > y:\n",
    "        return (x,y)\n",
    "    elif x < y:\n",
    "        return (y,x)\n",
    "    else:\n",
    "        return ('error')\n",
    "print(get_res(2,2))   "
   ]
  },
  {
   "cell_type": "markdown",
   "metadata": {},
   "source": [
    "# 9、输入a、b、c三个整数，找出最小的数"
   ]
  },
  {
   "cell_type": "code",
   "execution_count": 13,
   "metadata": {},
   "outputs": [
    {
     "name": "stdout",
     "output_type": "stream",
     "text": [
      "10\n"
     ]
    }
   ],
   "source": [
    "def f(a,b,c):\n",
    "    min = a\n",
    "    if b < min:\n",
    "        min =b\n",
    "        if c < min:\n",
    "            min = c\n",
    "            return c\n",
    "        else:\n",
    "            return b\n",
    "    elif c < min:\n",
    "        min = c\n",
    "        return c\n",
    "    else:\n",
    "        return a\n",
    "print(f(17,18,10))"
   ]
  },
  {
   "cell_type": "markdown",
   "metadata": {},
   "source": [
    "# 10，11"
   ]
  },
  {
   "cell_type": "code",
   "execution_count": 16,
   "metadata": {},
   "outputs": [
    {
     "ename": "NameError",
     "evalue": "name 'unknown' is not defined",
     "output_type": "error",
     "traceback": [
      "\u001b[1;31m---------------------------------------------------------------------------\u001b[0m",
      "\u001b[1;31mNameError\u001b[0m                                 Traceback (most recent call last)",
      "\u001b[1;32m<ipython-input-16-2d7bb5572221>\u001b[0m in \u001b[0;36m<module>\u001b[1;34m\u001b[0m\n\u001b[1;32m----> 1\u001b[1;33m \u001b[0munknown\u001b[0m\u001b[1;33m\u001b[0m\u001b[1;33m\u001b[0m\u001b[0m\n\u001b[0m",
      "\u001b[1;31mNameError\u001b[0m: name 'unknown' is not defined"
     ]
    }
   ],
   "source": [
    "unknown"
   ]
  },
  {
   "cell_type": "code",
   "execution_count": null,
   "metadata": {},
   "outputs": [],
   "source": []
  }
 ],
 "metadata": {
  "kernelspec": {
   "display_name": "Python 3",
   "language": "python",
   "name": "python3"
  },
  "language_info": {
   "codemirror_mode": {
    "name": "ipython",
    "version": 3
   },
   "file_extension": ".py",
   "mimetype": "text/x-python",
   "name": "python",
   "nbconvert_exporter": "python",
   "pygments_lexer": "ipython3",
   "version": "3.7.4"
  }
 },
 "nbformat": 4,
 "nbformat_minor": 2
}
