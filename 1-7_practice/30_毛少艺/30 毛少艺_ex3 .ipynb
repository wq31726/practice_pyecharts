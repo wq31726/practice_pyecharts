{
 "cells": [
  {
   "cell_type": "markdown",
   "metadata": {},
   "source": [
    "### 计算1+2+4+…+100的和"
   ]
  },
  {
   "cell_type": "code",
   "execution_count": 1,
   "metadata": {},
   "outputs": [
    {
     "name": "stdout",
     "output_type": "stream",
     "text": [
      "5050\n"
     ]
    }
   ],
   "source": [
    "a=0\n",
    "for i in range(101):\n",
    "    a=a+i\n",
    "\n",
    "print(a)"
   ]
  },
  {
   "cell_type": "markdown",
   "metadata": {},
   "source": [
    "### 计算1+1/3+1/5+…+1/99的和。"
   ]
  },
  {
   "cell_type": "code",
   "execution_count": 2,
   "metadata": {},
   "outputs": [
    {
     "name": "stdout",
     "output_type": "stream",
     "text": [
      "2.937774848474907\n"
     ]
    }
   ],
   "source": [
    "b=0\n",
    "for i in range(1,100,2):\n",
    "    b=b+1/i\n",
    "    \n",
    "print(b)"
   ]
  },
  {
   "cell_type": "markdown",
   "metadata": {},
   "source": [
    "### 从键盘输入一个字符串，直到回车结束，统计字符串中的大小写英文字母各有多少个。"
   ]
  },
  {
   "cell_type": "code",
   "execution_count": 16,
   "metadata": {},
   "outputs": [
    {
     "name": "stdout",
     "output_type": "stream",
     "text": [
      "请输入一个字符串lihu I\n",
      "大写字符串有：1 小写字符串有:4\n"
     ]
    }
   ],
   "source": [
    "words=input('请输入一个字符串')\n",
    "#大写字符串\n",
    "A=[]\n",
    "#小写字符串\n",
    "a=[]\n",
    "for word in words:\n",
    "    if word==' ':\n",
    "        pass\n",
    "    elif word.upper()==word:\n",
    "        A.append(word)\n",
    "\n",
    "    else:\n",
    "        a.append(word)\n",
    "print('大写字符串有：'+str(len(A)), '小写字符串有:'+str(len(a)))"
   ]
  },
  {
   "cell_type": "markdown",
   "metadata": {},
   "source": [
    "### 有一分数序列：2/1，3/2，5/3，8/5，13/8，21/13…，求出这个数列的前20项之和。"
   ]
  },
  {
   "cell_type": "code",
   "execution_count": 3,
   "metadata": {},
   "outputs": [
    {
     "name": "stdout",
     "output_type": "stream",
     "text": [
      "32.66026079864164\n"
     ]
    }
   ],
   "source": [
    "a=2\n",
    "b=1\n",
    "\n",
    "s=0\n",
    "for i in range(1,21):\n",
    "    s=s+a/b\n",
    "    t=a\n",
    "    a=a+b\n",
    "    b=t\n",
    "    \n",
    "print(s)\n",
    "\n",
    "    \n",
    "    \n",
    "    \n"
   ]
  },
  {
   "cell_type": "markdown",
   "metadata": {},
   "source": [
    "### 输入若干同学的成绩，计算平均成绩"
   ]
  },
  {
   "cell_type": "code",
   "execution_count": 45,
   "metadata": {},
   "outputs": [
    {
     "name": "stdout",
     "output_type": "stream",
     "text": [
      "请输入学生的成绩：或按Q停止输入：1\n",
      "请输入学生的成绩：或按Q停止输入：2\n",
      "请输入学生的成绩：或按Q停止输入：3\n",
      "请输入学生的成绩：或按Q停止输入：Q\n",
      "2.0\n"
     ]
    }
   ],
   "source": [
    "#命名一个符合成绩的变量 并将用户输出的成绩放入列表中\n",
    "grade=[]\n",
    "\n",
    "while True:\n",
    "    \n",
    "    score=input('请输入学生的成绩：或按Q停止输入：')\n",
    "    if score==\"Q\":\n",
    "        break\n",
    "        \n",
    "    elif int(score)<0 and int(score)>100:\n",
    "        break\n",
    "        \n",
    "    else:\n",
    "        grade.append(int(score))\n",
    "\n",
    "grades=0\n",
    "#对符合列表的成绩进行求和计算\n",
    "for num in grade:\n",
    "    grades=grades+num\n",
    "    \n",
    "\n",
    "\n",
    "#打印出学生平均的成绩\n",
    "print(grades/len(grade))   "
   ]
  },
  {
   "cell_type": "markdown",
   "metadata": {},
   "source": [
    "### 输入三个正整数a、b、n，精确计算a/b的结果到小数后n位。"
   ]
  },
  {
   "cell_type": "code",
   "execution_count": 73,
   "metadata": {},
   "outputs": [
    {
     "name": "stdout",
     "output_type": "stream",
     "text": [
      "请输入正整数a:6\n",
      "请输入正整数b:3\n",
      "请输入正整数n:2\n",
      "2.00\n"
     ]
    }
   ],
   "source": [
    "a=int(input('请输入正整数a:'))\n",
    "b=int(input('请输入正整数b:'))\n",
    "n=int(input('请输入正整数n:'))\n",
    "\n",
    "num=a/b\n",
    "\n",
    "d='%.{}f'.format(n)\n",
    "\n",
    "print(d %num)"
   ]
  },
  {
   "cell_type": "markdown",
   "metadata": {},
   "source": [
    "### 猴子摘桃"
   ]
  },
  {
   "cell_type": "code",
   "execution_count": 4,
   "metadata": {},
   "outputs": [
    {
     "name": "stdout",
     "output_type": "stream",
     "text": [
      "10\n",
      "1534\n"
     ]
    }
   ],
   "source": [
    "days = int(input())\n",
    "t = 1\n",
    "for i in range(days-1):\n",
    "    t = (t+1)*2\n",
    "print(t)"
   ]
  },
  {
   "cell_type": "markdown",
   "metadata": {},
   "source": [
    "### 有一序列：1，3，5，8，13，21..，用while循环求出这个数列的前20项之和。"
   ]
  },
  {
   "cell_type": "code",
   "execution_count": null,
   "metadata": {},
   "outputs": [],
   "source": [
    "\n",
    "    \n",
    "\n",
    "    \n",
    "    "
   ]
  },
  {
   "cell_type": "markdown",
   "metadata": {},
   "source": [
    "### 一个数如正好等于它的所有因子之和，则称为完数，例如6的因子有1、2、3，而6=1+2+3，因此6是一个完数。编程序找出1000之内的所有完数。"
   ]
  },
  {
   "cell_type": "code",
   "execution_count": 23,
   "metadata": {},
   "outputs": [
    {
     "name": "stdout",
     "output_type": "stream",
     "text": [
      "6是一个完数，分解因子为：\n",
      "[1, 2, 3]\n",
      "28是一个完数，分解因子为：\n",
      "[1, 2, 4, 7, 14]\n",
      "496是一个完数，分解因子为：\n",
      "[1, 2, 4, 8, 16, 31, 62, 124, 248]\n"
     ]
    }
   ],
   "source": [
    "numbers = [ ]\n",
    "for n in range (1,1000):\n",
    "    for a in range (1,n):\n",
    "        if n%a ==0:\n",
    "            numbers.append(a)\n",
    "    if sum(numbers)==n:\n",
    "        print (str(n)+'是一个完数，分解因子为：')\n",
    "        print (numbers)\n",
    "    numbers= []\n"
   ]
  },
  {
   "cell_type": "markdown",
   "metadata": {},
   "source": [
    "### .有近千名学生排队，7人一行余3人，5人一行余2人，3人一行余1人，编写程序求学生人数。"
   ]
  },
  {
   "cell_type": "code",
   "execution_count": null,
   "metadata": {},
   "outputs": [],
   "source": [
    "sums%7=3\n",
    "sums&5=2\n",
    "suns%3=1\n"
   ]
  },
  {
   "cell_type": "markdown",
   "metadata": {},
   "source": [
    "### 小华今年12岁，他妈妈比他大20岁，编写程序计算多少年后他妈妈年龄比他大一倍。"
   ]
  },
  {
   "cell_type": "code",
   "execution_count": null,
   "metadata": {},
   "outputs": [
    {
     "name": "stdout",
     "output_type": "stream",
     "text": [
      "8 年后小华比他妈妈年龄大\n"
     ]
    }
   ],
   "source": [
    "a=12\n",
    "b=32\n",
    "i=0\n",
    "while True:\n",
    "    i=i+1\n",
    "    c=a+i\n",
    "    d=b+i\n",
    "\n",
    "    if  c*2==d:\n",
    "        print(str(i)+' 年后小华比他妈妈年龄大')\n",
    "    \n",
    "   \n"
   ]
  },
  {
   "cell_type": "markdown",
   "metadata": {},
   "source": [
    "### 两个乒乓球队进行比赛，各出三人。甲队为a，b，c三人，乙队为x，y，z三人。已抽签决定比赛名单。有人向队员打听比赛的名单。a说他不和x比，c说他不和x，z比，请编程序找出三队赛手的名单。"
   ]
  },
  {
   "cell_type": "code",
   "execution_count": 1,
   "metadata": {},
   "outputs": [
    {
     "name": "stdout",
     "output_type": "stream",
     "text": [
      "a vs z, b vs x, c vs y\n"
     ]
    }
   ],
   "source": [
    "for i in range(ord('x'), ord('z')+1):  #假设a,b,c的对手分别是i,j,k\n",
    "    for j in range(ord('x'), ord('z')+1):  #用3个for穷举i,j,k可能出现的所有组合\n",
    "        for k in range(ord('x'), ord('z')+1):\n",
    "            if i != j and j != k and k != i:  #条件1：i,j,k不能同时出现\n",
    "                if i != ord('x') and k != ord('x') and k != ord('z'):  #条件2：a不对x，c不对x,z\n",
    "                    print('a vs %s, b vs %s, c vs %s' % (chr(i), chr(j), chr(k)))"
   ]
  },
  {
   "cell_type": "markdown",
   "metadata": {},
   "source": [
    "### 目前世界人口是60亿，如每年按1.5%的比例增长，则多少年后是80亿？"
   ]
  },
  {
   "cell_type": "code",
   "execution_count": null,
   "metadata": {},
   "outputs": [],
   "source": [
    "a=60\n",
    "i=0\n",
    "\n",
    "while True:\n",
    "    i=i+1\n",
    "    a=a*(1+0.015)\n",
    "    \n",
    "    if a==80:\n",
    "        print(i)\n",
    "        \n",
    "        break\n",
    "        "
   ]
  },
  {
   "cell_type": "markdown",
   "metadata": {},
   "source": [
    "### 一球从80米高度自由下落，每次落地后返回原高度的一半，再落下。求它在第10次落地时共经过多少米？第10次反弹多高？"
   ]
  },
  {
   "cell_type": "code",
   "execution_count": 6,
   "metadata": {},
   "outputs": [],
   "source": [
    "a=60\n",
    "i=0\n",
    "i=i+1\n",
    "for i in range(40):\n",
    "    i=i+1\n",
    "    a=a*(1+0.015)\n",
    "    \n",
    "    if a==80:\n",
    "        print(i)\n",
    "       \n",
    "    \n",
    "\n"
   ]
  },
  {
   "cell_type": "code",
   "execution_count": null,
   "metadata": {},
   "outputs": [],
   "source": []
  }
 ],
 "metadata": {
  "kernelspec": {
   "display_name": "Python 3",
   "language": "python",
   "name": "python3"
  },
  "language_info": {
   "codemirror_mode": {
    "name": "ipython",
    "version": 3
   },
   "file_extension": ".py",
   "mimetype": "text/x-python",
   "name": "python",
   "nbconvert_exporter": "python",
   "pygments_lexer": "ipython3",
   "version": "3.7.3"
  },
  "toc": {
   "base_numbering": 1,
   "nav_menu": {},
   "number_sections": true,
   "sideBar": true,
   "skip_h1_title": false,
   "title_cell": "Table of Contents",
   "title_sidebar": "Contents",
   "toc_cell": false,
   "toc_position": {},
   "toc_section_display": true,
   "toc_window_display": false
  }
 },
 "nbformat": 4,
 "nbformat_minor": 2
}
