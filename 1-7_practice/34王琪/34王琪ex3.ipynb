{
 "cells": [
  {
   "cell_type": "markdown",
   "metadata": {},
   "source": [
    "# 1.计算1+2+4+·····+100的和。"
   ]
  },
  {
   "cell_type": "code",
   "execution_count": 2,
   "metadata": {},
   "outputs": [
    {
     "name": "stdout",
     "output_type": "stream",
     "text": [
      "5050\n"
     ]
    }
   ],
   "source": [
    "s=0\n",
    "for i in range(1,101):\n",
    "    s=i+s\n",
    "print(s)"
   ]
  },
  {
   "cell_type": "markdown",
   "metadata": {},
   "source": [
    "# 2.计算1+1/3+1/5+······+1/99的和。"
   ]
  },
  {
   "cell_type": "code",
   "execution_count": 2,
   "metadata": {},
   "outputs": [
    {
     "name": "stdout",
     "output_type": "stream",
     "text": [
      "2.947875858575917\n"
     ]
    }
   ],
   "source": [
    "sum=0\n",
    "for i in range(1,100,2):\n",
    "    sum=1/i+s\n",
    "print(sum)"
   ]
  },
  {
   "cell_type": "markdown",
   "metadata": {},
   "source": [
    "# 3.从键盘输入一个字符串，直到回车结束，统计字符串中的大小写英文字母各有多少个。"
   ]
  },
  {
   "cell_type": "code",
   "execution_count": 3,
   "metadata": {},
   "outputs": [
    {
     "name": "stdin",
     "output_type": "stream",
     "text": [
      "请输入一个字符串 FHS66fhUUfhiie   5789\n"
     ]
    },
    {
     "name": "stdout",
     "output_type": "stream",
     "text": [
      "大写字母有： 5 小写字母有: 7\n"
     ]
    }
   ],
   "source": [
    "n=input(\"请输入一个字符串\")\n",
    "upper=0\n",
    "lower=0\n",
    "for i in n:\n",
    "    if 'A'<=i<='Z':\n",
    "        upper=upper+1\n",
    "    elif 'a'<=i<='z':\n",
    "        lower=lower+1\n",
    "    else:\n",
    "        continue\n",
    "print(\"大写字母有：\",upper,\"小写字母有:\",lower)        "
   ]
  },
  {
   "cell_type": "markdown",
   "metadata": {},
   "source": [
    "# 5.有一分数序列：2/1，3/2，5/3，8/5，13/8，21/13··，求出这个数列的前20项之和。"
   ]
  },
  {
   "cell_type": "code",
   "execution_count": 16,
   "metadata": {},
   "outputs": [
    {
     "name": "stdout",
     "output_type": "stream",
     "text": [
      "32.66026079864164\n"
     ]
    }
   ],
   "source": [
    "sum=0\n",
    "i=1\n",
    "a=2\n",
    "b=1\n",
    "while i<=20:\n",
    "    sum=sum+a/b\n",
    "    i=i+1\n",
    "    t=a\n",
    "    a=a+b\n",
    "    b=t\n",
    "print(sum)"
   ]
  },
  {
   "cell_type": "markdown",
   "metadata": {},
   "source": [
    "# 6.输入若干个同学的成绩，计算平均成绩，输入的成绩为负数或大于100时表示结束输入。"
   ]
  },
  {
   "cell_type": "code",
   "execution_count": 6,
   "metadata": {},
   "outputs": [
    {
     "name": "stdin",
     "output_type": "stream",
     "text": [
      "请输入学生的成绩: 98\n",
      "请输入学生的成绩: 78\n",
      "请输入学生的成绩: 80\n",
      "请输入学生的成绩: 120\n"
     ]
    },
    {
     "name": "stdout",
     "output_type": "stream",
     "text": [
      "平均成绩： 85.33333333333333\n"
     ]
    }
   ],
   "source": [
    "num=0\n",
    "score=0\n",
    "while True:\n",
    "        s=input(\"请输入学生的成绩:\")\n",
    "        if float(s)<0 or float(s)>100:\n",
    "            break\n",
    "        num=num+1\n",
    "        score=score+float(s)\n",
    "print(\"平均成绩：\",score/num)"
   ]
  },
  {
   "cell_type": "markdown",
   "metadata": {},
   "source": [
    "# 7.输入三个正整数a、b、n，精确计算a/b的结果到小数后n位。"
   ]
  },
  {
   "cell_type": "code",
   "execution_count": 5,
   "metadata": {},
   "outputs": [
    {
     "name": "stdin",
     "output_type": "stream",
     "text": [
      "a= 99\n",
      "b= 68\n",
      "n= 9\n"
     ]
    },
    {
     "name": "stdout",
     "output_type": "stream",
     "text": [
      "1.455882353\n"
     ]
    }
   ],
   "source": [
    "a=input(\"a=\")\n",
    "b=input(\"b=\")\n",
    "n=input(\"n=\")\n",
    "a=int(a)\n",
    "b=int(b)\n",
    "n=int(n)\n",
    "if a<0 or b<0 or n<0:\n",
    "    print(\"请输入正整数\")\n",
    "else:\n",
    "    c=a/b\n",
    "print(round(c,n))"
   ]
  },
  {
   "cell_type": "markdown",
   "metadata": {},
   "source": [
    "# 8.一个猴子第一天摘下若干个桃子，当即吃了一半，还不过瘾，又多吃了一个。第二天早上又将剩下的桃子吃掉一半，又多吃了一个。以后每天早上都吃了前一天剩下的一半零一个。到第10天早上想再吃时，见只剩下一个桃子了。求第一天共摘了多少。"
   ]
  },
  {
   "cell_type": "code",
   "execution_count": 3,
   "metadata": {},
   "outputs": [
    {
     "name": "stdout",
     "output_type": "stream",
     "text": [
      "第一天共摘了1534个桃子\n"
     ]
    }
   ],
   "source": [
    "s=1\n",
    "for i in range(9,0,-1):\n",
    "    s=(s+1)*2\n",
    "print(\"第一天共摘了%s个桃子\"%s)"
   ]
  },
  {
   "cell_type": "markdown",
   "metadata": {},
   "source": [
    "# 9.有一序列：1，3，5，8，13，21..，用while循环求出这个数列的前20项之和。"
   ]
  },
  {
   "cell_type": "code",
   "execution_count": 48,
   "metadata": {},
   "outputs": [
    {
     "name": "stdout",
     "output_type": "stream",
     "text": [
      "46364\n"
     ]
    }
   ],
   "source": [
    "a=[1,3,5,8,13,21]\n",
    "i=1\n",
    "while i <=20:\n",
    "    new_a=a[-1]+a[-2]\n",
    "    a.append(new_a)\n",
    "    i=i+1\n",
    "    \n",
    "sum=0\n",
    "for n in a[0:20]:\n",
    "    sum=sum+n\n",
    "print(sum)"
   ]
  },
  {
   "cell_type": "markdown",
   "metadata": {},
   "source": [
    "# 10.一个数如正好等于它的所有因子之和，则称为完数，例如6的因子有1、2、3，而6=1+2+3,因此6是一个完数。编程序找出1000之内的所有完数。"
   ]
  },
  {
   "cell_type": "code",
   "execution_count": 4,
   "metadata": {},
   "outputs": [
    {
     "name": "stdout",
     "output_type": "stream",
     "text": [
      "6是一个完数，因子为：\n",
      "[1, 2, 3]\n",
      "28是一个完数，因子为：\n",
      "[1, 2, 4, 7, 14]\n",
      "496是一个完数，因子为：\n",
      "[1, 2, 4, 8, 16, 31, 62, 124, 248]\n"
     ]
    }
   ],
   "source": [
    "for i in range(1,1000):\n",
    "    numbers=[]\n",
    "    for a in range(1,i):\n",
    "        if i%a==0:\n",
    "            numbers.append(a)\n",
    "    if sum(numbers)==i:\n",
    "        print(str(i)+'是一个完数，因子为：')\n",
    "        print(numbers)         "
   ]
  },
  {
   "cell_type": "code",
   "execution_count": 79,
   "metadata": {},
   "outputs": [
    {
     "name": "stdout",
     "output_type": "stream",
     "text": [
      "学生人数： 52\n",
      "学生人数： 157\n",
      "学生人数： 262\n",
      "学生人数： 367\n",
      "学生人数： 472\n",
      "学生人数： 577\n",
      "学生人数： 682\n",
      "学生人数： 787\n",
      "学生人数： 892\n",
      "学生人数： 997\n"
     ]
    }
   ],
   "source": [
    "for i in range(1,1000):\n",
    "    if i%7==3 and i%5==2 and i%3==1:\n",
    "        print(\"学生人数：\",i)    "
   ]
  },
  {
   "cell_type": "markdown",
   "metadata": {},
   "source": [
    "# 12.小华今年12岁，他妈妈比他大20岁，编写程序计算多少年后他妈妈年龄比他大一倍。"
   ]
  },
  {
   "cell_type": "code",
   "execution_count": 8,
   "metadata": {},
   "outputs": [
    {
     "name": "stdout",
     "output_type": "stream",
     "text": [
      "8\n"
     ]
    }
   ],
   "source": [
    "for i in range(1,120):\n",
    "    if (12+i)*2==32+i:\n",
    "        print(i)"
   ]
  },
  {
   "cell_type": "markdown",
   "metadata": {},
   "source": [
    "# 13.两个乒乓球队进行比赛，各出三人。甲队为a，b，c三人，乙队为x，y，z三人。已抽签决定比赛名单。有人向队员打听比赛的名单。a说他不和x比，c说他不和x，z比，请编程序找出三队赛手的名单。"
   ]
  },
  {
   "cell_type": "code",
   "execution_count": null,
   "metadata": {},
   "outputs": [],
   "source": []
  },
  {
   "cell_type": "markdown",
   "metadata": {},
   "source": [
    "# 14.目前世界人口是60亿，如每年按1.5%的比例增长，则多少年后是80亿？"
   ]
  },
  {
   "cell_type": "code",
   "execution_count": 3,
   "metadata": {},
   "outputs": [
    {
     "name": "stdout",
     "output_type": "stream",
     "text": [
      "20\n"
     ]
    }
   ],
   "source": [
    "a=60\n",
    "i=1\n",
    "while True:\n",
    "    a=a*1.015\n",
    "    if a>=80:\n",
    "        print(i)\n",
    "        break\n",
    "    else:\n",
    "        i=i+1"
   ]
  },
  {
   "cell_type": "markdown",
   "metadata": {},
   "source": [
    "# 15.一球从80米高度自由下落，每次落地后返回原高度的一半，再落下。求它在第10次落地时共经过多少米？第10次反弹多高？"
   ]
  },
  {
   "cell_type": "code",
   "execution_count": 9,
   "metadata": {},
   "outputs": [
    {
     "name": "stdout",
     "output_type": "stream",
     "text": [
      "第10次反弹： 0.078125 第10次落地时共经过： 239.84375\n"
     ]
    }
   ],
   "source": [
    "h=80\n",
    "i=1\n",
    "s=[]\n",
    "sum=0\n",
    "while i <=10:\n",
    "    h=h/2 \n",
    "    i=i+1\n",
    "    s.append(h)\n",
    "for n in s:\n",
    "    sum=sum+n*2\n",
    "print(\"第10次反弹：\",h,\"第10次落地时共经过：\",(sum+80)) "
   ]
  },
  {
   "cell_type": "code",
   "execution_count": null,
   "metadata": {},
   "outputs": [],
   "source": []
  }
 ],
 "metadata": {
  "kernelspec": {
   "display_name": "Python 3",
   "language": "python",
   "name": "python3"
  },
  "language_info": {
   "codemirror_mode": {
    "name": "ipython",
    "version": 3
   },
   "file_extension": ".py",
   "mimetype": "text/x-python",
   "name": "python",
   "nbconvert_exporter": "python",
   "pygments_lexer": "ipython3",
   "version": "3.7.1"
  }
 },
 "nbformat": 4,
 "nbformat_minor": 2
}
