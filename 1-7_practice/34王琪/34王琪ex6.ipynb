{
 "cells": [
  {
   "cell_type": "markdown",
   "metadata": {},
   "source": [
    "# 1.编写一个程序建立一个文本文件 abc.txt，向其中写入”abc\\n”并存盘，查看 abc.txt 是 几个字节的文件，说明为什么。 "
   ]
  },
  {
   "cell_type": "code",
   "execution_count": null,
   "metadata": {},
   "outputs": [],
   "source": [
    "4字节，因为\\n是一个字节"
   ]
  },
  {
   "cell_type": "markdown",
   "metadata": {},
   "source": [
    "# 2．用 Windows 记事本编写一个文本文件 xyz.txt，在其中存入”123”后打”Enter”键换行， 存盘后查看文件应是 5 个字节长，用 read(1)读该文件，看看要读 5 次还是 4 次就把文件读完，为什么？编写程序验证。 "
   ]
  },
  {
   "cell_type": "code",
   "execution_count": 5,
   "metadata": {},
   "outputs": [
    {
     "data": {
      "text/plain": [
       "''"
      ]
     },
     "execution_count": 5,
     "metadata": {},
     "output_type": "execute_result"
    }
   ],
   "source": [
    "# 读5次，因为有5个字节\n",
    "f = open(\"C:\\\\Users\\\\1\\\\Desktop\\\\xyz.txt\",\"rt\")\n",
    "f.read(1)\n",
    "f.read(1)\n",
    "f.read(1)\n",
    "f.read(1)\n",
    "f.read(1)"
   ]
  },
  {
   "cell_type": "markdown",
   "metadata": {},
   "source": [
    "# 3．编写程序查找某个单词（键盘输入）所出现的行号及该行的内容，并统计该单词在文件共出现多少次。 "
   ]
  },
  {
   "cell_type": "code",
   "execution_count": 6,
   "metadata": {},
   "outputs": [
    {
     "name": "stdin",
     "output_type": "stream",
     "text": [
      "输入文件： xyz.txt\n",
      "输入单词： xyz\n"
     ]
    },
    {
     "name": "stdout",
     "output_type": "stream",
     "text": [
      "Total  0\n"
     ]
    }
   ],
   "source": [
    "def Word(s):     \n",
    "    words = []     \n",
    "    i = 0    \n",
    "    w = \"\"     \n",
    "    while i < len(s):         \n",
    "        if s[i].lower() >= \"a\" and s[i].lower() <= \"z\":             \n",
    "            w = w + s[i]        \n",
    "        else:             \n",
    "            if w:                \n",
    "                words.append(w)                 \n",
    "                w = \"\"         \n",
    "            i = i + 1     \n",
    "        if w:         \n",
    "            words.append(w)     \n",
    "        return words              \n",
    "def countWord(word,words):     \n",
    "    n = 0     \n",
    "    for w in words:         \n",
    "        if w == word:             \n",
    "            n += 1     \n",
    "    return n \n",
    " \n",
    "def countWordInFile(word,fileName):     \n",
    "    count = 0     \n",
    "    f = open(fileName,\"r\")     \n",
    "    rows = f.readlines()     \n",
    "    no = 0     \n",
    "    for row in rows:         \n",
    "        no += 1         \n",
    "        words = Word(row) \n",
    "        if word in words:            \n",
    "            print(no,row,end=\"\")             \n",
    "            count += countWord(word,words)     \n",
    "    f.close()     \n",
    "    print(\"Total \",count)      \n",
    "fileName = input( \"输入文件：\") \n",
    "word = input( \"输入单词：\") \n",
    "countWordInFile(word,fileName) "
   ]
  },
  {
   "cell_type": "markdown",
   "metadata": {},
   "source": [
    "# 4．设一个文本文件 marks.txt 中存储了学生的姓名及成绩如下： 张三  96 李四  95 …… 每行为学生姓名与成绩，编写一个程序读取这些学生的姓名与成绩并按成绩的从高到低的顺 序输出到另外一个文件 sorted.txt 中。 "
   ]
  },
  {
   "cell_type": "code",
   "execution_count": null,
   "metadata": {},
   "outputs": [],
   "source": [
    "def read(fileName):     \n",
    "    st = []     \n",
    "    f = open(fileName,\"r\")     \n",
    "    rows = f.readlines()     \n",
    "    for row in rows:         \n",
    "        s = row.strip(\"\\n\").split(\" \")         \n",
    "        if len(s) == 2:             \n",
    "            d = {\"Name\":s[0],\"Mark\":float(s[1])}             \n",
    "            st.append(d)     \n",
    "f.close()     \n",
    "return st \n",
    " \n",
    "def sort(st):     \n",
    "    for i in range(len(st)):         \n",
    "        for j in range(i+1,len(st)):             \n",
    "            if st[j][\"Mark\"] < st[i][\"Mark\"]:                 \n",
    "                t = st[i]                 \n",
    "                st[i] = st[j]                 \n",
    "                st[j] = t     \n",
    "return st \n",
    " \n",
    "def save(st):     \n",
    "    f = open(\"f:\\\\sorted.txt\",\"w\")     \n",
    "    for s in st:         \n",
    "        f.write(s[\"Name\"] + \" \" + str(s[\"Mark\"]) + \"\\n\")     \n",
    "f.close() \n",
    " \n",
    "fileName = \"f:\\\\marks.txt\" \n",
    "st = read(fileName) \n",
    "st = sort(st) \n",
    "save(st) "
   ]
  },
  {
   "cell_type": "markdown",
   "metadata": {},
   "source": [
    "# 5．用二进制方式创建文件 abc 并写入”abc\\r\\nxyz\\n\\r123\\r456\\n”的字符串，查看该文件有多少个字节，再用文本文件的方式打开此文件并用 fgetc 来读，看看每次读出的是什么字符。"
   ]
  },
  {
   "cell_type": "code",
   "execution_count": 12,
   "metadata": {},
   "outputs": [
    {
     "name": "stdout",
     "output_type": "stream",
     "text": [
      "abc\n",
      "xyz\n",
      "456\n",
      "\n"
     ]
    }
   ],
   "source": [
    "def f(s):     \n",
    "    f = open(\"C:\\\\Users\\\\1\\\\Desktop\\\\abc.txt\",\"wb\")      \n",
    "    f.write(s.encode())     \n",
    "    f.close() \n",
    "\n",
    "def read():     \n",
    "    f = open(\"C:\\\\Users\\\\1\\\\Desktop\\\\abc.txt\",\"rb\")     \n",
    "       \n",
    "    data = f.read()     \n",
    "    s = data.decode()    \n",
    "    f.close()    \n",
    "    print(s)      \n",
    "s = \"abc\\r\\nxyz\\n\\r123\\r456\\n\" \n",
    "f(s) \n",
    "read() "
   ]
  },
  {
   "cell_type": "markdown",
   "metadata": {},
   "source": [
    "# 6．用文本文件方式创建文件并写入”abc\\nxyz\\r\\n123\\r”字符串，再用二进制方式打开读 取每个字节，看看每个字节是什么。 "
   ]
  },
  {
   "cell_type": "code",
   "execution_count": 13,
   "metadata": {},
   "outputs": [
    {
     "name": "stdout",
     "output_type": "stream",
     "text": [
      "0x20 0x61 0x62 0x63 0xd 0xa 0x78 0x79 0x7a 0xd 0xd 0xa 0x31 0x32 0x33 0xd 0x20 "
     ]
    }
   ],
   "source": [
    "def f(s):     \n",
    "    f = open(\"C:\\\\Users\\\\1\\\\Desktop\\\\data.txt\",\"w\")     \n",
    "    f.write(s)     \n",
    "    f.close() \n",
    "\n",
    "def read():     \n",
    "    f = open(\"C:\\\\Users\\\\1\\\\Desktop\\\\data.txt\",\"rb\")     \n",
    "     \n",
    "    data = f.read()     \n",
    "    for i in data:         \n",
    "        print(hex(i),end = \" \")     \n",
    "        f.close()      \n",
    "s = \" abc\\nxyz\\r\\n123\\r \" \n",
    "f(s) \n",
    "read()"
   ]
  },
  {
   "cell_type": "markdown",
   "metadata": {},
   "source": [
    "# 7. 编写一个程序，它能统计一篇英文文章中的 a~z各个字母出现的次数（不分大小写），并按出现次数的多少按顺序输出。"
   ]
  },
  {
   "cell_type": "code",
   "execution_count": null,
   "metadata": {},
   "outputs": [],
   "source": [
    "def count(fileName):     \n",
    "    no = {}     \n",
    "    for i in range(26):         \n",
    "        x = chr(ord('a')+i)         \n",
    "        no[x] = 0     \n",
    "    f = open(fileName,\"r\")     \n",
    "    rows = f.readlines()     \n",
    "    for row in rows:         \n",
    "        s = row.strip(\"\\n\")         \n",
    "        for x in s:             \n",
    "            y = x.lower()             \n",
    "            if y >= 'a' and y <= 'z':                 \n",
    "                no[y] = no[y] + 1     \n",
    "    f.close()     \n",
    "    print(no) \n",
    "fileName = input( \"输入文件：\") \n",
    "count(fileName)"
   ]
  }
 ],
 "metadata": {
  "kernelspec": {
   "display_name": "Python 3",
   "language": "python",
   "name": "python3"
  },
  "language_info": {
   "codemirror_mode": {
    "name": "ipython",
    "version": 3
   },
   "file_extension": ".py",
   "mimetype": "text/x-python",
   "name": "python",
   "nbconvert_exporter": "python",
   "pygments_lexer": "ipython3",
   "version": "3.7.1"
  }
 },
 "nbformat": 4,
 "nbformat_minor": 2
}
