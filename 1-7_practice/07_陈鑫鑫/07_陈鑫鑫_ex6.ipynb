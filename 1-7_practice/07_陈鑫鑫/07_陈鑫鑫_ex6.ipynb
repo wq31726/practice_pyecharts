{
 "cells": [
  {
   "cell_type": "markdown",
   "metadata": {},
   "source": [
    "1．编写一个程序建立一个文本文件 abc.txt，向其中写入”abc\\n”并存盘，查看 abc.txt 是几 个字节的文件，说明为什么"
   ]
  },
  {
   "cell_type": "code",
   "execution_count": 2,
   "metadata": {},
   "outputs": [
    {
     "name": "stdout",
     "output_type": "stream",
     "text": [
      "0\n",
      "5\n"
     ]
    }
   ],
   "source": [
    "import os\n",
    "f = open('D:\\\\Lin\\\\Desktop\\\\python练习\\\\abc.txt','wt')\n",
    "f.write('abc\\n')\n",
    "print(os.path.getsize('D:\\\\Lin\\\\Desktop\\\\python练习\\\\abc.txt'))\n",
    "f.close()\n",
    "f = open('D:\\\\Lin\\\\Desktop\\\\python练习\\\\abc.txt','rt')\n",
    "f.read()\n",
    "print(os.path.getsize('D:\\\\Lin\\\\Desktop\\\\python练习\\\\abc.txt'))\n",
    "#得出结论：写完还要读才能看到几个字节，只写不读看不到。"
   ]
  },
  {
   "cell_type": "markdown",
   "metadata": {},
   "source": [
    "2．用 Windows 记事本编写一个文本文件 xyz.txt，在其中存入”123”后打”Enter”键换行， 存盘后查看文件应是 5 个字节长，用 read(1)读该文件，看看要读 5 次还是 4 次就把文件读 完，为什么？编写程序验证。 "
   ]
  },
  {
   "cell_type": "code",
   "execution_count": 3,
   "metadata": {},
   "outputs": [
    {
     "name": "stdout",
     "output_type": "stream",
     "text": [
      "1\n",
      "2\n",
      "3\n",
      "\n",
      "\n",
      "0\n"
     ]
    }
   ],
   "source": [
    "f = open('D:\\\\Lin\\\\Desktop\\\\python练习\\\\xyz.txt', 'rt')\n",
    "for i in range(1, 6):\n",
    "    txt = f.read(1)\n",
    "    print(txt)\n",
    "#我在第二行加了个0 看看什么时候能读到这个0 发现第四次就读到了"
   ]
  },
  {
   "cell_type": "markdown",
   "metadata": {},
   "source": [
    "3．编写程序查找某个单词（键盘输入）所出现的行号及该行的内容，并统计该单词在文件 共出现多少次。"
   ]
  },
  {
   "cell_type": "code",
   "execution_count": 5,
   "metadata": {},
   "outputs": [
    {
     "name": "stdout",
     "output_type": "stream",
     "text": [
      "行数为04,该行内容为aihdsiwnmslorda nmsl sjhd\n",
      "\n",
      "行数为05,该行内容为nmsl\n",
      "\n",
      "行数为07,该行内容为askhda nmsl  akhsdalsk\n",
      "单词出现次数为04\n"
     ]
    }
   ],
   "source": [
    "def find_word(word, location):\n",
    "    f = open(location, 'rt')\n",
    "    a = 1\n",
    "    line_num = 1\n",
    "    while a == 1:  # 进入循环\n",
    "        s = f.readline()  # 读一行\n",
    "        if s != '':  # 判断文章是否结束\n",
    "            if word in s:\n",
    "                print('行数为%02d,该行内容为%s' % (line_num, s))\n",
    "            line_num += 1\n",
    "        else:\n",
    "            a = 0\n",
    "\n",
    "    f.close()\n",
    "    f = open(location, 'rt')\n",
    "    s = f.read()\n",
    "    print('单词出现次数为%02d' % (s.count(word)))\n",
    "\n",
    "\n",
    "find_word('nmsl', 'D:\\\\Lin\\\\Desktop\\\\python练习\\\\xyz.txt')"
   ]
  },
  {
   "cell_type": "markdown",
   "metadata": {},
   "source": [
    "4．设一个文本文件 marks.txt 中存储了学生的姓名及成绩如下：\n",
    "张三  96 \n",
    "李四  95\n",
    "...\n",
    "每行为学生姓名与成绩，编写一个程序读取这些学生的姓名与成绩并按成绩的从高到低的顺 序输出到另外一个文件 sorted.txt 中。"
   ]
  },
  {
   "cell_type": "code",
   "execution_count": null,
   "metadata": {},
   "outputs": [],
   "source": [
    "#从高到低可以用冒泡排序法，那怎么让那么多学生与成绩各成一组呢（不知道有多少学生情况下）。求解！"
   ]
  },
  {
   "cell_type": "markdown",
   "metadata": {},
   "source": [
    "5．用二进制方式创建文件 abc 并写入”abc\\r\\nxyz\\n\\r123\\r456\\n”的字符串，查看该文件 有多少个字节，再用文本文件的方式打开此文件并用 fgetc 来读，看看每次读出的是什么字符。 "
   ]
  },
  {
   "cell_type": "code",
   "execution_count": null,
   "metadata": {},
   "outputs": [],
   "source": [
    "#我弄了半天.......我的编码有问题，utf-8打开不了txt。555"
   ]
  },
  {
   "cell_type": "markdown",
   "metadata": {},
   "source": [
    "6．用文本文件方式创建文件并写入”abc\\nxyz\\r\\n123\\r”字符串，再用二进制方式打开读 取每个字节，看看每个字节是什么"
   ]
  },
  {
   "cell_type": "code",
   "execution_count": null,
   "metadata": {},
   "outputs": [],
   "source": []
  },
  {
   "cell_type": "markdown",
   "metadata": {},
   "source": [
    "7. 编写一个程序，它能统计一篇英文文章中的 a~z 各个字母出现的次数（不分大小写），并 按出现次数的多少按顺序输出。"
   ]
  },
  {
   "cell_type": "code",
   "execution_count": 1,
   "metadata": {},
   "outputs": [
    {
     "name": "stdin",
     "output_type": "stream",
     "text": [
      "输入文件: D:\\\\Lin\\\\Desktop\\\\python练习\\\\xyz.txt\n"
     ]
    },
    {
     "name": "stdout",
     "output_type": "stream",
     "text": [
      "{'a': 11, 'b': 1, 'c': 0, 'd': 8, 'e': 0, 'f': 0, 'g': 0, 'h': 6, 'i': 4, 'j': 1, 'k': 3, 'l': 5, 'm': 4, 'n': 4, 'o': 1, 'p': 0, 'q': 0, 'r': 1, 's': 13, 't': 0, 'u': 0, 'v': 0, 'w': 1, 'x': 0, 'y': 0, 'z': 0}\n"
     ]
    }
   ],
   "source": [
    "def count(location):\n",
    "    letter = {}\n",
    "    for i in range(26):\n",
    "        x = chr(ord('a') + i)\n",
    "        letter[x] = 0\n",
    "    f = open(location, \"r\")\n",
    "    rows = f.readlines()\n",
    "    for row in rows:\n",
    "        s = row.strip(\"\\n\")\n",
    "        for x in s:\n",
    "            y = x.lower()\n",
    "            if 'a' <= y <= 'z':\n",
    "                letter[y] = letter[y] + 1\n",
    "    f.close()\n",
    "    print(letter)\n",
    "\n",
    "\n",
    "f = input(\"输入文件:\")\n",
    "count(f)"
   ]
  },
  {
   "cell_type": "code",
   "execution_count": null,
   "metadata": {},
   "outputs": [],
   "source": []
  }
 ],
 "metadata": {
  "kernelspec": {
   "display_name": "Python 3",
   "language": "python",
   "name": "python3"
  },
  "language_info": {
   "codemirror_mode": {
    "name": "ipython",
    "version": 3
   },
   "file_extension": ".py",
   "mimetype": "text/x-python",
   "name": "python",
   "nbconvert_exporter": "python",
   "pygments_lexer": "ipython3",
   "version": "3.7.4"
  }
 },
 "nbformat": 4,
 "nbformat_minor": 4
}
