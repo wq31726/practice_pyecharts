{
 "cells": [
  {
   "cell_type": "code",
   "execution_count": 2,
   "metadata": {},
   "outputs": [
    {
     "name": "stdout",
     "output_type": "stream",
     "text": [
      "请输入长:4\n",
      "请输入宽:5\n",
      "4\n",
      "20\n"
     ]
    }
   ],
   "source": [
    "chang=input(\"请输入长:\")\n",
    "kuan=input(\"请输入宽:\")\n",
    "print(chang)\n",
    "print(int(chang)*int(kuan))"
   ]
  },
  {
   "cell_type": "code",
   "execution_count": 3,
   "metadata": {},
   "outputs": [
    {
     "name": "stdout",
     "output_type": "stream",
     "text": [
      "a>b and b>c or a+b<c: False\n"
     ]
    }
   ],
   "source": [
    "a=1\n",
    "b=2\n",
    "c=3\n",
    "d=0\n",
    "print(\"a>b and b>c or a+b<c:\",a>b and b>c or a+b<c)"
   ]
  },
  {
   "cell_type": "code",
   "execution_count": null,
   "metadata": {},
   "outputs": [],
   "source": []
  }
 ],
 "metadata": {
  "kernelspec": {
   "display_name": "Python 3",
   "language": "python",
   "name": "python3"
  }
 },
 "nbformat": 4,
 "nbformat_minor": 2
}
