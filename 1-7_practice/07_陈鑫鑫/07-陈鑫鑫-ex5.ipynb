{
 "cells": [
  {
   "cell_type": "markdown",
   "metadata": {},
   "source": [
    "# 1 定义一个数学中的复数类Complex，它有一个构造函数与一个显示函数，建立一个Complex对象并调用该显示函数显示。"
   ]
  },
  {
   "cell_type": "code",
   "execution_count": 2,
   "metadata": {},
   "outputs": [
    {
     "ename": "SyntaxError",
     "evalue": "unexpected EOF while parsing (<ipython-input-2-ce7a1888bdfc>, line 2)",
     "output_type": "error",
     "traceback": [
      "\u001b[1;36m  File \u001b[1;32m\"<ipython-input-2-ce7a1888bdfc>\"\u001b[1;36m, line \u001b[1;32m2\u001b[0m\n\u001b[1;33m    def a(x,y):\u001b[0m\n\u001b[1;37m               ^\u001b[0m\n\u001b[1;31mSyntaxError\u001b[0m\u001b[1;31m:\u001b[0m unexpected EOF while parsing\n"
     ]
    }
   ],
   "source": [
    "class complex:\n",
    "    def a(x,y):\n",
    "        x=x\n",
    "        y=y"
   ]
  },
  {
   "cell_type": "markdown",
   "metadata": {},
   "source": [
    "# 2 定义一个计算机类MyComputer，它包含CPU类型（string类型）、RAM内存大小（integer类型）、HD硬盘大小（integer类型），设计它的构造函数，并设计一个显示函数，建立一个MyComputer对象并调用该显示函数显示。"
   ]
  },
  {
   "cell_type": "code",
   "execution_count": 7,
   "metadata": {},
   "outputs": [
    {
     "ename": "SyntaxError",
     "evalue": "invalid syntax (<ipython-input-7-c2b66b915c53>, line 2)",
     "output_type": "error",
     "traceback": [
      "\u001b[1;36m  File \u001b[1;32m\"<ipython-input-7-c2b66b915c53>\"\u001b[1;36m, line \u001b[1;32m2\u001b[0m\n\u001b[1;33m    def_init_(self,CPU,RAM,HD):\u001b[0m\n\u001b[1;37m                               ^\u001b[0m\n\u001b[1;31mSyntaxError\u001b[0m\u001b[1;31m:\u001b[0m invalid syntax\n"
     ]
    }
   ],
   "source": [
    "class MyComputer:\n",
    "    def_init_(self,CPU,RAM,HD):\n",
    "        self.CPU=CPU\n",
    "        self.RAM=RAM\n",
    "        self.HD=HD\n",
    "    def show(self):\n",
    "        print(self.CPU,self.RAM,self.HD)\n",
    "c = MyComputer(\"Intel i-5\"，8,256)\n",
    "c.show()"
   ]
  },
  {
   "cell_type": "markdown",
   "metadata": {},
   "source": [
    "# 3 设计一个整数类MyInteger，他有一个整数变量，并有一个Value属性，可以通过为Value存取该变量的值，还有一个转二进制字符串的成员函数toBin及转十六进制字符串的成员函数toHex。"
   ]
  },
  {
   "cell_type": "code",
   "execution_count": 5,
   "metadata": {},
   "outputs": [
    {
     "ename": "SyntaxError",
     "evalue": "invalid syntax (<ipython-input-5-850ed6416869>, line 2)",
     "output_type": "error",
     "traceback": [
      "\u001b[1;36m  File \u001b[1;32m\"<ipython-input-5-850ed6416869>\"\u001b[1;36m, line \u001b[1;32m2\u001b[0m\n\u001b[1;33m    def_init_(self,v):\u001b[0m\n\u001b[1;37m                      ^\u001b[0m\n\u001b[1;31mSyntaxError\u001b[0m\u001b[1;31m:\u001b[0m invalid syntax\n"
     ]
    }
   ],
   "source": [
    "class MyInteger:\n",
    "    def_init_(self,v):\n",
    "        self_Value=v\n",
    "    def show (self):  \n",
    "        print(self.Value)\n",
    "    def toHex(self):\n",
    "        return hex(self.Value)\n",
    "    def toBin(self):\n",
    "        return bin (self.Value)\n",
    "    i = MyInteger(20)\n",
    "    i.show()\n",
    "    print(i.toHex())\n",
    "print(i.toBin())\n"
   ]
  },
  {
   "cell_type": "markdown",
   "metadata": {},
   "source": [
    "# 4 建立一个普通人员类Person，包含姓名（m_name）、性别（m_sex）、年龄（m_age）成员变量。\n",
    "## （1）建立Person类，包含Private成员m_name、m_sex、m_age成员变量；\n",
    "## （2）建立Person的构造函数；\n",
    "## （3）建立一个显示过程Show（），显示该对象的数据；\n",
    "## （4）派生一个学生类Student，增加班级（m_class），专业（m_major），设计这些类的构造函数；\n",
    "## （5）建立m_class、m_major对应的属性函数sClass()、sMajor;\n",
    "## （6）建立显示成员函数Show（），显示该学生对象所有成员数据；"
   ]
  },
  {
   "cell_type": "code",
   "execution_count": 2,
   "metadata": {},
   "outputs": [
    {
     "ename": "SyntaxError",
     "evalue": "invalid syntax (<ipython-input-2-654dd047855e>, line 3)",
     "output_type": "error",
     "traceback": [
      "\u001b[1;36m  File \u001b[1;32m\"<ipython-input-2-654dd047855e>\"\u001b[1;36m, line \u001b[1;32m3\u001b[0m\n\u001b[1;33m    def_init_(self,m_name,m_sex,m_age):\u001b[0m\n\u001b[1;37m                                       ^\u001b[0m\n\u001b[1;31mSyntaxError\u001b[0m\u001b[1;31m:\u001b[0m invalid syntax\n"
     ]
    }
   ],
   "source": [
    "#（1）\n",
    "class Person:\n",
    "    def_init_(self,m_name,m_sex,m_age):\n",
    "        self.m_name=m_name\n",
    "        self.m_sex=m_sex\n",
    "        self.m_age=m_age\n",
    "    def show(self,end=\"\\n\"):\n",
    "        print(self.m_name,self.m_sex,self.m_age,end=end)\n",
    "#(2)\n",
    "class Person:\n",
    "#(3)\n",
    "def show(self):\n",
    "    print(\"-16s%-16s%-8s%-4s% (self.m_name,self.m_sex,self.m_age)\")\n",
    "#(4)\n"
   ]
  },
  {
   "cell_type": "markdown",
   "metadata": {},
   "source": [
    "# 5 建立一个时间类Time，它包含时hour，分minute，秒second的实例属性\n",
    "## （1）设计时间显示函数show（self）：\n",
    "## （2）设计两个时间大小比较函数compare（self，t），其中t时另外一个时间；"
   ]
  },
  {
   "cell_type": "code",
   "execution_count": null,
   "metadata": {},
   "outputs": [],
   "source": []
  }
 ],
 "metadata": {
  "kernelspec": {
   "display_name": "Python 3",
   "language": "python",
   "name": "python3"
  },
  "language_info": {
   "codemirror_mode": {
    "name": "ipython",
    "version": 3
   },
   "file_extension": ".py",
   "mimetype": "text/x-python",
   "name": "python",
   "nbconvert_exporter": "python",
   "pygments_lexer": "ipython3",
   "version": "3.7.4"
  }
 },
 "nbformat": 4,
 "nbformat_minor": 4
}
