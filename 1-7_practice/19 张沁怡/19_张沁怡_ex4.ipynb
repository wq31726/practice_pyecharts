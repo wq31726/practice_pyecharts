{
 "cells": [
  {
   "cell_type": "code",
   "execution_count": null,
   "metadata": {},
   "outputs": [],
   "source": [
    "#1\n",
    "#不能，在python中字符串是不可变类型的，即无法直接修改字符串的某一位字符"
   ]
  },
  {
   "cell_type": "code",
   "execution_count": 1,
   "metadata": {},
   "outputs": [
    {
     "name": "stdout",
     "output_type": "stream",
     "text": [
      "404ntfound\n",
      "404\n"
     ]
    }
   ],
   "source": [
    "#2\n",
    "s = input()\n",
    "for x in s:\n",
    "    if x>=\"0\" and x<=\"9\":\n",
    "        print(x,end=\"\")\n",
    "print()"
   ]
  },
  {
   "cell_type": "code",
   "execution_count": 6,
   "metadata": {},
   "outputs": [
    {
     "name": "stdout",
     "output_type": "stream",
     "text": [
      "dnuoftnsls\n"
     ]
    }
   ],
   "source": [
    "#3\n",
    "def reverse(s):\n",
    "    t=\"\"\n",
    "    for x in s:\n",
    "        t=x+t\n",
    "    return t\n",
    "print(reverse(\"slsntfound\"))"
   ]
  },
  {
   "cell_type": "code",
   "execution_count": null,
   "metadata": {},
   "outputs": [],
   "source": [
    "#4\n",
    "#tuple是不可变类型，大小固定，而list是可变类型，数据可以动态变化"
   ]
  },
  {
   "cell_type": "code",
   "execution_count": null,
   "metadata": {},
   "outputs": [],
   "source": [
    "#5\n",
    "#列表的元素类型可以不同"
   ]
  },
  {
   "cell_type": "code",
   "execution_count": null,
   "metadata": {},
   "outputs": [],
   "source": [
    "#6\n",
    "#可以，例子：lv3=[[range(10),ramge(10,20)].[range(20,30),range(30,40)]]"
   ]
  },
  {
   "cell_type": "code",
   "execution_count": 8,
   "metadata": {},
   "outputs": [
    {
     "name": "stdout",
     "output_type": "stream",
     "text": [
      "2019\n",
      "6\n",
      "8\n"
     ]
    }
   ],
   "source": [
    "#7\n",
    "d = {'year':2019,'month':6,'day':8}\n",
    "print(d['year'])\n",
    "print(d['month'])\n",
    "print(d['day'])"
   ]
  },
  {
   "cell_type": "code",
   "execution_count": null,
   "metadata": {},
   "outputs": [],
   "source": [
    "#8\n",
    "#两者都是\"Key:Value\"的形式\n"
   ]
  },
  {
   "cell_type": "code",
   "execution_count": null,
   "metadata": {},
   "outputs": [],
   "source": [
    "#9\n",
    "name A\n",
    "sex M\n",
    "name B\n",
    "sex C"
   ]
  },
  {
   "cell_type": "code",
   "execution_count": null,
   "metadata": {},
   "outputs": [],
   "source": [
    "#10\n"
   ]
  }
 ],
 "metadata": {
  "kernelspec": {
   "display_name": "Python 3",
   "language": "python",
   "name": "python3"
  },
  "language_info": {
   "codemirror_mode": {
    "name": "ipython",
    "version": 3
   },
   "file_extension": ".py",
   "mimetype": "text/x-python",
   "name": "python",
   "nbconvert_exporter": "python",
   "pygments_lexer": "ipython3",
   "version": "3.7.4"
  }
 },
 "nbformat": 4,
 "nbformat_minor": 2
}
