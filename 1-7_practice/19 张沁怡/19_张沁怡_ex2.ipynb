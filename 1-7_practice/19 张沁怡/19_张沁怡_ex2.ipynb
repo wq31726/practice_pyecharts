{
 "cells": [
  {
   "cell_type": "code",
   "execution_count": 1,
   "metadata": {},
   "outputs": [
    {
     "name": "stdout",
     "output_type": "stream",
     "text": [
      "(-2.0916730868040165, -12.908326913195985)\n"
     ]
    }
   ],
   "source": [
    "#1\n",
    "import math\n",
    "def get_result(a,b,c):\n",
    "    x = b*b - 4*a*c\n",
    "    if x <=0:\n",
    "        return \"error\"\n",
    "    x1 = (-b+math.sqrt(x))/2*a\n",
    "    x2 = (-b-math.sqrt(x))/2*a\n",
    "    return (x1,x2)\n",
    "\n",
    "\n",
    "print(get_result(3,5,1))"
   ]
  },
  {
   "cell_type": "code",
   "execution_count": 6,
   "metadata": {},
   "outputs": [
    {
     "name": "stdout",
     "output_type": "stream",
     "text": [
      "a=3\n",
      "b=4\n",
      "c=5\n",
      "三角形的面积等于 6.0\n"
     ]
    }
   ],
   "source": [
    "#2\n",
    "import math\n",
    "a = int(input('a='))\n",
    "b = int(input('b='))\n",
    "c = int(input('c='))\n",
    "if a+b>c and a-b<c:\n",
    "    p =(a+b+c)/2\n",
    "    s = math.sqrt(p*(p-a)*(p-b)*(p-c))\n",
    "    print('三角形的面积等于',s)\n",
    "else:\n",
    "    print('不是三角形')\n",
    "    \n"
   ]
  },
  {
   "cell_type": "code",
   "execution_count": 5,
   "metadata": {},
   "outputs": [
    {
     "name": "stdout",
     "output_type": "stream",
     "text": [
      "输入一个字母c\n",
      "TRUE\n"
     ]
    }
   ],
   "source": [
    "#3\n",
    "x = input('输入一个字母')\n",
    "if x >= \"a\" and x <= \"z\":\n",
    "    print('TRUE')\n",
    "else:\n",
    "    print('FLASE')\n"
   ]
  },
  {
   "cell_type": "code",
   "execution_count": null,
   "metadata": {},
   "outputs": [],
   "source": [
    "#4\n"
   ]
  },
  {
   "cell_type": "code",
   "execution_count": 7,
   "metadata": {},
   "outputs": [
    {
     "name": "stdout",
     "output_type": "stream",
     "text": [
      "a=2\n",
      "b=3\n",
      "3\n"
     ]
    }
   ],
   "source": [
    "#5\n",
    "a=input(\"a=\")\n",
    "b=input('b=')\n",
    "a=int(a)\n",
    "b=int(b)\n",
    "if a>b:\n",
    "    c=a\n",
    "else:\n",
    "    c=b\n",
    "print(c)"
   ]
  },
  {
   "cell_type": "code",
   "execution_count": 13,
   "metadata": {},
   "outputs": [
    {
     "name": "stdout",
     "output_type": "stream",
     "text": [
      "请输入一个英文字母:s\n",
      "S\n"
     ]
    }
   ],
   "source": [
    "#6\n",
    "x = input(\"请输入一个英文字母:\");\n",
    "if(ord(x) >= ord('a') and ord(x) <= ord('z')):\n",
    "    print(x.upper());\n",
    "else:\n",
    "    print(\"不是小写字母!\");"
   ]
  },
  {
   "cell_type": "code",
   "execution_count": 8,
   "metadata": {},
   "outputs": [
    {
     "name": "stdout",
     "output_type": "stream",
     "text": [
      "year2018\n",
      "No\n"
     ]
    }
   ],
   "source": [
    "#7\n",
    "y=input(\"year\")\n",
    "y=int(y)\n",
    "if y%400 == 0 or y%100 != 0 and y%4 == 0:\n",
    "    print(\"Yes\")\n",
    "else:\n",
    "    print(\"No\")"
   ]
  },
  {
   "cell_type": "code",
   "execution_count": 9,
   "metadata": {},
   "outputs": [
    {
     "name": "stdout",
     "output_type": "stream",
     "text": [
      "a=4\n",
      "b=5\n",
      "(5, 4)\n"
     ]
    }
   ],
   "source": [
    "#8\n",
    "a=input(\"a=\")\n",
    "b=input('b=')\n",
    "a=int(a)\n",
    "b=int(b)\n",
    "if a>b:\n",
    "    c=(a,b)\n",
    "else:\n",
    "    c=(b,a)\n",
    "print(c)"
   ]
  },
  {
   "cell_type": "code",
   "execution_count": 10,
   "metadata": {},
   "outputs": [
    {
     "name": "stdout",
     "output_type": "stream",
     "text": [
      "a= 6\n",
      "b= 7\n",
      "c= 8\n",
      "最小值为： 6\n"
     ]
    }
   ],
   "source": [
    "#9\n",
    "a = int(input(\"a= \"))\n",
    "b = int(input(\"b= \"))\n",
    "c = int(input(\"c= \"))\n",
    "\n",
    "if a >= b >= c:\n",
    "    print(\"最小值为：\",c)\n",
    "elif a >= c >= b:\n",
    "    print(\"最小值为：\",b)\n",
    "else:\n",
    "    print(\"最小值为：\",a)\n"
   ]
  },
  {
   "cell_type": "markdown",
   "metadata": {},
   "source": [
    " "
   ]
  },
  {
   "cell_type": "code",
   "execution_count": null,
   "metadata": {},
   "outputs": [],
   "source": [
    "#10"
   ]
  },
  {
   "cell_type": "markdown",
   "metadata": {},
   "source": []
  },
  {
   "cell_type": "code",
   "execution_count": null,
   "metadata": {},
   "outputs": [],
   "source": [
    "#11"
   ]
  }
 ],
 "metadata": {
  "kernelspec": {
   "display_name": "Python 3",
   "language": "python",
   "name": "python3"
  },
  "language_info": {
   "codemirror_mode": {
    "name": "ipython",
    "version": 3
   },
   "file_extension": ".py",
   "mimetype": "text/x-python",
   "name": "python",
   "nbconvert_exporter": "python",
   "pygments_lexer": "ipython3",
   "version": "3.7.4"
  }
 },
 "nbformat": 4,
 "nbformat_minor": 4
}
