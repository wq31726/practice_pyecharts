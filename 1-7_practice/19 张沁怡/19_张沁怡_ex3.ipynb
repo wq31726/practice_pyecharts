{
 "cells": [
  {
   "cell_type": "code",
   "execution_count": 3,
   "metadata": {},
   "outputs": [
    {
     "name": "stdout",
     "output_type": "stream",
     "text": [
      "5050\n"
     ]
    }
   ],
   "source": [
    "#1\n",
    "m = 0\n",
    "for i in range (1,101):\n",
    "    m=m+i\n",
    "print(m)"
   ]
  },
  {
   "cell_type": "code",
   "execution_count": 4,
   "metadata": {},
   "outputs": [
    {
     "name": "stdout",
     "output_type": "stream",
     "text": [
      "2.937774848474907\n"
     ]
    }
   ],
   "source": [
    "#2\n",
    "m = 0\n",
    "for i in range(1,100,2):\n",
    "    m=m+1/i\n",
    "print(m)"
   ]
  },
  {
   "cell_type": "code",
   "execution_count": 11,
   "metadata": {},
   "outputs": [
    {
     "name": "stdout",
     "output_type": "stream",
     "text": [
      "SLSntfound\n",
      "小写字母： 7 大写字母： 3\n"
     ]
    }
   ],
   "source": [
    "#3\n",
    "m = input()\n",
    "a=0\n",
    "b=0\n",
    "for x in m:\n",
    "    if x >=\"a\" and x<=\"z\":\n",
    "        a=a+1\n",
    "    elif x >=\"A\" and x<=\"Z\":\n",
    "        b=b+1\n",
    "print(\"小写字母：\",a,\"大写字母：\",b)\n",
    "    "
   ]
  },
  {
   "cell_type": "code",
   "execution_count": 1,
   "metadata": {},
   "outputs": [
    {
     "name": "stdout",
     "output_type": "stream",
     "text": [
      "2 3\n"
     ]
    }
   ],
   "source": [
    "#3参考答案\n",
    "words=\"12~!AoRfc \"\n",
    "#设置初始值\n",
    "upper_cnt = 0\n",
    "lower_cnt = 0\n",
    "for char in words:\n",
    "    if ord('a')<=ord(char)<=ord('z'):\n",
    "        lower_cnt += 1 # 等价于 lower_cnt = lower_cnt + 1\n",
    "    if ord('A')<=ord(char)<=ord('Z'):\n",
    "        upper_cnt += 1 # 等价于 upper_cnt = upper_cnt + 1\n",
    "print(upper_cnt,lower_cnt)"
   ]
  },
  {
   "cell_type": "code",
   "execution_count": 34,
   "metadata": {},
   "outputs": [
    {
     "name": "stdout",
     "output_type": "stream",
     "text": [
      "32.66026079864164\n"
     ]
    }
   ],
   "source": [
    "#5\n",
    "a = 1\n",
    "b = 2\n",
    "s = 0\n",
    "for i in range(20):\n",
    "    if i<20:\n",
    "        s=s+b/a\n",
    "        c=a+b\n",
    "        a=b\n",
    "        b=c\n",
    "print(s)"
   ]
  },
  {
   "cell_type": "code",
   "execution_count": 21,
   "metadata": {},
   "outputs": [
    {
     "name": "stdout",
     "output_type": "stream",
     "text": [
      "76\n",
      "88\n",
      "98\n",
      "44\n",
      "101\n",
      "平均成绩： 76.5\n"
     ]
    }
   ],
   "source": [
    "#6\n",
    "s = 0\n",
    "i = 0\n",
    "while True:\n",
    "    m = int(input())\n",
    "    if m<0 or m>100:\n",
    "        break\n",
    "    s=s+m\n",
    "    i=i+1\n",
    "print(\"平均成绩：\",s/i)"
   ]
  },
  {
   "cell_type": "code",
   "execution_count": 1,
   "metadata": {},
   "outputs": [
    {
     "name": "stdout",
     "output_type": "stream",
     "text": [
      "a=2\n",
      "b=4\n",
      "n=5\n",
      "0.5\n"
     ]
    }
   ],
   "source": [
    "#7\n",
    "import math\n",
    "a = int(input(\"a=\"))\n",
    "b = int(input(\"b=\"))\n",
    "n = int(input(\"n=\"))\n",
    "s = a/b\n",
    "print(round(s,n))"
   ]
  },
  {
   "cell_type": "code",
   "execution_count": 2,
   "metadata": {},
   "outputs": [
    {
     "name": "stdout",
     "output_type": "stream",
     "text": [
      "1534\n"
     ]
    }
   ],
   "source": [
    "#8\n",
    "n = 1\n",
    "s = 1\n",
    "while n <= 9:\n",
    "    s = (s + 1) * 2\n",
    "    n = n + 1\n",
    "print(s)"
   ]
  },
  {
   "cell_type": "code",
   "execution_count": 39,
   "metadata": {},
   "outputs": [
    {
     "name": "stdout",
     "output_type": "stream",
     "text": [
      "1+3+5+8+13+21+34+55+89+144+233+377+610+987+1597+2584+4181+6765+10946+17711=46364\n"
     ]
    }
   ],
   "source": [
    "#9\n",
    "a = 3\n",
    "b = 5\n",
    "s = 1+3+5\n",
    "t = \"1+3+5+\"\n",
    "i = 0\n",
    "while i<17:\n",
    "    c=a+b\n",
    "    s=s+c\n",
    "    t=t+str(c)\n",
    "    if i<16:\n",
    "        t=t+\"+\"\n",
    "    a = b\n",
    "    b = c\n",
    "    i = i+1\n",
    "print(t+\"=\"+str(s))\n",
    "  "
   ]
  },
  {
   "cell_type": "code",
   "execution_count": 3,
   "metadata": {},
   "outputs": [
    {
     "name": "stdout",
     "output_type": "stream",
     "text": [
      "6是一个完数，分解因子为：\n",
      "[1, 2, 3]\n",
      "28是一个完数，分解因子为：\n",
      "[1, 2, 4, 7, 14]\n",
      "496是一个完数，分解因子为：\n",
      "[1, 2, 4, 8, 16, 31, 62, 124, 248]\n"
     ]
    }
   ],
   "source": [
    "#10\n",
    "for n in range (1,1000):\n",
    "    numbers = [ ]\n",
    "    for a in range (1,n):\n",
    "        if n%a ==0:\n",
    "            numbers.append(a)\n",
    "    if sum(numbers)==n:\n",
    "        print (str(n)+'是一个完数，分解因子为：')\n",
    "        print (numbers)\n"
   ]
  },
  {
   "cell_type": "code",
   "execution_count": 29,
   "metadata": {},
   "outputs": [
    {
     "name": "stdout",
     "output_type": "stream",
     "text": [
      "997\n"
     ]
    }
   ],
   "source": [
    "#11\n",
    "m = 1000\n",
    "n = 1000\n",
    "while True:\n",
    "    if m%7==3 and m%5==2 and m%3==1:\n",
    "        print(m)\n",
    "        break\n",
    "    if n%7==3 and n%5==2 and n%3==1:\n",
    "        print(n)\n",
    "        break\n",
    "    n=n+1\n",
    "    m=m-1"
   ]
  },
  {
   "cell_type": "code",
   "execution_count": 3,
   "metadata": {},
   "outputs": [
    {
     "name": "stdout",
     "output_type": "stream",
     "text": [
      "8 年后\n"
     ]
    }
   ],
   "source": [
    "#12\n",
    "a = 12\n",
    "b = 32\n",
    "i = 0\n",
    "while True:\n",
    "    i=i+1\n",
    "    a=a+1\n",
    "    b=b+1\n",
    "    if b==2*a:\n",
    "        break\n",
    "print(i,\"年后\")"
   ]
  },
  {
   "cell_type": "code",
   "execution_count": 4,
   "metadata": {},
   "outputs": [
    {
     "name": "stdout",
     "output_type": "stream",
     "text": [
      "a vs z b vs x c vs y\n"
     ]
    }
   ],
   "source": [
    "#13\n",
    "for a in ['x','y','z']:\n",
    "    for b in ['x','y','z']:\n",
    "        for c in ['x','y','z']:\n",
    "            if a!=b and a!=c and b!=c and a!='x'and c!='x' and c!='z':\n",
    "                print(\"a vs\",a,\"b vs\",b,\"c vs\",c)\n"
   ]
  },
  {
   "cell_type": "code",
   "execution_count": 13,
   "metadata": {},
   "outputs": [
    {
     "name": "stdout",
     "output_type": "stream",
     "text": [
      "20\n"
     ]
    }
   ],
   "source": [
    "#14\n",
    "a = 60\n",
    "i = 0\n",
    "while True:\n",
    "    a=a*1.015\n",
    "    i=i+1\n",
    "    if a>=80:\n",
    "        break\n",
    "print(i)"
   ]
  },
  {
   "cell_type": "code",
   "execution_count": 47,
   "metadata": {},
   "outputs": [
    {
     "name": "stdout",
     "output_type": "stream",
     "text": [
      "共经过： 239.6875\n",
      "第10次： 0.15625\n"
     ]
    }
   ],
   "source": [
    "#15\n",
    "h = 80\n",
    "s = h\n",
    "for i in range(9):\n",
    "    s=s+h\n",
    "    h=h/2\n",
    "print(\"共经过：\",s)\n",
    "print(\"第10次：\",h)"
   ]
  },
  {
   "cell_type": "code",
   "execution_count": null,
   "metadata": {},
   "outputs": [],
   "source": []
  },
  {
   "cell_type": "code",
   "execution_count": null,
   "metadata": {},
   "outputs": [],
   "source": []
  },
  {
   "cell_type": "code",
   "execution_count": null,
   "metadata": {},
   "outputs": [],
   "source": []
  }
 ],
 "metadata": {
  "kernelspec": {
   "display_name": "Python 3",
   "language": "python",
   "name": "python3"
  },
  "language_info": {
   "codemirror_mode": {
    "name": "ipython",
    "version": 3
   },
   "file_extension": ".py",
   "mimetype": "text/x-python",
   "name": "python",
   "nbconvert_exporter": "python",
   "pygments_lexer": "ipython3",
   "version": "3.7.4"
  }
 },
 "nbformat": 4,
 "nbformat_minor": 2
}
