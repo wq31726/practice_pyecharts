{
 "cells": [
  {
   "cell_type": "code",
   "execution_count": 4,
   "metadata": {},
   "outputs": [],
   "source": [
    "from pony.orm import *\n",
    "\n",
    "\n",
    "db = Database()\n",
    "\n",
    "\n",
    "class Student(db.Entity):\n",
    "    id = PrimaryKey(int, auto=True)\n",
    "    Class = Required('Class')\n",
    "    no = Optional(str, column='no')\n",
    "    passwd = Optional(str, column='passwd')\n",
    "    courses = Set('Course')\n",
    "    name = Optional(str, column='name')\n",
    "\n",
    "\n",
    "class Class(db.Entity):\n",
    "    id = PrimaryKey(int, auto=True)\n",
    "    students = Set(Student)\n",
    "    name = Optional(str, column='name')\n",
    "\n",
    "\n",
    "class Course(db.Entity):\n",
    "    id = PrimaryKey(int, auto=True)\n",
    "    students = Set(Student)\n",
    "    name = Optional(str, column='name')\n",
    "\n",
    "\n",
    "\n",
    "\n",
    "\n",
    "\n",
    "\n",
    "\n",
    "#db.generate_mapping()"
   ]
  },
  {
   "cell_type": "markdown",
   "metadata": {},
   "source": [
    "# 如果没有这个223344.sqlite文件，需要先手动创建一个文本的空文件"
   ]
  },
  {
   "cell_type": "code",
   "execution_count": 5,
   "metadata": {},
   "outputs": [],
   "source": [
    "db.bind(provider='sqlite', filename='c:/Users/s/Desktop/223344.sqlite')\n",
    "\n",
    "db.generate_mapping(create_tables=True)\n",
    "\n",
    "set_sql_debug(True)"
   ]
  },
  {
   "cell_type": "markdown",
   "metadata": {},
   "source": [
    "# 创建数据"
   ]
  },
  {
   "cell_type": "code",
   "execution_count": 6,
   "metadata": {},
   "outputs": [
    {
     "name": "stdout",
     "output_type": "stream",
     "text": [
      "GET NEW CONNECTION\n",
      "BEGIN IMMEDIATE TRANSACTION\n",
      "INSERT INTO \"Class\" (\"name\") VALUES (?)\n",
      "['商务数据181']\n",
      "\n",
      "INSERT INTO \"Course\" (\"name\") VALUES (?)\n",
      "['运营数据分析']\n",
      "\n",
      "INSERT INTO \"Course\" (\"name\") VALUES (?)\n",
      "['行业报告撰写']\n",
      "\n",
      "INSERT INTO \"Student\" (\"Class\", \"no\", \"passwd\", \"name\") VALUES (?, ?, ?, ?)\n",
      "[1, '04', '123', '小明']\n",
      "\n",
      "INSERT INTO \"Student\" (\"Class\", \"no\", \"passwd\", \"name\") VALUES (?, ?, ?, ?)\n",
      "[1, '08', '456', '小红']\n",
      "\n",
      "EXECUTEMANY (2)\n",
      "INSERT INTO \"Course_Student\" (\"course\", \"student\") VALUES (?, ?)\n",
      "[1, 1]\n",
      "[2, 2]\n",
      "\n",
      "COMMIT\n"
     ]
    }
   ],
   "source": [
    "cls1 = Class(name=\"商务数据181\")\n",
    "course1 = Course(name=\"运营数据分析\")\n",
    "course2 = Course(name=\"行业报告撰写\")\n",
    "s1 = Student(name=\"小明\",no=\"04\",Class = cls1,passwd=\"123\",courses=(course1))\n",
    "s2 = Student(name=\"小红\",no=\"08\",Class = cls1,passwd=\"456\",courses=(course2))\n",
    "db.commit()"
   ]
  },
  {
   "cell_type": "markdown",
   "metadata": {},
   "source": [
    "# 查询商务数据181班级有几人"
   ]
  },
  {
   "cell_type": "code",
   "execution_count": 7,
   "metadata": {},
   "outputs": [
    {
     "name": "stdout",
     "output_type": "stream",
     "text": [
      "BEGIN IMMEDIATE TRANSACTION\n",
      "SELECT \"c\".\"id\", \"c\".\"name\"\n",
      "FROM \"Class\" \"c\"\n",
      "WHERE \"c\".\"name\" = '商务数据181'\n",
      "\n",
      "<pony.orm.core.Query object at 0x000001E39E769E08> 1\n"
     ]
    }
   ],
   "source": [
    "cc = Class.select(lambda c:c.name=='商务数据181')\n",
    "print(cc,len(cc))"
   ]
  },
  {
   "cell_type": "markdown",
   "metadata": {},
   "source": [
    "# 改班级学生学习了什么课程"
   ]
  },
  {
   "cell_type": "code",
   "execution_count": 8,
   "metadata": {},
   "outputs": [
    {
     "name": "stdout",
     "output_type": "stream",
     "text": [
      "小红\n",
      "行业报告撰写\n",
      "=====\n",
      "小明\n",
      "运营数据分析\n",
      "=====\n"
     ]
    }
   ],
   "source": [
    "for c in cc:\n",
    "    for stu in c.students:\n",
    "        print(stu.name)\n",
    "        for course in stu.courses :\n",
    "            print(course.name)\n",
    "        print(\"=\"*5)"
   ]
  },
  {
   "cell_type": "code",
   "execution_count": null,
   "metadata": {},
   "outputs": [],
   "source": []
  }
 ],
 "metadata": {
  "kernelspec": {
   "display_name": "Python 3",
   "language": "python",
   "name": "python3"
  },
  "language_info": {
   "codemirror_mode": {
    "name": "ipython",
    "version": 3
   },
   "file_extension": ".py",
   "mimetype": "text/x-python",
   "name": "python",
   "nbconvert_exporter": "python",
   "pygments_lexer": "ipython3",
   "version": "3.7.4"
  }
 },
 "nbformat": 4,
 "nbformat_minor": 4
}
