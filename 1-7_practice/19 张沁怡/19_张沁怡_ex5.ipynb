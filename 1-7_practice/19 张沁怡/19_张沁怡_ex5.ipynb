{
 "cells": [
  {
   "cell_type": "markdown",
   "metadata": {},
   "source": [
    "# 1.定义一个数学中的复数类 Complex，它有一个构造函数与一个显示函数,建立一个Complex 对象并调用该显示函数显示。"
   ]
  },
  {
   "cell_type": "code",
   "execution_count": 2,
   "metadata": {},
   "outputs": [
    {
     "name": "stdout",
     "output_type": "stream",
     "text": [
      "(4,5)\n"
     ]
    }
   ],
   "source": [
    "class Complex:\n",
    "    def __init__(self,a, b):\n",
    "        self.a=a\n",
    "        self.b=b\n",
    "    def show(self): \n",
    "        print(\"(\"+str(self.a)+\",\"+str(self.b)+\")\")\n",
    "c=Complex(4,5)\n",
    "c.show()"
   ]
  },
  {
   "cell_type": "markdown",
   "metadata": {},
   "source": [
    "# 2.定义一个计算机类 MyComputer，它包含 CPU 类型(String 类型）、RAM 内存大小(Integer类型)、HD 硬盘大小(Integer 类型)，设计它的构造函数，并设计一个显示函数，建立一个MyComputer 对象并调用该显示函数显示。"
   ]
  },
  {
   "cell_type": "code",
   "execution_count": 8,
   "metadata": {},
   "outputs": [
    {
     "name": "stdout",
     "output_type": "stream",
     "text": [
      "Intel i-5 16 500\n"
     ]
    }
   ],
   "source": [
    "class MyComputer:\n",
    "    def __init__(self,CPU,RAM,HD):\n",
    "        self.CPU=CPU\n",
    "        self.RAM=RAM\n",
    "        self.HD=HD\n",
    "    def show(self):\n",
    "        print(self.CPU,self.RAM,self.HD)\n",
    "a=MyComputer(\"Intel i-5\",16,500)\n",
    "a.show()"
   ]
  },
  {
   "cell_type": "markdown",
   "metadata": {},
   "source": [
    "# 3. 设计一个整数类 MyInteger，它有一个整数变量，并有一个 Value 属性，可以通过为 Value存取该变量的值，还有一个转二进制字符串的成员函数 toBin 及转十六进制字符串的成员函数 toHex"
   ]
  },
  {
   "cell_type": "code",
   "execution_count": 10,
   "metadata": {},
   "outputs": [
    {
     "name": "stdout",
     "output_type": "stream",
     "text": [
      "4\n",
      "0b100\n",
      "0x4\n"
     ]
    }
   ],
   "source": [
    "class MyInteger:\n",
    "    def __init__(self,Value):\n",
    "        self.Value=Value\n",
    "    def show(self):\n",
    "        print(self.Value)\n",
    "    def toBin(self):\n",
    "        return bin(self.Value)\n",
    "    def toHex(self):\n",
    "        return hex(self.Value)\n",
    "a=MyInteger(4)\n",
    "a.show()\n",
    "print(a.toBin())\n",
    "print(a.toHex())"
   ]
  },
  {
   "cell_type": "markdown",
   "metadata": {},
   "source": [
    "# 4. 建立一个普通人员类 Person，包含姓名(m_name)、性别(m_sex)、年龄(m_age)成员变量。"
   ]
  },
  {
   "cell_type": "markdown",
   "metadata": {},
   "source": [
    "(1) 建立 Person 类，包含 Private 成员 m_name、m_sex、m_age 成员变量； (2) 建立 Person 的构造函数； (3) 建立一个显示过程 Show()，显示该对象的数据； (4) 派生一个学生类 Student，增加班级(m_class)，专业(m_major)，设计这些类的构造函 数； (5) 建立 m_class、m_major 对应的属性函数 sClass()、sMajor()； (6) 建立显示成员函数 Show()，显示该学生对象所有成员数据；"
   ]
  },
  {
   "cell_type": "code",
   "execution_count": 17,
   "metadata": {},
   "outputs": [
    {
     "name": "stdout",
     "output_type": "stream",
     "text": [
      "404 M 27 Class 1 Chinese\n"
     ]
    }
   ],
   "source": [
    "class Person:\n",
    "    def __init__(self,name,sex,age):\n",
    "        self.m_name=name\n",
    "        self.m_sex=sex\n",
    "        self.m_age=age\n",
    "    def show(self,end=\"/n\"):\n",
    "        print(self.m_name,self.m_sex,self.m_age,end=end)\n",
    "        \n",
    "class Student(Person):\n",
    "    def __init__(self,name,sex,age,mclass,mmajor):\n",
    "        Person.__init__(self,name,sex,age)\n",
    "        self.m_class=mclass\n",
    "        self.m_major=mmajor\n",
    "    def sClass(self):\n",
    "        return self.m_class\n",
    "    def sMajor(self):\n",
    "        return self.m_major\n",
    "    def show(self):\n",
    "        Person.show(self,end=\" \")\n",
    "        print(self.m_class,self.m_major)\n",
    "s=Student(\"404\",\"M\",27,\"Class 1\",\"Chinese\")\n",
    "s.show()"
   ]
  },
  {
   "cell_type": "markdown",
   "metadata": {},
   "source": [
    "# 5. 建立一个时间类 Time，它包含时 hour,分 minute，秒 second 的实例属性 "
   ]
  },
  {
   "cell_type": "markdown",
   "metadata": {},
   "source": [
    "(1) 设计时间显示函数 show(self)； (2) 设计两个时间大小比较函数 compare(self,t)，其中 t 是另外一个时间"
   ]
  },
  {
   "cell_type": "code",
   "execution_count": null,
   "metadata": {},
   "outputs": [],
   "source": []
  }
 ],
 "metadata": {
  "kernelspec": {
   "display_name": "Python 3",
   "language": "python",
   "name": "python3"
  },
  "language_info": {
   "codemirror_mode": {
    "name": "ipython",
    "version": 3
   },
   "file_extension": ".py",
   "mimetype": "text/x-python",
   "name": "python",
   "nbconvert_exporter": "python",
   "pygments_lexer": "ipython3",
   "version": "3.7.4"
  }
 },
 "nbformat": 4,
 "nbformat_minor": 4
}
