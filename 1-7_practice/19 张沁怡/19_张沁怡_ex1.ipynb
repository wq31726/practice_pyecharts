{
 "cells": [
  {
   "cell_type": "code",
   "execution_count": 5,
   "metadata": {},
   "outputs": [
    {
     "name": "stdout",
     "output_type": "stream",
     "text": [
      "20\n"
     ]
    }
   ],
   "source": [
    "def area(a,b):\n",
    "\n",
    "    return a*b\n",
    "print(area(4,5))"
   ]
  },
  {
   "cell_type": "code",
   "execution_count": 4,
   "metadata": {},
   "outputs": [
    {
     "name": "stdout",
     "output_type": "stream",
     "text": [
      "21:46:40\n"
     ]
    }
   ],
   "source": [
    "def convert(s):\n",
    "    left = 3600*24 - s\n",
    "    m = left//60\n",
    "    s = left%60\n",
    "    h = 0\n",
    "    if m > 59 :\n",
    "        h = m//60\n",
    "        m = m%60\n",
    "    if h < 10:\n",
    "        h = '0'+ str(h)\n",
    "    if m < 10:\n",
    "        m = '0' + str(m)\n",
    "    if s < 10:\n",
    "        s = '0' + str(s)\n",
    "    return str(h)+\":\"+str(m)+\":\"+str(s)\n",
    "    \n",
    "\n",
    "print(convert(8000))"
   ]
  },
  {
   "cell_type": "code",
   "execution_count": 6,
   "metadata": {},
   "outputs": [
    {
     "name": "stdout",
     "output_type": "stream",
     "text": [
      "False\n",
      "True\n",
      "True\n",
      "0\n",
      "True\n",
      "True\n",
      "True\n",
      "True\n"
     ]
    }
   ],
   "source": [
    "a=1\n",
    "b=2\n",
    "c=3\n",
    "d=0\n",
    "A=(a<b and b>c or a+b<c)\n",
    "print(A)\n",
    "B=(a-b<c or b>c and not c)\n",
    "print(B)\n",
    "C=(not d or b>c+a or a)\n",
    "print(C)\n",
    "D=(d and b and c>d and a*b>c)\n",
    "print(D)\n",
    "E=(not (a>b and c>d))\n",
    "print(E)\n",
    "F=(a*b>c or b+c>d and not d)\n",
    "print(F)\n",
    "G=(c+d<b+d and d<c or 2*b>c)\n",
    "print(G)\n",
    "H=(d<b or c>a+b+d and b<c+a)\n",
    "print(H)"
   ]
  },
  {
   "cell_type": "code",
   "execution_count": 10,
   "metadata": {
    "scrolled": true
   },
   "outputs": [
    {
     "name": "stdout",
     "output_type": "stream",
     "text": [
      "FALSE\n"
     ]
    }
   ],
   "source": [
    "if x>=-5 and x<=0:\n",
    "    print(\"TRUE\")\n",
    "else:\n",
    "    print(\"FALSE\")"
   ]
  },
  {
   "cell_type": "code",
   "execution_count": 9,
   "metadata": {},
   "outputs": [
    {
     "name": "stdout",
     "output_type": "stream",
     "text": [
      "False\n",
      "False\n",
      "-1\n",
      "False\n",
      "1\n"
     ]
    }
   ],
   "source": [
    "a=1\n",
    "b=2\n",
    "c=3\n",
    "x=4\n",
    "y=3\n",
    "A=(a+b>c and b == c)\n",
    "print(A)\n",
    "B=(not a<b and b  !=c or x+y<=3)\n",
    "print(B)\n",
    "C=(a+(b>=x+y) and c-a and y-x)\n",
    "print(C)\n",
    "D=(not (a+b)+c-1 and b+c/2)\n",
    "print(D)\n",
    "E=(a or 1+'a'and b and 'c')\n",
    "print(E)"
   ]
  },
  {
   "cell_type": "code",
   "execution_count": null,
   "metadata": {},
   "outputs": [],
   "source": []
  },
  {
   "cell_type": "code",
   "execution_count": null,
   "metadata": {},
   "outputs": [],
   "source": []
  },
  {
   "cell_type": "code",
   "execution_count": null,
   "metadata": {},
   "outputs": [],
   "source": []
  }
 ],
 "metadata": {
  "kernelspec": {
   "display_name": "Python 3",
   "language": "python",
   "name": "python3"
  },
  "language_info": {
   "codemirror_mode": {
    "name": "ipython",
    "version": 3
   },
   "file_extension": ".py",
   "mimetype": "text/x-python",
   "name": "python",
   "nbconvert_exporter": "python",
   "pygments_lexer": "ipython3",
   "version": "3.7.4"
  }
 },
 "nbformat": 4,
 "nbformat_minor": 4
}
