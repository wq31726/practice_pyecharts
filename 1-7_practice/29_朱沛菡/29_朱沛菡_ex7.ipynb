{
 "cells": [
  {
   "cell_type": "markdown",
   "metadata": {},
   "source": [
    "# 1.简述 Python 连接 MySQL 数据库的方法？"
   ]
  },
  {
   "cell_type": "code",
   "execution_count": null,
   "metadata": {},
   "outputs": [],
   "source": [
    "（1）首先我们需要的是一个MySQLdb的库。使用import来进行测试看是否存在，这个样子就是存在的。\n",
    "（2）使用#! /usr/bin/python# -*- coding: UTF-8 -*-来支持中文。\n",
    "（3）使用import MySQLdb导入库\n",
    "（4）使用connect进行数据库的连接。db=MySQLdb.connect('127.0.0.1','root','root','myself')\n",
    "（5）然后使用db.curspor()方法来获取\n",
    "（6）最后进行sql语句执行查询命令就可以了。"
   ]
  },
  {
   "cell_type": "markdown",
   "metadata": {},
   "source": [
    "# 2.fetchone()怎么样判断读到数据库末尾？"
   ]
  },
  {
   "cell_type": "markdown",
   "metadata": {},
   "source": [
    " 它的返回值是单个的元组,每次执行有一行记录,以此类推，如果返回值到none时，就是末尾"
   ]
  },
  {
   "cell_type": "markdown",
   "metadata": {},
   "source": [
    "# 3.fetchall()与 fetchone()有什么区别？"
   ]
  },
  {
   "cell_type": "code",
   "execution_count": null,
   "metadata": {},
   "outputs": [],
   "source": [
    "（1）fetchone()函数它的返回值是单个的元组,也就是一行记录,如果没有结果,那就会返回null\n",
    "（2）fetchall()函数,它的返回值是多个元组,即返回多个行记录,如果没有结果,返回的是() 一个空的元组"
   ]
  },
  {
   "cell_type": "markdown",
   "metadata": {},
   "source": [
    "# 4.rowcount()返回值代表什么？ "
   ]
  },
  {
   "cell_type": "code",
   "execution_count": null,
   "metadata": {},
   "outputs": [],
   "source": [
    "对数据库进行操作后获得受影响的行数"
   ]
  },
  {
   "cell_type": "markdown",
   "metadata": {},
   "source": [
    "# 5.MySQL 中怎么样使用带参数的 SQL 命令？ "
   ]
  },
  {
   "cell_type": "code",
   "execution_count": null,
   "metadata": {},
   "outputs": [],
   "source": [
    "mysql_query()\n",
    "对于没有数据返回结果集的 SQL ，如 UPDATE、DELETE 等在执行成功时返回 TRUE，出错时返回 FALSE；对于 SELECT，SHOW，EXPLAIN 或 DESCRIBE 语句返回一\n",
    "个资源标识符，如果查询执行不正确则返回 FALSE。6.数据库操作完成后为什么要调用 commit()函数"
   ]
  },
  {
   "cell_type": "markdown",
   "metadata": {},
   "source": [
    "# 6.数据库操作完成后为什么要调用 commit()函数"
   ]
  },
  {
   "cell_type": "code",
   "execution_count": null,
   "metadata": {},
   "outputs": [],
   "source": [
    "COMMIT命令用于把事务所做的修改保存到数据库，它把上一个COMMIT或ROLLBACK命令之后的全部事务都保存到数据库。"
   ]
  },
  {
   "cell_type": "markdown",
   "metadata": {},
   "source": [
    "# 7.什么是游标 cursor，它有什么作用？"
   ]
  },
  {
   "cell_type": "code",
   "execution_count": null,
   "metadata": {},
   "outputs": [],
   "source": [
    "1.cursor是-一个重要的对象\n",
    "2.可以使用它执行各种各样的SQL命令,方法是:cursor.execute (SQL)"
   ]
  },
  {
   "cell_type": "markdown",
   "metadata": {},
   "source": [
    "# 8.Python 怎么样连接 Sqlite 数据库？ "
   ]
  },
  {
   "cell_type": "code",
   "execution_count": null,
   "metadata": {},
   "outputs": [],
   "source": [
    "import sqlite3\n",
    "con=sqlite3.connect(\" test.db\" )"
   ]
  },
  {
   "cell_type": "code",
   "execution_count": null,
   "metadata": {},
   "outputs": [],
   "source": []
  }
 ],
 "metadata": {
  "kernelspec": {
   "display_name": "Python 3",
   "language": "python",
   "name": "python3"
  },
  "language_info": {
   "codemirror_mode": {
    "name": "ipython",
    "version": 3
   },
   "file_extension": ".py",
   "mimetype": "text/x-python",
   "name": "python",
   "nbconvert_exporter": "python",
   "pygments_lexer": "ipython3",
   "version": "3.7.1"
  }
 },
 "nbformat": 4,
 "nbformat_minor": 2
}
