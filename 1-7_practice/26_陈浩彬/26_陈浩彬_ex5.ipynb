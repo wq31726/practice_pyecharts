{
 "cells": [
  {
   "cell_type": "markdown",
   "metadata": {},
   "source": [
    "1、定义一个数学中的复数类Complex，它有一个构造函数与一个显示函数，建立一个Comlplex的对象并调用该显示函数显示。"
   ]
  },
  {
   "cell_type": "code",
   "execution_count": 1,
   "metadata": {},
   "outputs": [
    {
     "name": "stdout",
     "output_type": "stream",
     "text": [
      "__init__ <__main__.complex object at 0x000001CF6C200948> 3\n",
      "<__main__.complex object at 0x000001CF6C200948> 3\n",
      "<__main__.complex object at 0x000001CF6C200948>\n"
     ]
    }
   ],
   "source": [
    "            class complex:\n",
    "    def __init__(self,n):\n",
    "        print('__init__',self,n)\n",
    "        self.math = n\n",
    "    def show(self):\n",
    "        print(self,self.math)\n",
    "c = complex(3)\n",
    "c.show()\n",
    "print(c)"
   ]
  },
  {
   "cell_type": "markdown",
   "metadata": {},
   "source": [
    "2、定义一个计算机类MyComputer，它包含CPU类型(String类型)、RAM内存大小（Integer类型）、HD硬盘大小（Integer类型）设计他的构造函数，并设计一个显示函数，建立一个MyComputer函数对象并调用该显示函数显示。"
   ]
  },
  {
   "cell_type": "code",
   "execution_count": 3,
   "metadata": {},
   "outputs": [
    {
     "name": "stdout",
     "output_type": "stream",
     "text": [
      "<__main__.MyComputer object at 0x000001CF6C2091C8> 很好的CPU 100 20\n",
      "<__main__.MyComputer object at 0x000001CF6C2091C8>\n"
     ]
    }
   ],
   "source": [
    "class MyComputer:\n",
    "    def __init__(self,c:str,r:int,h:int):\n",
    "        self.CPU = c\n",
    "        self.RAM = r\n",
    "        self.HD = h\n",
    "    def show(self):\n",
    "        print(self,self.CPU,self.RAM,self.HD)\n",
    "my = MyComputer(\"很好的CPU\",100,20)\n",
    "my.show()\n",
    "print(my)"
   ]
  },
  {
   "cell_type": "markdown",
   "metadata": {},
   "source": [
    "3.设计一个整数类MyIteger,它有一个整数变量，并有一个Value属性，可以通过Value存取该变量的值，还有一个转二进制的成员函数toBin及转十六进制字符串成员函数toHex。"
   ]
  },
  {
   "cell_type": "code",
   "execution_count": 2,
   "metadata": {},
   "outputs": [
    {
     "name": "stdout",
     "output_type": "stream",
     "text": [
      "0b1011010\n",
      "0x5a\n"
     ]
    }
   ],
   "source": [
    "class MyInteger:\n",
    "    n = 3\n",
    "    value = n\n",
    "    def toBin(a):\n",
    "        a = bin(int(a))\n",
    "        return a\n",
    "    def toHex(b):\n",
    "        b = hex(int(b))\n",
    "        return b\n",
    "print(MyInteger.toBin(90))\n",
    "print(MyInteger.toHex(90))\n"
   ]
  },
  {
   "cell_type": "markdown",
   "metadata": {},
   "source": [
    "4. 建立一个普通人员类 Person，包含姓名(m_name)、性别(m_sex)、年龄(m_age)成员变量。 (1) 建立 Person 类，包含 Private 成员 m_name、m_sex、m_age 成员变量； (2) 建立 Person 的构造函数； (3) 建立一个显示过程 Show()，显示该对象的数据； (4) 派生一个学生类 Student，增加班级(m_class)，专业(m_major)，设计这些类的构造函 数； (5) 建立 m_class、m_major 对应的属性函数 sClass()、sMajor()； (6) 建立显示成员函数 Show()，显示该学生对象所有成员数据"
   ]
  },
  {
   "cell_type": "code",
   "execution_count": 4,
   "metadata": {},
   "outputs": [
    {
     "name": "stdout",
     "output_type": "stream",
     "text": [
      "<__main__.Student object at 0x000001CF6C212208> baby male 20 3 computer\n"
     ]
    }
   ],
   "source": [
    "#(1)建立 Person 类，包含 Private 成员 m_name、m_sex、m_age 成员变量；\n",
    "#(2) 建立 Person 的构造函数；\n",
    "class Person:\n",
    "    def __init__(self,name:str,sex:str,age:int):\n",
    "        self.m_name = name\n",
    "        self.m_sex = sex\n",
    "        self.m_age = age\n",
    "#(3)建立一个显示过程 Show()，显示该对象的数据\n",
    "    def show(self):\n",
    "        print(self,self.m_name,self.m_sex,self.m_age,end=\" \")\n",
    "\n",
    "#(4)派生一个学生类 Student，增加班级(m_class)，专业(m_major)，设计这些类的构造函 数\n",
    "class Student:\n",
    "    def __init__(self,name,sex,age,m_class,m_major):\n",
    "        Person.__init__(self,name,sex,age)\n",
    "        self.m_class = m_class\n",
    "        self.m_major = m_major\n",
    "    def show(self):\n",
    "        Person.show(self)\n",
    "        print(self.m_class,self.m_major)\n",
    "#(5)建立 m_class、m_major 对应的属性函数 sClass()、sMajor()\n",
    "    def sClass(self,sClass):\n",
    "        return sClass\n",
    "    def sMajor(self,sMajor):\n",
    "        return sMajor\n",
    "#(6)建立显示成员函数 Show()，显示该学生对象所有成员数据\n",
    "s = Student(\"baby\",\"male\",20,3,\"computer\")\n",
    "s.show()"
   ]
  },
  {
   "cell_type": "markdown",
   "metadata": {},
   "source": [
    "5. 建立一个时间类 Time，它包含时 hour,分 minute，秒 second 的实例属性 (1) 设计时间显示函数 show(self)； (2) 设计两个时间大小比较函数 compare(self,t)，其中 t 是另外一个时间； "
   ]
  },
  {
   "cell_type": "code",
   "execution_count": null,
   "metadata": {},
   "outputs": [],
   "source": [
    "#5. 建立一个时间类 Time，它包含时 hour,分 minute，秒 second 的实例属性\n",
    "class Time:\n",
    "    hour = 12\n",
    "    hour = float(hour)\n",
    "    minute = 0\n",
    "    minute = float(minute)\n",
    "    second = 0\n",
    "    second = float(second)\n",
    "    def __init__(self,hour,minute,second):\n",
    "        self.hour = hour\n",
    "        self.minute = minute\n",
    "        self.second = second\n",
    "    #(1) 设计时间显示函数 show(self)\n",
    "    def show(self):\n",
    "        print(\"%02d:%02d:%02d\"%(self.hour,self.minute,self.second))\n",
    "    #(2) 设计两个时间大小比较函数 compare(self,t)，其中 t 是另外一个时间\n",
    "    def compare(t:str):\n",
    "        t = t.split(\":\")\n",
    "        h = t[0]\n",
    "        h = float(h)\n",
    "        m = t[1]\n",
    "        m = float(m)\n",
    "        s = t[2]\n",
    "        s = float(s)\n",
    "        if h < 0 or h >= 24 or m < 0 or m >= 60 or s < 0 or s >= 60 :\n",
    "            print(\"时间错误\")\n",
    "        elif  Time.hour > h :\n",
    "            print(\"%02d:%02d:%02d 大\"%(Time.hour,Time.minute,Time.second))\n",
    "        elif Time.hour < h:\n",
    "            print(\"%02d:%02d:%02d 大\" % (h, m, s))\n",
    "        elif Time.hour == h:\n",
    "            if Time.minute > m:\n",
    "                print(\"%02d:%02d:%02d 大\"%(Time.hour,Time.minute,Time.second))\n",
    "            elif Time.minute < m:\n",
    "                print(\"%02d:%02d:%02d 大\"%(h,m,s))\n",
    "            elif Time.minute == m:\n",
    "                if Time.second > s:\n",
    "                    print(\"%02d:%02d:%02d 大\" % (Time.hour, Time.minute, Time.second))\n",
    "                elif Time.second < s:\n",
    "                    print(\"%02d:%02d:%02d 大\" % (h, m, s))\n",
    "                else :\n",
    "                    print(\"一样大\")\n",
    "Time.compare('28:23:23')\n",
    "Time.compare('15:27:43')\n",
    "t = Time(12,35,56)\n",
    "t.show()"
   ]
  }
 ],
 "metadata": {
  "kernelspec": {
   "display_name": "Python 3",
   "language": "python",
   "name": "python3"
  },
  "language_info": {
   "codemirror_mode": {
    "name": "ipython",
    "version": 3
   },
   "file_extension": ".py",
   "mimetype": "text/x-python",
   "name": "python",
   "nbconvert_exporter": "python",
   "pygments_lexer": "ipython3",
   "version": "3.7.4"
  }
 },
 "nbformat": 4,
 "nbformat_minor": 4
}
