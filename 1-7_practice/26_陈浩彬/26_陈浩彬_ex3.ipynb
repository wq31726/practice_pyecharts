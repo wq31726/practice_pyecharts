{
 "cells": [
  {
   "cell_type": "markdown",
   "metadata": {},
   "source": [
    "1.1+2+4...+100的和"
   ]
  },
  {
   "cell_type": "code",
   "execution_count": 1,
   "metadata": {},
   "outputs": [
    {
     "name": "stdout",
     "output_type": "stream",
     "text": [
      "2551\n"
     ]
    }
   ],
   "source": [
    "s=2\n",
    "n=1\n",
    "while s<=100:\n",
    "    n=n+s\n",
    "    s=s+2\n",
    "print(n)"
   ]
  },
  {
   "cell_type": "markdown",
   "metadata": {},
   "source": [
    "2.计算1/3+1/5...1/99的和"
   ]
  },
  {
   "cell_type": "code",
   "execution_count": 1,
   "metadata": {},
   "outputs": [
    {
     "name": "stdout",
     "output_type": "stream",
     "text": [
      "2.9276738383738974\n"
     ]
    }
   ],
   "source": [
    "import math\n",
    "n=1\n",
    "s=1/3\n",
    "s=float(s)\n",
    "n=float(n)\n",
    "\n",
    "while s>=1/99:\n",
    "\n",
    "    n=n+s\n",
    "    s = 1 / (s * (1 / s**2)+ 2)\n",
    "print(n)"
   ]
  },
  {
   "cell_type": "markdown",
   "metadata": {},
   "source": [
    "3.从键盘输入一个字符串，直到回车结束，统计字符串中的大小写英文字母各有多少个？"
   ]
  },
  {
   "cell_type": "code",
   "execution_count": null,
   "metadata": {},
   "outputs": [],
   "source": [
    "int_count = 0\n",
    "upper_count = 0\n",
    "lower_count = 0\n",
    "other_count = 0\n",
    "a = input('输入一串字符并按回车键\\n')\n",
    "for i in a:\n",
    "    if i.isdigit():\n",
    "        int_count += 1\n",
    "    elif i.islower():\n",
    "        lower_count += 1\n",
    "    elif i.isupper():\n",
    "        upper_count += 1\n",
    "    else:\n",
    "        other_count += 1\n",
    "print('数字 = %d , 大写字母 = %d , 小写字母 = %d , 其他 = %d' %(  int_count ,upper_count,lower_count,other_count))"
   ]
  },
  {
   "cell_type": "markdown",
   "metadata": {},
   "source": [
    "4.计算2/1+3/2...的前20项之和："
   ]
  },
  {
   "cell_type": "code",
   "execution_count": null,
   "metadata": {},
   "outputs": [],
   "source": [
    "n=2\n",
    "a=2\n",
    "b=1\n",
    "s=1\n",
    "while s<20:\n",
    "    c=a+b\n",
    "    d=a\n",
    "    n=n+c/d\n",
    "    a=c+d\n",
    "    b=c\n",
    "    s=s+1\n",
    "print(n)"
   ]
  },
  {
   "cell_type": "markdown",
   "metadata": {},
   "source": [
    "5.输入若干个成绩，计算平均成绩，如果成绩为负或大于100时表示结束输入"
   ]
  },
  {
   "cell_type": "code",
   "execution_count": null,
   "metadata": {},
   "outputs": [],
   "source": [
    "import math\n",
    "list_score=[] #创建一个列表来输入成绩\n",
    "n=1\n",
    "m=0\n",
    "s=0\n",
    "while n>m:  #创建n与m的值需要时可以推出循环\n",
    "    n=n\n",
    "    m=m\n",
    "    s=s+1   #计算输入次数（人数）\n",
    "    list_score.append(input('输入成绩：')) #将输入的成绩放进列表中\n",
    "    float_score_list = [float(f) for f in list_score] #将列表中的数转化位浮点数便于计算\n",
    "    print(float_score_list) #查看列表中的数\n",
    "    judge_list=[i for i in float_score_list if i > 100 or i < 0] #筛选出列表中大于100小于0的数便于结束输入成绩\n",
    "    num = len(judge_list)    #num=这个数组的长度\n",
    "    if num == 1: #如果长度=1（就是这个数组有数）就计算成绩平均值并且m+2可以退出循环。\n",
    "        ave = sum(float_score_list[:s-1])/(s-1)\n",
    "        m += 2\n",
    "        break\n",
    "print('学生成绩分别是：'+str(float_score_list[:s-1]),'平均值为：'+str(ave),sep='\\n')"
   ]
  },
  {
   "cell_type": "markdown",
   "metadata": {},
   "source": [
    "6.输入abn，求a/b 输入的值为小数点后n位的值"
   ]
  },
  {
   "cell_type": "code",
   "execution_count": null,
   "metadata": {},
   "outputs": [],
   "source": [
    "a=int(input('输入a:'))\n",
    "b=int(input('输入b:'))\n",
    "n=int(input('输入n:'))\n",
    "num=a/b\n",
    "\n",
    "d= '%.{}f' .format(n)\n",
    "print(d %num)"
   ]
  },
  {
   "cell_type": "markdown",
   "metadata": {},
   "source": [
    "7.猴子吃桃"
   ]
  },
  {
   "cell_type": "code",
   "execution_count": null,
   "metadata": {},
   "outputs": [],
   "source": [
    "peach=1\n",
    "i=1\n",
    "while i<10:\n",
    "    peach=(peach+1)*2\n",
    "    i=i+1\n",
    "today_get_peach=peach*(1/2)+1\n",
    "print(today_get_peach)"
   ]
  },
  {
   "cell_type": "markdown",
   "metadata": {},
   "source": [
    "8.计算1+3+5+8....用while 前20项和"
   ]
  },
  {
   "cell_type": "code",
   "execution_count": null,
   "metadata": {},
   "outputs": [],
   "source": [
    "sum = 3\n",
    "s = 0\n",
    "m = 5\n",
    "while s <= 19:\n",
    "    sum = sum + m\n",
    "    m = sum\n",
    "    s += 1\n",
    "sum += 1\n",
    "print(sum)"
   ]
  },
  {
   "cell_type": "markdown",
   "metadata": {},
   "source": [
    "9.一个数如正好等于它的所有因子之和，则称为完数，例如6的因子有1.2.3 而1+2+3=6所以6是一个完数 找出1000之内所有的完数"
   ]
  },
  {
   "cell_type": "code",
   "execution_count": null,
   "metadata": {},
   "outputs": [],
   "source": [
    "num=[]\n",
    "for n in range(1,1000):\n",
    "    for a in range(1,n):\n",
    "        if n % a == 0:\n",
    "            num.append(a)\n",
    "    if sum(num) == n:\n",
    "        print(n)"
   ]
  },
  {
   "cell_type": "markdown",
   "metadata": {},
   "source": [
    "10.学生排队"
   ]
  },
  {
   "cell_type": "code",
   "execution_count": null,
   "metadata": {},
   "outputs": [],
   "source": [
    "for i in range(900,1500):\n",
    "    if i % 7 == 3 and i % 5 == 2 and i % 3 == 1:\n",
    "        print(i)"
   ]
  },
  {
   "cell_type": "markdown",
   "metadata": {},
   "source": [
    "11.小华今年12，他妈妈比他大20岁，编写程序计算多少年后他妈妈年龄比他大一岁"
   ]
  },
  {
   "cell_type": "code",
   "execution_count": null,
   "metadata": {},
   "outputs": [],
   "source": [
    "xiaohua_age = 12\n",
    "xiaohua_mom_age = 32\n",
    "for i in range (1,120):\n",
    "    if 2*(xiaohua_age + i) == xiaohua_mom_age + i:\n",
    "        print(i)"
   ]
  },
  {
   "cell_type": "markdown",
   "metadata": {},
   "source": [
    "12.两个球队乒乓球比赛 "
   ]
  },
  {
   "cell_type": "code",
   "execution_count": null,
   "metadata": {},
   "outputs": [],
   "source": [
    "for i in range (ord('x'),ord('z')+1):\n",
    "    for j in range (ord('x'),ord('z')+1):\n",
    "        for k in range(ord('x'), ord('z') + 1):\n",
    "            if i != j and  j != k and k != i:\n",
    "                if i != ord('x') and k !=ord('x') and k != ord('z'):\n",
    "                    print('a vs %s , b vs %s , c vs %s'%(chr(i),chr(j),chr(k)))"
   ]
  },
  {
   "cell_type": "markdown",
   "metadata": {},
   "source": [
    "14.目前人口是14亿 如果每年按1.5%比例增长 则多好啊年后是80亿"
   ]
  },
  {
   "cell_type": "code",
   "execution_count": null,
   "metadata": {},
   "outputs": [],
   "source": [
    "now_pplt = 60\n",
    "y_increase = 0.0115\n",
    "i = 0\n",
    "while now_pplt <= 80:\n",
    "    now_pplt=now_pplt+now_pplt*y_increase\n",
    "    i = i +1\n",
    "print(i)"
   ]
  },
  {
   "cell_type": "markdown",
   "metadata": {},
   "source": [
    "15.球球下落题，求第十次时总路程和第十次反弹"
   ]
  },
  {
   "cell_type": "code",
   "execution_count": null,
   "metadata": {},
   "outputs": [],
   "source": [
    "high = 80\n",
    "s = 0\n",
    "s_down = 0\n",
    "s_up = 0\n",
    "s_ALL = 0\n",
    "while s <= 11:\n",
    "    high_10 = high * 1/2\n",
    "    high = high_10\n",
    "    s=s+1\n",
    "print('第十次小球高度为:',high_10)\n",
    "high = 80\n",
    "s = 0\n",
    "while s <= 11:\n",
    "    s_down = high + s_down\n",
    "    high = 1/2 * high\n",
    "    s_up = high + s_up\n",
    "    s_ALL = s_down + s_up\n",
    "    s = s + 1\n",
    "print('第十次小球总路程为:',s_ALL)"
   ]
  }
 ],
 "metadata": {
  "kernelspec": {
   "display_name": "Python 3",
   "language": "python",
   "name": "python3"
  },
  "language_info": {
   "codemirror_mode": {
    "name": "ipython",
    "version": 3
   },
   "file_extension": ".py",
   "mimetype": "text/x-python",
   "name": "python",
   "nbconvert_exporter": "python",
   "pygments_lexer": "ipython3",
   "version": "3.7.4"
  }
 },
 "nbformat": 4,
 "nbformat_minor": 4
}
