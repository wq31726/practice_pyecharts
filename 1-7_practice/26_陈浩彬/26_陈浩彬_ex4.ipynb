{
 "cells": [
  {
   "cell_type": "markdown",
   "metadata": {},
   "source": [
    "1.不可以！下面为修改方法："
   ]
  },
  {
   "cell_type": "code",
   "execution_count": 1,
   "metadata": {},
   "outputs": [
    {
     "name": "stdout",
     "output_type": "stream",
     "text": [
      "1\n"
     ]
    }
   ],
   "source": [
    "s = 'abc'\n",
    "b = []\n",
    "for i in s:\n",
    "    b.append(i)\n",
    "b.remove('a')\n",
    "b.insert(0,1)\n",
    "string = ''.join(map(str,b))\n",
    "s = string\n",
    "print(s[0])"
   ]
  },
  {
   "cell_type": "markdown",
   "metadata": {},
   "source": [
    "2.输入一串字符串，输出它所包含的数字："
   ]
  },
  {
   "cell_type": "code",
   "execution_count": null,
   "metadata": {},
   "outputs": [],
   "source": [
    "string = input('输入一串字符：')\n",
    "digit = []\n",
    "for i in string:\n",
    "    if i.isdigit():\n",
    "        digit.append(i)\n",
    "print(''.join(map(str,digit)))"
   ]
  },
  {
   "cell_type": "markdown",
   "metadata": {},
   "source": [
    "3.设计一个字符串函数reverse(s)，它返回字符串s的反串"
   ]
  },
  {
   "cell_type": "code",
   "execution_count": null,
   "metadata": {},
   "outputs": [],
   "source": [
    "def reverse(s):\n",
    "    t = \"\"\n",
    "    for i in range(len(s)-1,-1,-1):\n",
    "        t = t + s[i]\n",
    "    return t\n",
    "print(reverse('asdad'))"
   ]
  },
  {
   "cell_type": "markdown",
   "metadata": {},
   "source": [
    "4.列表于元组的最大区别就是，元组内的元素不能修改，列表中的元素可以修改。"
   ]
  },
  {
   "cell_type": "markdown",
   "metadata": {},
   "source": [
    "5.列表内元素类型不需要一致。"
   ]
  },
  {
   "cell_type": "markdown",
   "metadata": {},
   "source": [
    "6.可以嵌套别的列表"
   ]
  },
  {
   "cell_type": "code",
   "execution_count": null,
   "metadata": {},
   "outputs": [],
   "source": [
    "list_1 = [1,2,4,'a','asd']\n",
    "list_2 = [list_1,'asd',2,3]\n",
    "print(list_2)"
   ]
  },
  {
   "cell_type": "code",
   "execution_count": null,
   "metadata": {},
   "outputs": [],
   "source": [
    "7.用字典描述一个日期 如含年year，月month，日day的关键词"
   ]
  },
  {
   "cell_type": "code",
   "execution_count": null,
   "metadata": {},
   "outputs": [],
   "source": [
    "date = {\n",
    "    'year' : 2020 , 'month' : 3 , 'day' : 3,\n",
    "    '年' : 2020 , '月' : 3 , '日' : 3\n",
    "}\n",
    "print(date)"
   ]
  },
  {
   "cell_type": "markdown",
   "metadata": {},
   "source": [
    "8.  python和json从形式上看，都是“Key：Value”的形式。\n",
    "    Python中提供了json.load()转换函数，方便json数据的调用。"
   ]
  },
  {
   "cell_type": "markdown",
   "metadata": {},
   "source": [
    "9.\n",
    "name A\n",
    "sex M\n",
    "name B\n",
    "sex C"
   ]
  },
  {
   "cell_type": "markdown",
   "metadata": {},
   "source": [
    "10.设计一个计算时间t1于t2的时间差的函数interval(t1,t2)，返回同结构的一个字典。"
   ]
  },
  {
   "cell_type": "code",
   "execution_count": null,
   "metadata": {},
   "outputs": [],
   "source": []
  }
 ],
 "metadata": {
  "kernelspec": {
   "display_name": "Python 3",
   "language": "python",
   "name": "python3"
  },
  "language_info": {
   "codemirror_mode": {
    "name": "ipython",
    "version": 3
   },
   "file_extension": ".py",
   "mimetype": "text/x-python",
   "name": "python",
   "nbconvert_exporter": "python",
   "pygments_lexer": "ipython3",
   "version": "3.7.4"
  }
 },
 "nbformat": 4,
 "nbformat_minor": 4
}
