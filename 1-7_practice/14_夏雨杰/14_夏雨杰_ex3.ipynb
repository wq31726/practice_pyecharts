{
 "cells": [
  {
   "cell_type": "code",
   "execution_count": 1,
   "metadata": {},
   "outputs": [
    {
     "name": "stdin",
     "output_type": "stream",
     "text": [
      "输入一段字符: ashdashgdhYYY\n"
     ]
    },
    {
     "name": "stdout",
     "output_type": "stream",
     "text": [
      "小写:  10 大写： 3\n"
     ]
    }
   ],
   "source": [
    "s = input('输入一段字符:')\n",
    "a = 0\n",
    "b = 0\n",
    "for x in s:\n",
    "    if x >='a' and x<='z':\n",
    "        a+=1\n",
    "    elif x>='A' and x<='Z':\n",
    "        b+=1\n",
    "print('小写: ',a,'大写：',b)"
   ]
  },
  {
   "cell_type": "code",
   "execution_count": 2,
   "metadata": {},
   "outputs": [
    {
     "name": "stdout",
     "output_type": "stream",
     "text": [
      "2/1+3/2+5/3+8/5+13/8+21/13+34/21+55/34+89/55+144/89+233/144+377/233+610/377+987/610+1597/987+2584/1597+4181/2584+6765/4181+10946/6765+17711/10946=32.66026079864164\n"
     ]
    }
   ],
   "source": [
    "s=0\n",
    "a=1\n",
    "b=2\n",
    "t=\"\"\n",
    "for i in range (20):\n",
    "    t=t+str(b)+\"/\"+str(a)\n",
    "    if i<19:\n",
    "        t=t+\"+\"\n",
    "    else:\n",
    "        t = t+\"=\"\n",
    "    s=s+b/a\n",
    "    c=a+b\n",
    "    a=b\n",
    "    b=c\n",
    "print(t+str(s))"
   ]
  },
  {
   "cell_type": "code",
   "execution_count": null,
   "metadata": {},
   "outputs": [],
   "source": [
    "s = 0\n",
    "n = 0\n",
    "while True:\n",
    "    m = float(input())\n",
    "    if m<0 or m>100:\n",
    "        break\n",
    "    s=s+m\n",
    "    n=n+1\n",
    "print(\"平均：\",s/n)"
   ]
  },
  {
   "cell_type": "code",
   "execution_count": 9,
   "metadata": {},
   "outputs": [
    {
     "name": "stdout",
     "output_type": "stream",
     "text": [
      "请输入正整数a:2\n",
      "请输入正整数b:2\n",
      "请输入正整数n:2\n",
      "%.2f\n",
      "1.00\n"
     ]
    }
   ],
   "source": [
    "a=int(input('请输入正整数a:'))\n",
    "b=int(input('请输入正整数b:'))\n",
    "n=int(input('请输入正整数n:'))\n",
    "\n",
    "num=a/b\n",
    "\n",
    "d='%.{}f'.format(n)\n",
    "print(d)\n",
    "\n",
    "print(d %num)"
   ]
  },
  {
   "cell_type": "code",
   "execution_count": 2,
   "metadata": {},
   "outputs": [
    {
     "name": "stdout",
     "output_type": "stream",
     "text": [
      "10\n",
      "1534\n"
     ]
    }
   ],
   "source": [
    "days = int(input())\n",
    "t = 1\n",
    "for i in range(days-1):\n",
    "    t = (t+1)*2\n",
    "print(t)"
   ]
  },
  {
   "cell_type": "code",
   "execution_count": 20,
   "metadata": {},
   "outputs": [
    {
     "name": "stdout",
     "output_type": "stream",
     "text": [
      "1+3+5+8+13+21+34+55+89+144+233+377+610+987+1597+2584+4181+6765+10946+17711=46364\n"
     ]
    }
   ],
   "source": [
    "a=1\n",
    "b=2\n",
    "s=1\n",
    "t=\"1+\"\n",
    "i=0\n",
    "while i < 19:\n",
    "    c = a+b\n",
    "    s = s+c\n",
    "    t = t+str(c)\n",
    "    if(i<18):\n",
    "        t =t+\"+\"\n",
    "    a = b\n",
    "    b = c\n",
    "    i = i+1\n",
    "print(t+\"=\"+str(s))"
   ]
  },
  {
   "cell_type": "code",
   "execution_count": 12,
   "metadata": {},
   "outputs": [
    {
     "name": "stdout",
     "output_type": "stream",
     "text": [
      "[1, 3, 5, 8, 13, 21]\n",
      "[1, 3, 5, 8, 13, 21, 34]\n",
      "[1, 3, 5, 8, 13, 21, 34, 55]\n",
      "[1, 3, 5, 8, 13, 21, 34, 55, 89]\n",
      "[1, 3, 5, 8, 13, 21, 34, 55, 89, 144]\n",
      "[1, 3, 5, 8, 13, 21, 34, 55, 89, 144, 233]\n",
      "[1, 3, 5, 8, 13, 21, 34, 55, 89, 144, 233, 377]\n",
      "[1, 3, 5, 8, 13, 21, 34, 55, 89, 144, 233, 377, 610]\n",
      "[1, 3, 5, 8, 13, 21, 34, 55, 89, 144, 233, 377, 610, 987]\n",
      "[1, 3, 5, 8, 13, 21, 34, 55, 89, 144, 233, 377, 610, 987, 1597]\n",
      "[1, 3, 5, 8, 13, 21, 34, 55, 89, 144, 233, 377, 610, 987, 1597, 2584]\n",
      "[1, 3, 5, 8, 13, 21, 34, 55, 89, 144, 233, 377, 610, 987, 1597, 2584, 4181]\n",
      "[1, 3, 5, 8, 13, 21, 34, 55, 89, 144, 233, 377, 610, 987, 1597, 2584, 4181, 6765]\n",
      "[1, 3, 5, 8, 13, 21, 34, 55, 89, 144, 233, 377, 610, 987, 1597, 2584, 4181, 6765, 10946]\n",
      "[1, 3, 5, 8, 13, 21, 34, 55, 89, 144, 233, 377, 610, 987, 1597, 2584, 4181, 6765, 10946, 17711]\n",
      "[1, 3, 5, 8, 13, 21, 34, 55, 89, 144, 233, 377, 610, 987, 1597, 2584, 4181, 6765, 10946, 17711, 28657]\n",
      "[1, 3, 5, 8, 13, 21, 34, 55, 89, 144, 233, 377, 610, 987, 1597, 2584, 4181, 6765, 10946, 17711, 28657, 46368]\n",
      "[1, 3, 5, 8, 13, 21, 34, 55, 89, 144, 233, 377, 610, 987, 1597, 2584, 4181, 6765, 10946, 17711, 28657, 46368, 75025]\n",
      "[1, 3, 5, 8, 13, 21, 34, 55, 89, 144, 233, 377, 610, 987, 1597, 2584, 4181, 6765, 10946, 17711, 28657, 46368, 75025, 121393]\n",
      "[1, 3, 5, 8, 13, 21, 34, 55, 89, 144, 233, 377, 610, 987, 1597, 2584, 4181, 6765, 10946, 17711, 28657, 46368, 75025, 121393, 196418]\n",
      "==========\n",
      "25\n",
      "[1, 3, 5, 8, 13, 21, 34, 55, 89, 144, 233, 377, 610, 987, 1597, 2584, 4181, 6765, 10946, 17711]\n",
      "20\n",
      "46364\n",
      "46364\n"
     ]
    }
   ],
   "source": [
    "a = [1,3,5,8,13]\n",
    "times = 20\n",
    "while times > 0:\n",
    "    new_elem = a[-1] + a[-2]\n",
    "    a.append(new_elem)\n",
    "    print(a)\n",
    "    times = times - 1 #等价于 times-=1\n",
    "print(\"=\"*10)\n",
    "#1)怎么看这个a列表的长度\n",
    "print(len(a))\n",
    "#2)怎么取列表的前20项\n",
    "print(a[:20])\n",
    "print(len(a[:20]))\n",
    "#3)如何求和\n",
    "s = 0\n",
    "for i in a[:20]:\n",
    "    s = s + i\n",
    "print(s)\n",
    "\n",
    "#等价于\n",
    "print(sum(a[:20]))"
   ]
  },
  {
   "cell_type": "code",
   "execution_count": 10,
   "metadata": {},
   "outputs": [
    {
     "name": "stdout",
     "output_type": "stream",
     "text": [
      "6是一个完数，分解因子为：\n",
      "[1, 2, 3]\n",
      "28是一个完数，分解因子为：\n",
      "[1, 2, 4, 7, 14]\n",
      "496是一个完数，分解因子为：\n",
      "[1, 2, 4, 8, 16, 31, 62, 124, 248]\n"
     ]
    }
   ],
   "source": [
    "for n in range (1,1000):\n",
    "    numbers = [ ]\n",
    "    for a in range (1,n):\n",
    "        if n%a ==0:\n",
    "            numbers.append(a)\n",
    "    if sum(numbers)==n:\n",
    "        print (str(n)+'是一个完数，分解因子为：')\n",
    "        print (numbers)"
   ]
  },
  {
   "cell_type": "code",
   "execution_count": 3,
   "metadata": {},
   "outputs": [
    {
     "name": "stdout",
     "output_type": "stream",
     "text": [
      "997\n"
     ]
    }
   ],
   "source": [
    "m=1000\n",
    "n=1000\n",
    "while True:\n",
    "    if m%7==3 and m%5==2 and m%3==1:\n",
    "        print(m)\n",
    "        break\n",
    "    if n%7==3 and n%5==2 and n%3==1:\n",
    "        print(n)\n",
    "        break\n",
    "    n=n+1  \n",
    "    m=m-1"
   ]
  },
  {
   "cell_type": "code",
   "execution_count": null,
   "metadata": {},
   "outputs": [],
   "source": [
    "xiaohua = 12\n",
    "mama = 12+20\n",
    "year = 0\n",
    "while True:\n",
    "    year+=1\n",
    "    xiaohua+=1\n",
    "    mama+=1\n",
    "    if mama==2*xiaohua:\n",
    "        break\n",
    "print(year,\"年后:\",xiaohua,mama)\n",
    "    \n",
    "    "
   ]
  },
  {
   "cell_type": "code",
   "execution_count": 6,
   "metadata": {},
   "outputs": [
    {
     "name": "stdout",
     "output_type": "stream",
     "text": [
      "20\n"
     ]
    }
   ],
   "source": [
    "a=60 \n",
    "b=0\n",
    "while True:\n",
    "    b+=1\n",
    "    a=a*1.015\n",
    "    if a>=80:\n",
    "        break\n",
    "print(b)"
   ]
  },
  {
   "cell_type": "code",
   "execution_count": 5,
   "metadata": {},
   "outputs": [
    {
     "name": "stdout",
     "output_type": "stream",
     "text": [
      "0\n",
      "80+80 = 160\n",
      "1\n",
      "80+80+40.0 = 200.0\n",
      "2\n",
      "80+80+40.0+20.0 = 220.0\n",
      "3\n",
      "80+80+40.0+20.0+10.0 = 230.0\n",
      "4\n",
      "80+80+40.0+20.0+10.0+5.0 = 235.0\n",
      "5\n",
      "80+80+40.0+20.0+10.0+5.0+2.5 = 237.5\n",
      "6\n",
      "80+80+40.0+20.0+10.0+5.0+2.5+1.25 = 238.75\n",
      "7\n",
      "80+80+40.0+20.0+10.0+5.0+2.5+1.25+0.625 = 239.375\n",
      "8\n",
      "80+80+40.0+20.0+10.0+5.0+2.5+1.25+0.625+0.3125 = 239.6875\n",
      "80+80+40.0+20.0+10.0+5.0+2.5+1.25+0.625+0.3125 = 239.6875\n",
      "第10次:  0.078125\n"
     ]
    }
   ],
   "source": [
    "h=80\n",
    "s=80\n",
    "t=str(h)+\"+\"\n",
    "z=80\n",
    "for i in range(9):\n",
    "    print(i)\n",
    "    s=s+h \n",
    "    t=t+str(h)+\"+\"\n",
    "    h=h/2\n",
    "    print(t. strip(\"+\"),\"=\",s)\n",
    "print(t. strip(\"+\"),\"=\",s)\n",
    "for i in range(10):\n",
    "    z=z/2\n",
    "print(\"第10次: \",z)"
   ]
  },
  {
   "cell_type": "code",
   "execution_count": 7,
   "metadata": {},
   "outputs": [
    {
     "data": {
      "text/plain": [
       "239.6875"
      ]
     },
     "execution_count": 7,
     "metadata": {},
     "output_type": "execute_result"
    }
   ],
   "source": [
    "80+40+40+20+20+10+10+5+5+2.5+2.5+1.25+1.25+0.625+0.625+0.3125+0.3125+0.15625+0.15625"
   ]
  },
  {
   "cell_type": "code",
   "execution_count": 3,
   "metadata": {},
   "outputs": [
    {
     "data": {
      "text/plain": [
       "0.078125"
      ]
     },
     "execution_count": 3,
     "metadata": {},
     "output_type": "execute_result"
    }
   ],
   "source": [
    "0.3125/2/2\n"
   ]
  },
  {
   "cell_type": "code",
   "execution_count": 38,
   "metadata": {},
   "outputs": [
    {
     "name": "stdout",
     "output_type": "stream",
     "text": [
      "2551\n"
     ]
    }
   ],
   "source": [
    "sum=1\n",
    "for i in range(2,102,2):\n",
    "    sum=sum+i\n",
    "print(sum)"
   ]
  },
  {
   "cell_type": "code",
   "execution_count": 39,
   "metadata": {},
   "outputs": [
    {
     "name": "stdout",
     "output_type": "stream",
     "text": [
      "2.937774848474907\n"
     ]
    }
   ],
   "source": [
    "i=1\n",
    "sum=0\n",
    "while i<=99:\n",
    "    sum=sum+1/i        \n",
    "    i=i+2                     \n",
    "print(sum)"
   ]
  },
  {
   "cell_type": "code",
   "execution_count": null,
   "metadata": {},
   "outputs": [],
   "source": [
    "x=input()\n",
    "print(type(x))"
   ]
  }
 ],
 "metadata": {
  "kernelspec": {
   "display_name": "Python 3",
   "language": "python",
   "name": "python3"
  },
  "language_info": {
   "codemirror_mode": {
    "name": "ipython",
    "version": 3
   },
   "file_extension": ".py",
   "mimetype": "text/x-python",
   "name": "python",
   "nbconvert_exporter": "python",
   "pygments_lexer": "ipython3",
   "version": "3.7.4"
  }
 },
 "nbformat": 4,
 "nbformat_minor": 4
}
