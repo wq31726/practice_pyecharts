{
 "cells": [
  {
   "cell_type": "markdown",
   "metadata": {},
   "source": [
    "### 1.能直接修改字符串的某个字符吗，例如，s='abc',s[0]=1,可以吗"
   ]
  },
  {
   "cell_type": "code",
   "execution_count": null,
   "metadata": {},
   "outputs": [],
   "source": [
    "不可以"
   ]
  },
  {
   "cell_type": "markdown",
   "metadata": {},
   "source": [
    "### 2.输入一个字符串，输出它所包含的所有数字，例如输入'23me3e',输出'233'"
   ]
  },
  {
   "cell_type": "code",
   "execution_count": 34,
   "metadata": {},
   "outputs": [
    {
     "name": "stdin",
     "output_type": "stream",
     "text": [
      "输入一个字符串： 23me3e\n"
     ]
    },
    {
     "name": "stdout",
     "output_type": "stream",
     "text": [
      "233"
     ]
    }
   ],
   "source": [
    "s = input(\"输入一个字符串：\")\n",
    "for i in s:\n",
    "    if i >= '0' and i <= '9':\n",
    "        print(i,end=\"\")"
   ]
  },
  {
   "cell_type": "markdown",
   "metadata": {},
   "source": [
    "### 3.设计一个字符串函数reverse(s)，它返回字符串s的反串"
   ]
  },
  {
   "cell_type": "code",
   "execution_count": 36,
   "metadata": {},
   "outputs": [
    {
     "name": "stdin",
     "output_type": "stream",
     "text": [
      "输入一个字符串： abc\n"
     ]
    },
    {
     "name": "stdout",
     "output_type": "stream",
     "text": [
      "cba\n"
     ]
    }
   ],
   "source": [
    "def reverse(s):\n",
    "    t = \"\"\n",
    "    for i in range(len(s)-1,-1,-1):\n",
    "        t = t + s[i]\n",
    "    return t\n",
    "a = input(\"输入一个字符串：\")\n",
    "print(reverse(a))"
   ]
  },
  {
   "cell_type": "markdown",
   "metadata": {},
   "source": [
    "### 4.元祖与列表有什么不同"
   ]
  },
  {
   "cell_type": "code",
   "execution_count": null,
   "metadata": {},
   "outputs": [],
   "source": [
    "元祖元素使用小括号()来表示，列表元素使用中括号[]来表示\n",
    "元祖数据的元素不能改变，列表数据的元素可以改变"
   ]
  },
  {
   "cell_type": "markdown",
   "metadata": {},
   "source": [
    "### 5.一个列表中的元素类型要求一致吗？例如list=[1,'a']是正确的吗"
   ]
  },
  {
   "cell_type": "code",
   "execution_count": null,
   "metadata": {},
   "outputs": [],
   "source": [
    "不要求一致"
   ]
  },
  {
   "cell_type": "markdown",
   "metadata": {},
   "source": [
    "### 6.列表是否还可以嵌套别的列表，举个例子"
   ]
  },
  {
   "cell_type": "code",
   "execution_count": 38,
   "metadata": {},
   "outputs": [
    {
     "name": "stdout",
     "output_type": "stream",
     "text": [
      "[[5, 6], [7, 8]]\n"
     ]
    }
   ],
   "source": [
    "list = [[5,6],[7,8]]\n",
    "print(list)"
   ]
  },
  {
   "cell_type": "markdown",
   "metadata": {},
   "source": [
    "### 7.用一个字典描述一个日期，包含年year，月month，日day的键字"
   ]
  },
  {
   "cell_type": "code",
   "execution_count": 39,
   "metadata": {},
   "outputs": [
    {
     "name": "stdout",
     "output_type": "stream",
     "text": [
      "{'year': 2020, 'month': 3, 'day': 4}\n"
     ]
    }
   ],
   "source": [
    "dic = {\"year\":2020,\"month\":3,\"day\":4}\n",
    "print(dic)"
   ]
  },
  {
   "cell_type": "markdown",
   "metadata": {},
   "source": [
    "### 8.python的字典数据类型和JSON数据类型有很多相似的地方，说明有哪些共同点"
   ]
  },
  {
   "cell_type": "code",
   "execution_count": null,
   "metadata": {},
   "outputs": [],
   "source": [
    "都是键值的方式\n",
    "都可以对里面的值进行修改"
   ]
  },
  {
   "cell_type": "markdown",
   "metadata": {},
   "source": [
    "### 9.写出下列程序执行的结果"
   ]
  },
  {
   "cell_type": "code",
   "execution_count": 40,
   "metadata": {},
   "outputs": [
    {
     "name": "stdout",
     "output_type": "stream",
     "text": [
      "name A\n",
      "sex M\n",
      "name B\n",
      "sex C\n"
     ]
    }
   ],
   "source": [
    "d = {\"student\":[{\"name\":\"A\",\"sex\":\"M\"},{\"name\":\"B\",\"sex\":\"C\"}]}\n",
    "for k1 in d.keys():\n",
    "    for k2 in d[k1]:\n",
    "        for k3 in k2.keys():\n",
    "            print(k3,k2[k3])"
   ]
  },
  {
   "cell_type": "markdown",
   "metadata": {},
   "source": [
    "### 10.如果使用字典描述一个时间，例如 t={\"hour\":12,\"minute\":23,\"sencod\":34}表示时间\"12:23:34\"，设计一个函数，interval(t1,t2),计算时间t1与t2的时间差，返回相同结构的一个字典时间"
   ]
  },
  {
   "cell_type": "code",
   "execution_count": 61,
   "metadata": {},
   "outputs": [
    {
     "name": "stdout",
     "output_type": "stream",
     "text": [
      "10 : 49 : 13\n"
     ]
    }
   ],
   "source": [
    "def interval(t1,t2):\n",
    "    a = t1[\"hour\"] * 3600 + t1[\"minute\"] * 60 + t1[\"second\"]\n",
    "    b = t2[\"hour\"] * 3600 + t2[\"minute\"] * 60 + t2[\"second\"]\n",
    "    if a > b:\n",
    "        time = a - b\n",
    "    else:\n",
    "        time = b - a\n",
    "    t = {}\n",
    "    t[\"hour\"] = time // 3600\n",
    "    t[\"mimute\"] = ( time - t[\"hour\"] * 3600 ) // 60\n",
    "    t[\"second\"] = time - t[\"hour\"] * 3600 - t[\"mimute\"] * 60\n",
    "    return t\n",
    "t1 = {\"hour\":23,\"minute\":14,\"second\":50}\n",
    "t2 = {\"hour\":12,\"minute\":25,\"second\":37}\n",
    "dic = interval(t1,t2)\n",
    "print(dic[\"hour\"],\":\",dic[\"mimute\"],\":\",dic[\"second\"])"
   ]
  }
 ],
 "metadata": {
  "kernelspec": {
   "display_name": "Python 3",
   "language": "python",
   "name": "python3"
  },
  "language_info": {
   "codemirror_mode": {
    "name": "ipython",
    "version": 3
   },
   "file_extension": ".py",
   "mimetype": "text/x-python",
   "name": "python",
   "nbconvert_exporter": "python",
   "pygments_lexer": "ipython3",
   "version": "3.7.0"
  }
 },
 "nbformat": 4,
 "nbformat_minor": 2
}
