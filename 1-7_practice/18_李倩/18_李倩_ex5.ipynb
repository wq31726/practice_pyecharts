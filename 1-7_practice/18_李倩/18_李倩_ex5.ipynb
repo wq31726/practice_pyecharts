{
 "cells": [
  {
   "cell_type": "markdown",
   "metadata": {},
   "source": [
    "### 1.定义一个数学中的复数类Complex，它有一个构造函数与一个显示函数，建立一个Complex对象并调用该显示函数显示。"
   ]
  },
  {
   "cell_type": "code",
   "execution_count": 13,
   "metadata": {},
   "outputs": [
    {
     "name": "stdout",
     "output_type": "stream",
     "text": [
      "5 8\n"
     ]
    }
   ],
   "source": [
    "class Complex:\n",
    "    def __init__(self,x,y):\n",
    "        self.x = x\n",
    "        self.y = y\n",
    "    def show(self):\n",
    "        print(self.x,self.y)\n",
    "p = Complex(5,8)\n",
    "p.show()"
   ]
  },
  {
   "cell_type": "markdown",
   "metadata": {},
   "source": [
    "### 2.定义一个计算机类MyComputer，它包含CPU类型(String类型）、RAM内存大小（Integer类型)、HD 硬盘大小(Integer类型），设计它的构造函数，并设计一个显示函数，建立一个MyComputer对象并调用该显示函数显示。"
   ]
  },
  {
   "cell_type": "code",
   "execution_count": 32,
   "metadata": {},
   "outputs": [
    {
     "name": "stdout",
     "output_type": "stream",
     "text": [
      "i5-4210U 16 3000\n"
     ]
    }
   ],
   "source": [
    "class MyComputer:\n",
    "    def __init__(self,CPU,RAM,HD):\n",
    "        self.CPU = CPU\n",
    "        self.RAM = RAM\n",
    "        self.HD = HD\n",
    "    def show(self):\n",
    "        print(self.CPU,self.RAM,self.HD)\n",
    "p = MyComputer(\"i5-4210U\",16,3000)\n",
    "p.show()"
   ]
  },
  {
   "cell_type": "markdown",
   "metadata": {},
   "source": [
    "### 3.设计一个整数类MyInteger，它有一个整数变量，并有一个Value属性，可以通过为Value存取该变量的值，还有一个转二进制字符串的成员函数toBin及转十六进制字符串的成员函数toHex。"
   ]
  },
  {
   "cell_type": "markdown",
   "metadata": {},
   "source": [
    "### 4.建立一个普通人员类Person，包含姓名（m_name）、性别（m_sex）、年龄（m_age）成员变量。（1）建立Person 类，包含 Private 成员mname、m_sex、m_age 成员变量：（2）建立Person 的构造函数；（3） 建立一个显示过程 Show()，显示该对象的数据；田数 派生一个学生类 Student，增加班级（m_class），专业（m_major），设计这些类的构造函（5） 建立m_class、m_major对应的属性函数 sClass ()、sMajorO;（6）建立显示成员函数 Show()，显示该学生对象所有成员数据；"
   ]
  },
  {
   "cell_type": "code",
   "execution_count": 30,
   "metadata": {},
   "outputs": [
    {
     "name": "stdout",
     "output_type": "stream",
     "text": [
      "Jack male 22\n",
      "Class1 software\n"
     ]
    }
   ],
   "source": [
    "class Person:\n",
    "    def __init__(self,n,s,a):\n",
    "        self.m_name = n\n",
    "        self.m_sex = s\n",
    "        self.m_age = a\n",
    "    def show(self):\n",
    "        print(self.m_name,self.m_sex,self.m_age)\n",
    "class Student(Person):\n",
    "    def __init__(self,n,s,a,c,m):\n",
    "        Person.__init__(self,n,s,a)\n",
    "        self.m_class = c\n",
    "        self.m_major = m\n",
    "    def show(self):\n",
    "        Person.show(self)\n",
    "        print(self.m_class,self.m_major)\n",
    "s = Student(\"Jack\",\"male\",22,\"Class1\",\"software\")\n",
    "s.show()"
   ]
  },
  {
   "cell_type": "markdown",
   "metadata": {},
   "source": [
    "### 5.建立一个时间类Time，它包含时hour，分minute，秒second的实例属性（1）设计时间显示函数show(self）;（2）设计两个时间大小比较函数compare(self,t，其中t是另外一个时间；"
   ]
  },
  {
   "cell_type": "code",
   "execution_count": 28,
   "metadata": {},
   "outputs": [
    {
     "name": "stdout",
     "output_type": "stream",
     "text": [
      "show() got an unexpected keyword argument 'end'\n"
     ]
    }
   ],
   "source": [
    "class Time:\n",
    "    def __init__(self,h,m,s):\n",
    "        if h < 0 or h > 23 or m < 0 or m > 59 or s < 0 or s > 59:\n",
    "            raise Exception(\"无效时间\")\n",
    "        self.hour = h\n",
    "        self.minute = m\n",
    "        self.second = s\n",
    "    def show(self):\n",
    "        Time.show(self,end ='\\n')\n",
    "        print(\"%02d:%02d:%02d\"%(self.hour,self.minute,self.second))\n",
    "try:\n",
    "    d = Time(22,23,50)\n",
    "    d.show()\n",
    "except Exception as e:\n",
    "    print(e)"
   ]
  }
 ],
 "metadata": {
  "kernelspec": {
   "display_name": "Python 3",
   "language": "python",
   "name": "python3"
  },
  "language_info": {
   "codemirror_mode": {
    "name": "ipython",
    "version": 3
   },
   "file_extension": ".py",
   "mimetype": "text/x-python",
   "name": "python",
   "nbconvert_exporter": "python",
   "pygments_lexer": "ipython3",
   "version": "3.7.0"
  }
 },
 "nbformat": 4,
 "nbformat_minor": 2
}
