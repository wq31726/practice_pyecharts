{
 "cells": [
  {
   "cell_type": "markdown",
   "metadata": {},
   "source": [
    "### 1.编写一个程序建立一个文本文件abc.txt，向其中写入”abc\\n”并存盘，查看abc.txt是几个字节的文件，说明为什么。"
   ]
  },
  {
   "cell_type": "code",
   "execution_count": 3,
   "metadata": {},
   "outputs": [],
   "source": [
    "try:\n",
    "    fobj = open(\"C:\\\\Users\\\\admin\\\\Desktop\\\\abc.txt\",\"wt\")\n",
    "    fobj.write(\"abc\\n\")\n",
    "    fobj.close()\n",
    "except Exception as err:\n",
    "    print(err)\n",
    "# abc.txt是5个字节的文件，因为\\n占两个字节，a,b,c各占一个字节"
   ]
  },
  {
   "cell_type": "markdown",
   "metadata": {},
   "source": [
    "### 2.用Windows记事本编写一个文本文件xyz.txt，在其中存入”123”后打”Enter”键换行，存盘后查看文件应是5个字节长，用read（1）读该文件，看看要读5次还是4次就把文件读完，为什么？编写程序验证。"
   ]
  },
  {
   "cell_type": "code",
   "execution_count": 17,
   "metadata": {},
   "outputs": [
    {
     "name": "stdout",
     "output_type": "stream",
     "text": [
      "一共读了5次\n",
      "123\n",
      "\n"
     ]
    }
   ],
   "source": [
    "try:\n",
    "    fobj = open(\"C:\\\\Users\\\\admin\\\\Desktop\\\\xyz.txt\",\"wt\")\n",
    "    fobj.write(\"123\\n\")\n",
    "    fobj.close()\n",
    "except Exception as err:\n",
    "    print(err)\n",
    "try:\n",
    "    fobj = open(\"C:\\\\Users\\\\admin\\\\Desktop\\\\xyz.txt\",\"rt\")\n",
    "    goon = 1\n",
    "    st = \"\"\n",
    "    i = 0\n",
    "    while goon == 1:\n",
    "        s = fobj.read(1)\n",
    "        i = i + 1\n",
    "        if s != \"\":\n",
    "            st = st + s\n",
    "        else:\n",
    "            goon = 0\n",
    "    print(\"一共读了%s次\"%i)\n",
    "    fobj.close()\n",
    "    print(st)\n",
    "except Exception as err:\n",
    "    print(err)"
   ]
  },
  {
   "cell_type": "markdown",
   "metadata": {},
   "source": [
    "### 3.编写程序查找某个单词（键盘输入）所出现的行号及该行的内容，并统计该单词在文件共出现多少次。"
   ]
  },
  {
   "cell_type": "code",
   "execution_count": 2,
   "metadata": {},
   "outputs": [
    {
     "name": "stdout",
     "output_type": "stream",
     "text": [
      "['apple', 'banana', 'orange', 'peach', 'apple', 'banana']\n",
      "各单词出现的次数:\n",
      "2 2 1 1 2 2 "
     ]
    }
   ],
   "source": [
    "article=\"apple banana orange peach apple banana\"\n",
    "words=[]\n",
    "a=[]\n",
    "words=article. split() \n",
    "print (words)\n",
    "l=len (words)\n",
    "for i in range(l):\n",
    "    a. append (words. count (words [i]))\n",
    "print(\"各单词出现的次数:\")\n",
    "for j in a:\n",
    "    print(j, end=' ')"
   ]
  },
  {
   "cell_type": "markdown",
   "metadata": {},
   "source": [
    "### 4.设一个文本文件marks.txt 中存储了学生的姓名及成绩如下：张三 96 李四 95……每行为学生姓名与成绩，编写一个程序读取这些学生的姓名与成绩并按成绩的从高到低的顺序输出到另外一个文件sorted.txt中。"
   ]
  },
  {
   "cell_type": "code",
   "execution_count": 24,
   "metadata": {},
   "outputs": [
    {
     "name": "stdout",
     "output_type": "stream",
     "text": [
      "'_io.TextIOWrapper' object has no attribute 'colse'\n"
     ]
    }
   ],
   "source": [
    "class Student:\n",
    "    def __init__(self,name,gender):\n",
    "        self.name = name\n",
    "        self.gender = gender\n",
    "    def show(self):\n",
    "        print(self.name,self.gender)\n",
    "students=[]\n",
    "try:\n",
    "    f = open(\"C:\\\\Users\\\\admin\\\\Desktop\\\\marks.txt\",\"rt\")\n",
    "    while True:\n",
    "        name = f.readline().srtip(\"\\n\")\n",
    "        if name == \"\":\n",
    "            break\n",
    "        gender = f.readline().strip(\"\\n\")\n",
    "        students.append(Student(name,gender))\n",
    "    f.colse()\n",
    "    for s in student:\n",
    "        s.show()\n",
    "except Exception as err:\n",
    "    print(err)        "
   ]
  },
  {
   "cell_type": "markdown",
   "metadata": {},
   "source": [
    "### 5.用二进制方式创建文件abc并写入”abc\\r\\nxyz\\n\\rl23\\r456\\n”的字符串，查看该文件有多少个字节，再用文本文件的方式打开此文件并用 fgetc来读，看看每次读出的是什么字符。"
   ]
  },
  {
   "cell_type": "code",
   "execution_count": 26,
   "metadata": {},
   "outputs": [
    {
     "name": "stdout",
     "output_type": "stream",
     "text": [
      "must have exactly one of create/read/write/append mode\n"
     ]
    }
   ],
   "source": [
    "def writeFile():\n",
    "    fobj = open(\"C:\\\\Users\\\\admin\\\\Desktop\\\\abc.txt\",\"wr\",encoding=\"utf-8\")\n",
    "    fobj.write(\"abc\\r\\nxyz\\n\\rl23\\r456\\n\")\n",
    "    fobj.close()\n",
    "    \n",
    "def readFile():\n",
    "    f = open(\"C:\\\\Users\\\\admin\\\\Desktop\\\\abc.txt\",\"rt\",encoding=\"fgetc\")\n",
    "    for s in f.readline():\n",
    "        print(s,end=\"\")\n",
    "    f.close()\n",
    "\n",
    "try:\n",
    "    writeFile()\n",
    "    readFile()\n",
    "except Exception as err:\n",
    "    print(err)       "
   ]
  },
  {
   "cell_type": "code",
   "execution_count": null,
   "metadata": {},
   "outputs": [],
   "source": []
  }
 ],
 "metadata": {
  "kernelspec": {
   "display_name": "Python 3",
   "language": "python",
   "name": "python3"
  },
  "language_info": {
   "codemirror_mode": {
    "name": "ipython",
    "version": 3
   },
   "file_extension": ".py",
   "mimetype": "text/x-python",
   "name": "python",
   "nbconvert_exporter": "python",
   "pygments_lexer": "ipython3",
   "version": "3.7.0"
  }
 },
 "nbformat": 4,
 "nbformat_minor": 2
}
