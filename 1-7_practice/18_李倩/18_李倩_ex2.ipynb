{
 "cells": [
  {
   "cell_type": "markdown",
   "metadata": {},
   "source": [
    "# 1.输入a、b、c三个参数，求解ax2+bx+c的两个根，假定b2-4ac>0"
   ]
  },
  {
   "cell_type": "code",
   "execution_count": 5,
   "metadata": {},
   "outputs": [
    {
     "name": "stdin",
     "output_type": "stream",
     "text": [
      "a= 4\n",
      "b= 9\n",
      "c= 2\n"
     ]
    },
    {
     "name": "stdout",
     "output_type": "stream",
     "text": [
      "x1= -0.25 x2= -2.0\n"
     ]
    }
   ],
   "source": [
    "import math \n",
    "a=input(\"a=\")\n",
    "b=input(\"b=\")\n",
    "c=input(\"c=\")\n",
    "a=float(a)\n",
    "b=float(b)\n",
    "c=float(c)\n",
    "if a!=0:\n",
    "    d=b*b-4*a*c\n",
    "    if d>=0:\n",
    "        d=math.sqrt(d)\n",
    "        x1=(-b+d)/2/a\n",
    "        x2=(-b-d)/2/a\n",
    "        print(\"x1=\",x1,\"x2=\",x2)\n",
    "    else:\n",
    "        print(\"无实数解\")\n",
    "else:\n",
    "    print(\"方程不是一元二次方程\")"
   ]
  },
  {
   "cell_type": "markdown",
   "metadata": {},
   "source": [
    "# 2.输入a、b、c三个参数，以它们作为三角形的三边，判断是否可以构成一个三角形，如能，则进一步计算其面积"
   ]
  },
  {
   "cell_type": "code",
   "execution_count": 8,
   "metadata": {},
   "outputs": [
    {
     "name": "stdin",
     "output_type": "stream",
     "text": [
      "a= 5\n",
      "b= 5\n",
      "c= 5\n"
     ]
    },
    {
     "name": "stdout",
     "output_type": "stream",
     "text": [
      "三角形的面积为： 10.825317547305483\n"
     ]
    }
   ],
   "source": [
    "import math \n",
    "a=input(\"a=\")\n",
    "b=input(\"b=\")\n",
    "c=input(\"c=\")\n",
    "a=float(a)\n",
    "b=float(b)\n",
    "c=float(c)\n",
    "if a+b>c or b+c>a or a+c>b:\n",
    "    p=(a+b+c)/2\n",
    "    s=math.sqrt(p*(p-a)*(p-b)*(p-c))\n",
    "    print(\"三角形的面积为：\",s)\n",
    "else:\n",
    "    print(\"三角形不存在\")"
   ]
  },
  {
   "cell_type": "markdown",
   "metadata": {},
   "source": [
    "# 3.输入一个字母，判断它是否为小写英文字母"
   ]
  },
  {
   "cell_type": "code",
   "execution_count": 11,
   "metadata": {},
   "outputs": [
    {
     "name": "stdin",
     "output_type": "stream",
     "text": [
      "输入一个字母： g\n"
     ]
    },
    {
     "name": "stdout",
     "output_type": "stream",
     "text": [
      "它为小写英文字母\n"
     ]
    }
   ],
   "source": [
    "a=input(\"输入一个字母：\")\n",
    "a=str(a)\n",
    "if a>='a' and a<='z':\n",
    "    print(\"它为小写英文字母\")\n",
    "else:\n",
    "    print(\"它不是英文小写字母\")"
   ]
  },
  {
   "cell_type": "markdown",
   "metadata": {},
   "source": [
    "# 4.从键盘输入5个字符，统计‘0’字符出现的次数 "
   ]
  },
  {
   "cell_type": "code",
   "execution_count": 41,
   "metadata": {},
   "outputs": [
    {
     "name": "stdout",
     "output_type": "stream",
     "text": [
      "统计‘0’字符出现的次数 2\n"
     ]
    }
   ],
   "source": [
    "alist=[1,5,0,3,0];\n",
    "print(\"统计‘0’字符出现的次数\", alist.count(0))\n"
   ]
  },
  {
   "cell_type": "markdown",
   "metadata": {},
   "source": [
    "# 5.输入两个整数，并判断哪个大并输出结果"
   ]
  },
  {
   "cell_type": "code",
   "execution_count": 12,
   "metadata": {},
   "outputs": [
    {
     "name": "stdin",
     "output_type": "stream",
     "text": [
      "a= 5\n",
      "b= 7\n"
     ]
    },
    {
     "name": "stdout",
     "output_type": "stream",
     "text": [
      "7\n"
     ]
    }
   ],
   "source": [
    "a=input(\"a=\")\n",
    "b=input(\"b=\")\n",
    "a=int(a)\n",
    "b=int(b)\n",
    "if a>b:\n",
    "    print(a)\n",
    "else:\n",
    "    print(b)"
   ]
  },
  {
   "cell_type": "markdown",
   "metadata": {},
   "source": [
    "# 6.输入一个字母，如果它是一个小写英文字母，则把它变为大写字母输出"
   ]
  },
  {
   "cell_type": "code",
   "execution_count": 32,
   "metadata": {},
   "outputs": [
    {
     "name": "stdin",
     "output_type": "stream",
     "text": [
      "输入一个字母： U\n"
     ]
    },
    {
     "name": "stdout",
     "output_type": "stream",
     "text": [
      "U\n"
     ]
    }
   ],
   "source": [
    "a=input(\"输入一个字母：\")\n",
    "a=str(a)\n",
    "if a>='A' and a<='Z':\n",
    "    print(a)\n",
    "elif a>='a' and a<='z':\n",
    "    a=ord(a)\n",
    "    print(chr(a-32))\n",
    "else:\n",
    "    print(\"输入的不是字母\")"
   ]
  },
  {
   "cell_type": "markdown",
   "metadata": {},
   "source": [
    "# 7.输入一个年份，判断它是否为闰年"
   ]
  },
  {
   "cell_type": "code",
   "execution_count": 35,
   "metadata": {},
   "outputs": [
    {
     "name": "stdin",
     "output_type": "stream",
     "text": [
      "year: 1953\n"
     ]
    },
    {
     "name": "stdout",
     "output_type": "stream",
     "text": [
      "不是闰年\n"
     ]
    }
   ],
   "source": [
    "y=input(\"year:\")\n",
    "y=int(y)\n",
    "if y%400==0 or y%100!=0 and y%4==0:\n",
    "    print(\"是闰年\")\n",
    "else:\n",
    "    print(\"不是闰年\")"
   ]
  },
  {
   "cell_type": "markdown",
   "metadata": {},
   "source": [
    "# 8.从键盘输入a、b两个数，按大小顺序输出它们"
   ]
  },
  {
   "cell_type": "code",
   "execution_count": 52,
   "metadata": {},
   "outputs": [
    {
     "name": "stdin",
     "output_type": "stream",
     "text": [
      "a= 6\n",
      "b= 7\n"
     ]
    },
    {
     "name": "stdout",
     "output_type": "stream",
     "text": [
      "7.0 6.0\n"
     ]
    }
   ],
   "source": [
    "a=input(\"a=\")\n",
    "b=input(\"b=\")\n",
    "a=float(a)\n",
    "b=float(b)\n",
    "if a>b:\n",
    "    print(a,b)\n",
    "elif b>a:\n",
    "    print(b,a)\n",
    "else:\n",
    "    print(a,\"=\",b)"
   ]
  },
  {
   "cell_type": "markdown",
   "metadata": {},
   "source": [
    "# 9.输入a、b、c三个整数，找出最小的数"
   ]
  },
  {
   "cell_type": "code",
   "execution_count": 49,
   "metadata": {},
   "outputs": [
    {
     "name": "stdin",
     "output_type": "stream",
     "text": [
      "a= 4\n",
      "b= 5\n",
      "c= 3\n"
     ]
    },
    {
     "name": "stdout",
     "output_type": "stream",
     "text": [
      "3\n"
     ]
    }
   ],
   "source": [
    "a=input(\"a=\")\n",
    "b=input(\"b=\")\n",
    "c=input(\"c=\")\n",
    "a=int(a)\n",
    "b=int(b)\n",
    "c=int(c)\n",
    "if a<b and a<c:\n",
    "    print(a)\n",
    "elif b<c and b<a:\n",
    "    print(b)\n",
    "elif c<a and c<b:\n",
    "    print(c)\n",
    "else:\n",
    "    print(\"三个数相等\")\n",
    "    "
   ]
  },
  {
   "cell_type": "markdown",
   "metadata": {},
   "source": [
    "# 10.某企业发放的奖金根据利润提成。利润低于或等于10万元时，奖金可提12%；利润高于10万元，低于20万元时，高于10万元的部分，可提成8.5%；20万到40万之间时，高于20万元的部分，可提成6%；40万到60万之间时高于40万元的部分，可提成4%；60万到100万之间时，高于60万元的部分，可提成2.5%，高于100万元时，超过100万元的部分按1%提成，从键盘输入当月利润，求应发放奖金总数？"
   ]
  },
  {
   "cell_type": "code",
   "execution_count": 58,
   "metadata": {},
   "outputs": [
    {
     "name": "stdin",
     "output_type": "stream",
     "text": [
      "输入当月利润（万元）： 82\n"
     ]
    },
    {
     "name": "stdout",
     "output_type": "stream",
     "text": [
      "奖金总数： 4.6\n"
     ]
    }
   ],
   "source": [
    "m=input(\"输入当月利润（万元）：\")\n",
    "m=float(m)\n",
    "if m<=10:\n",
    "    s=m*0.12\n",
    "elif m<=20:\n",
    "    s=1.2+(m-10)*0.085\n",
    "elif m<=40:\n",
    "    s=2.05+(m-20)*0.06\n",
    "elif m<=60:\n",
    "    s=3.25+(m-40)*0.04\n",
    "elif m<=100:\n",
    "    s=4.05+(m-60)*0.025\n",
    "else:\n",
    "    s=5.05+(m-100)*0.01\n",
    "print(\"奖金总数：\",s)\n",
    "    "
   ]
  },
  {
   "cell_type": "markdown",
   "metadata": {},
   "source": [
    "# 11.平面上有四个圆，圆心分别为（2,2），（-2,2），（-2，-2），（2，-2），圆半径为1。今输入任一点的坐标，判断改点是否在这个四个圆中，如在则给出是在哪一个圆中"
   ]
  },
  {
   "cell_type": "code",
   "execution_count": 72,
   "metadata": {},
   "outputs": [
    {
     "name": "stdin",
     "output_type": "stream",
     "text": [
      "输入横坐标： -2\n",
      "输入纵坐标： -1\n"
     ]
    },
    {
     "name": "stdout",
     "output_type": "stream",
     "text": [
      "该点在四个圆中\n",
      "该点在圆（-2，-2）中\n"
     ]
    }
   ],
   "source": [
    "import math\n",
    "x=input(\"输入横坐标：\")\n",
    "y=input(\"输入纵坐标：\")\n",
    "x=float(x)\n",
    "y=float(y)\n",
    "a=math.sqrt((2-x)**2+(2-y)**2)\n",
    "b=math.sqrt((2-x)**2+(2+y)**2)\n",
    "c=math.sqrt((2+x)**2+(2+y)**2)\n",
    "d=math.sqrt((2+x)**2+(2-y)**2)\n",
    "if a<=1 or b<=1 or c<=1 or d<=1:\n",
    "    print(\"该点在四个圆中\")\n",
    "    if x>0 and y>0:\n",
    "        print(\"该点在圆（2,2）中\")\n",
    "    elif x<0 and y>0:\n",
    "        print(\"该点在圆（-2，2）中\")\n",
    "    elif x<0 and y<0:\n",
    "        print(\"该点在圆（-2，-2）中\")\n",
    "    elif x>0 and y<0:\n",
    "        print(\"该点在圆（2，-2）中\")\n",
    "else:\n",
    "    print(\"该点不在这四个圆中\")"
   ]
  }
 ],
 "metadata": {
  "kernelspec": {
   "display_name": "Python 3",
   "language": "python",
   "name": "python3"
  },
  "language_info": {
   "codemirror_mode": {
    "name": "ipython",
    "version": 3
   },
   "file_extension": ".py",
   "mimetype": "text/x-python",
   "name": "python",
   "nbconvert_exporter": "python",
   "pygments_lexer": "ipython3",
   "version": "3.7.0"
  }
 },
 "nbformat": 4,
 "nbformat_minor": 2
}
