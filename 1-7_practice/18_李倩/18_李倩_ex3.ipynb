{
 "cells": [
  {
   "cell_type": "markdown",
   "metadata": {},
   "source": [
    "### 1.计算1+2+4+...+100的和"
   ]
  },
  {
   "cell_type": "code",
   "execution_count": 12,
   "metadata": {},
   "outputs": [
    {
     "name": "stdout",
     "output_type": "stream",
     "text": [
      "2551\n"
     ]
    }
   ],
   "source": [
    "s = 1\n",
    "for i in range(2,101,2):\n",
    "    s += i\n",
    "print(s)"
   ]
  },
  {
   "cell_type": "markdown",
   "metadata": {},
   "source": [
    "### 2.计算1+1/3+1/5+...+1/99的和"
   ]
  },
  {
   "cell_type": "code",
   "execution_count": 11,
   "metadata": {},
   "outputs": [
    {
     "name": "stdout",
     "output_type": "stream",
     "text": [
      "2.937774848474907\n"
     ]
    }
   ],
   "source": [
    "s = 0\n",
    "for i in range(1,100,2):\n",
    "    s += 1/i\n",
    "print(s)"
   ]
  },
  {
   "cell_type": "markdown",
   "metadata": {},
   "source": [
    "### 3.从键盘输入一个字符串，直到回车结束，统计字符串中的大小写英文字母共有多少个"
   ]
  },
  {
   "cell_type": "code",
   "execution_count": 8,
   "metadata": {},
   "outputs": [
    {
     "name": "stdin",
     "output_type": "stream",
     "text": [
      "输入一个字符串： 45fsfUFS=-( JHghf/\n"
     ]
    },
    {
     "name": "stdout",
     "output_type": "stream",
     "text": [
      "大写英文字母5有\n",
      "小写英文字母6有\n"
     ]
    }
   ],
   "source": [
    "words = input(\"输入一个字符串：\")\n",
    "words = str(words)\n",
    "upper_cnt = 0\n",
    "lower_cnt = 0\n",
    "for char in words:\n",
    "    if ord('a') <= ord(char) <= ord('z'):\n",
    "        lower_cnt += 1\n",
    "    if ord('A') <= ord(char) <= ord('Z'):\n",
    "        upper_cnt += 1\n",
    "print(\"大写英文字母%s有\" % upper_cnt)\n",
    "print(\"小写英文字母%s有\" % lower_cnt)"
   ]
  },
  {
   "cell_type": "markdown",
   "metadata": {},
   "source": [
    "### 4.有一分数序列，2/1,3/2,5/3,8/5,13/8,21/13...求出这个数列的20项之和"
   ]
  },
  {
   "cell_type": "code",
   "execution_count": 10,
   "metadata": {},
   "outputs": [
    {
     "name": "stdout",
     "output_type": "stream",
     "text": [
      "32.66026079864164\n"
     ]
    }
   ],
   "source": [
    "fenzi = 2\n",
    "fenmu = 1\n",
    "list = []\n",
    "sum = 0\n",
    "for i in range(1,21):\n",
    "    a = fenzi\n",
    "    b = fenmu\n",
    "    s += (a/b)\n",
    "    list.append(a/b)\n",
    "    fenzi = a+b\n",
    "    fenmu = a\n",
    "print(sum)"
   ]
  },
  {
   "cell_type": "markdown",
   "metadata": {},
   "source": [
    "### 5.输入若干个同学的成绩，计算平均成绩，输入的成绩为负数或者大于100时表示结束输入"
   ]
  },
  {
   "cell_type": "code",
   "execution_count": 1,
   "metadata": {},
   "outputs": [
    {
     "name": "stdin",
     "output_type": "stream",
     "text": [
      "输入学生的个数： 5\n",
      "第1个成绩： 98\n",
      "第2个成绩： 85\n",
      "第3个成绩： 87\n",
      "第4个成绩： 69\n",
      "第5个成绩： 74\n"
     ]
    },
    {
     "name": "stdout",
     "output_type": "stream",
     "text": [
      "平均成绩： 82.6\n"
     ]
    }
   ],
   "source": [
    "n = input(\"输入学生的个数：\")\n",
    "n = float(n)\n",
    "i = 1\n",
    "s = 0\n",
    "while i < n+1:\n",
    "    m = input(\"第\"+str(i)+\"个成绩：\")\n",
    "    m = float(m)\n",
    "    s = s + m\n",
    "    i = i + 1\n",
    "    if m < 0 or m > 100:\n",
    "        print(\"输入成绩有误\")\n",
    "        break\n",
    "print(\"平均成绩：\",s/n)"
   ]
  },
  {
   "cell_type": "markdown",
   "metadata": {},
   "source": [
    "### 6.输入三个正整数a,b、n,精确计算a/b的结果到小数后n位"
   ]
  },
  {
   "cell_type": "code",
   "execution_count": 3,
   "metadata": {},
   "outputs": [
    {
     "name": "stdin",
     "output_type": "stream",
     "text": [
      "输入正整数a: 8\n",
      "输入正整数b: 7\n",
      "输入正整数n: 10\n"
     ]
    },
    {
     "name": "stdout",
     "output_type": "stream",
     "text": [
      "8/7=1.1428571428\n"
     ]
    }
   ],
   "source": [
    "a = 0\n",
    "while a <= 0:\n",
    "    a = input(\"输入正整数a:\")\n",
    "    a = int(a)\n",
    "\n",
    "b = 0\n",
    "while b <= 0:\n",
    "    b = input(\"输入正整数b:\")\n",
    "    b = int(b)\n",
    "    \n",
    "n = 0\n",
    "while n <= 0:\n",
    "    n = input(\"输入正整数n:\")\n",
    "    n = int(n)\n",
    "    \n",
    "s = str(a//b)\n",
    "r = a%b\n",
    "if r != 0:\n",
    "    s = s + \".\"\n",
    "i = 0\n",
    "while r != 0 and i < n:\n",
    "    r = 10 * r\n",
    "    s += str(r//b)\n",
    "    r = r%b\n",
    "    i = i+1\n",
    "print(\"%d/%d=%s\"%(a,b,s))"
   ]
  },
  {
   "cell_type": "markdown",
   "metadata": {},
   "source": [
    "### 7.一个猴子第一天摘下若干个桃子，当即吃了一半，还不过瘾，又多吃了一个。第二天早上又将剩下的桃子吃掉一半，又多吃了一个。以后每天早上都吃了前一天剩下的一半零一个。到第10天早上想再吃时，见只剩下一个桃子了。求第一天共摘了多少。"
   ]
  },
  {
   "cell_type": "code",
   "execution_count": 5,
   "metadata": {},
   "outputs": [
    {
     "name": "stdout",
     "output_type": "stream",
     "text": [
      "第1天共摘了1534个桃子\n"
     ]
    }
   ],
   "source": [
    "p = 1\n",
    "for i in range(9, 0, -1):\n",
    "    p = (p+1) * 2\n",
    "print(\"第1天共摘了%s个桃子\" % p)"
   ]
  },
  {
   "cell_type": "markdown",
   "metadata": {},
   "source": [
    "### 8.有一序列：1，3，5，8，13，21..用while循环求出这个数列的前20项之和。"
   ]
  },
  {
   "cell_type": "code",
   "execution_count": 12,
   "metadata": {},
   "outputs": [
    {
     "name": "stdout",
     "output_type": "stream",
     "text": [
      "46364\n"
     ]
    }
   ],
   "source": [
    "a = [1,3,5,8,13,21]\n",
    "time = 20\n",
    "while time > 0:\n",
    "    new = a[-1] + a[-2]\n",
    "    a.append(new)\n",
    "    time -= 1\n",
    "s = 0\n",
    "for i in a[:20]:\n",
    "    s += i\n",
    "print(s)"
   ]
  },
  {
   "cell_type": "markdown",
   "metadata": {},
   "source": [
    "### 9.一个数如正好等于它的所有因子之和，则称为完数，例如6的因子有1、2、3，而6=1+2+3，因此6是一个完数。编程序找出1000之内的所有完数。"
   ]
  },
  {
   "cell_type": "code",
   "execution_count": 20,
   "metadata": {},
   "outputs": [
    {
     "name": "stdout",
     "output_type": "stream",
     "text": [
      "6是一个完数\n",
      "[1, 2, 3]\n",
      "28是一个完数\n",
      "[1, 2, 4, 7, 14]\n",
      "496是一个完数\n",
      "[1, 2, 4, 8, 16, 31, 62, 124, 248]\n"
     ]
    }
   ],
   "source": [
    "for i in range(1,1000):\n",
    "    list = []\n",
    "    for a in range(1,i):\n",
    "        if i % a == 0:\n",
    "            list.append(a)\n",
    "    if sum(list) == i:\n",
    "        print(str(i)+\"是一个完数\")\n",
    "        print(list)"
   ]
  },
  {
   "cell_type": "markdown",
   "metadata": {},
   "source": [
    "### 10.有近千名学生排队，7人一行余3人，5人一行余2人，3人一行余1人，编写程序求学生人数。"
   ]
  },
  {
   "cell_type": "code",
   "execution_count": 4,
   "metadata": {},
   "outputs": [
    {
     "name": "stdout",
     "output_type": "stream",
     "text": [
      "892\n",
      "997\n"
     ]
    }
   ],
   "source": [
    "for i in range(800,1001):\n",
    "    if i % 7 == 3 and i % 5 == 2 and i % 3 == 1:\n",
    "        print(i)"
   ]
  },
  {
   "cell_type": "markdown",
   "metadata": {},
   "source": [
    "### 11.两个乒乓球队进行比赛，各出三人。甲队为a，b，c三人，乙队为x，y，z三人。已抽签决定比赛名单。有人向队员打听比赛的名单。a说他不和x比，c说他不和x，z比，请编程序找出三队赛手的名单。"
   ]
  },
  {
   "cell_type": "markdown",
   "metadata": {},
   "source": [
    "### 12.小华今年12岁，他妈妈比他大20岁，编写程序计算多少年后他妈妈年龄比他大一倍"
   ]
  },
  {
   "cell_type": "code",
   "execution_count": 16,
   "metadata": {},
   "outputs": [
    {
     "name": "stdout",
     "output_type": "stream",
     "text": [
      "8年后他妈妈年龄比他大一倍\n"
     ]
    }
   ],
   "source": [
    "for x in range(1,100):\n",
    "    if (12 + x) * 2 == 32 + x:\n",
    "        print(\"%s年后他妈妈年龄比他大一倍\" % x)"
   ]
  },
  {
   "cell_type": "markdown",
   "metadata": {},
   "source": [
    "### 13.目前世界人口是60亿，如每年按1.5%的比例增长，则多少年后是80亿"
   ]
  },
  {
   "cell_type": "code",
   "execution_count": 13,
   "metadata": {},
   "outputs": [
    {
     "name": "stdout",
     "output_type": "stream",
     "text": [
      "80.81130039300321 20\n"
     ]
    }
   ],
   "source": [
    "x = 60\n",
    "y = 0\n",
    "while 1:\n",
    "    x = x * 1.015\n",
    "    y += 1\n",
    "    if x >= 80:\n",
    "        print(x,y)\n",
    "        break\n",
    "    "
   ]
  },
  {
   "cell_type": "markdown",
   "metadata": {},
   "source": [
    "### 14.一球从80米高度自由下落，每次落地后返回原高度的一半，再落下。求它在第10次落地时共经过多少米？第10次反弹多高?"
   ]
  },
  {
   "cell_type": "code",
   "execution_count": 15,
   "metadata": {},
   "outputs": [
    {
     "name": "stdout",
     "output_type": "stream",
     "text": [
      "第10次反弹0.078125米\n"
     ]
    }
   ],
   "source": [
    "times = 10\n",
    "h = 80\n",
    "for i in range(10):\n",
    "    h /= 2\n",
    "print(\"第10次反弹%s米\" % h)"
   ]
  }
 ],
 "metadata": {
  "kernelspec": {
   "display_name": "Python 3",
   "language": "python",
   "name": "python3"
  },
  "language_info": {
   "codemirror_mode": {
    "name": "ipython",
    "version": 3
   },
   "file_extension": ".py",
   "mimetype": "text/x-python",
   "name": "python",
   "nbconvert_exporter": "python",
   "pygments_lexer": "ipython3",
   "version": "3.7.0"
  }
 },
 "nbformat": 4,
 "nbformat_minor": 2
}
