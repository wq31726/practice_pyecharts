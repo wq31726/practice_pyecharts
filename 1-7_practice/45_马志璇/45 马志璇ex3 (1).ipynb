{
 "cells": [
  {
   "cell_type": "markdown",
   "metadata": {},
   "source": [
    "# 1.计算 1+2+4+……+100 的和。 "
   ]
  },
  {
   "cell_type": "code",
   "execution_count": 1,
   "metadata": {},
   "outputs": [
    {
     "name": "stdout",
     "output_type": "stream",
     "text": [
      "2525.0\n"
     ]
    }
   ],
   "source": [
    "sum=0\n",
    "\n",
    "for i in range (1,101):\n",
    "\n",
    "    sum=sum+i\n",
    "\n",
    "print (sum/2)\n"
   ]
  },
  {
   "cell_type": "markdown",
   "metadata": {},
   "source": [
    "# 2.计算 1+1/3+1/5+……+1/99 的和"
   ]
  },
  {
   "cell_type": "code",
   "execution_count": 2,
   "metadata": {},
   "outputs": [
    {
     "name": "stdout",
     "output_type": "stream",
     "text": [
      "2.937774848474907\n"
     ]
    }
   ],
   "source": [
    "i=1\n",
    "\n",
    "sum=0\n",
    "\n",
    "while i<=99: \n",
    "    sum=sum+1/i       \n",
    "    i=i+2                      \n",
    "\n",
    "print(sum)\n"
   ]
  },
  {
   "cell_type": "markdown",
   "metadata": {},
   "source": [
    "# 3从键盘输入一个字符串，直到回车结束，统计字符串中的大小写英文字母各有多少个。 "
   ]
  },
  {
   "cell_type": "code",
   "execution_count": 1,
   "metadata": {},
   "outputs": [
    {
     "name": "stdin",
     "output_type": "stream",
     "text": [
      "输入一段字符: jihgAs5\n"
     ]
    },
    {
     "name": "stdout",
     "output_type": "stream",
     "text": [
      "小写:  5 大写： 1\n"
     ]
    }
   ],
   "source": [
    "s = input('输入一段字符:')\n",
    "a = 0\n",
    "b = 0\n",
    "for x in s:\n",
    "    if x >='a' and x<='z':\n",
    "        a+=1\n",
    "    elif x>='A' and x<='Z':\n",
    "        b+=1\n",
    "print('小写: ',a,'大写：',b)\n"
   ]
  },
  {
   "cell_type": "markdown",
   "metadata": {},
   "source": [
    "# 4.有一分数序列：2/1，3/2，5/3，8/5，13/8，21/13…，求出这个数列的前 20 项之和。 "
   ]
  },
  {
   "cell_type": "code",
   "execution_count": 18,
   "metadata": {},
   "outputs": [
    {
     "name": "stdin",
     "output_type": "stream",
     "text": [
      "请输入项数：  20\n"
     ]
    },
    {
     "name": "stdout",
     "output_type": "stream",
     "text": [
      "2/1+3/2+5/3+8/5+13/8+21/13+34/21+55/34+89/55+144/89+233/144+377/233+610/377+987/610+1597/987+2584/1597+4181/2584+6765/4181+10946/6765+17711/10946=32.66\n"
     ]
    }
   ],
   "source": [
    "\n",
    "n = int(input('请输入项数： '))\n",
    " \n",
    "fenzi = 2#分子\n",
    "fenmu = 1#分母\n",
    "l = []\n",
    "s = 0\n",
    " \n",
    "for i in range(1,n+1):\n",
    "    a = fenzi\n",
    "    b = fenmu\n",
    "    \n",
    "    s += (a/b)\n",
    "    l.append('%s/%s'%(a,b))\n",
    "    \n",
    "    fenzi = a+b\n",
    "    fenmu = a\n",
    "    \n",
    "print('+'.join(str(i) for i in l),end = '')\n",
    "print('=%.2f'%s)\n"
   ]
  },
  {
   "cell_type": "markdown",
   "metadata": {},
   "source": [
    "# 5.输入若干个同学的成绩，计算平均成绩，输入的成绩为负数或大于 100 时表示结束输入。 "
   ]
  },
  {
   "cell_type": "code",
   "execution_count": null,
   "metadata": {},
   "outputs": [
    {
     "name": "stdin",
     "output_type": "stream",
     "text": [
      "请输入学生的成绩: 55\n",
      "请输入学生的成绩: 66\n"
     ]
    }
   ],
   "source": [
    "\n",
    "num=0\n",
    "score=0\n",
    "while True:\n",
    "        s=input(\"请输入学生的成绩:\")\n",
    "        if s==\"Q\" or s==\"q\":  # if s.upper()==\"Q\": 或 if s.lower()==\"q\":\n",
    "                break\n",
    "        if float(s)<0 or float(s)>100:\n",
    "                print(\"数据不合理，结束\")\n",
    "                continue\n",
    "        num+=1\n",
    "        score+=float(s)\n",
    "print(\"学生的人数:%d,学生的平均成绩%4.2f\"%(num,score/num))\n"
   ]
  },
  {
   "cell_type": "markdown",
   "metadata": {},
   "source": [
    "#  6．输入三个正整数 a、b、n，精确计算 a/b 的结果到小数后 n 位。 "
   ]
  },
  {
   "cell_type": "code",
   "execution_count": 1,
   "metadata": {},
   "outputs": [
    {
     "name": "stdin",
     "output_type": "stream",
     "text": [
      "a=  5\n",
      "b=  8\n",
      "n=  2\n"
     ]
    },
    {
     "name": "stdout",
     "output_type": "stream",
     "text": [
      "0.62\n"
     ]
    }
   ],
   "source": [
    "import math\n",
    "a = int(input(\"a= \"))\n",
    "b = int(input(\"b= \"))\n",
    "n = int(input(\"n= \"))\n",
    "s = a/b\n",
    "print( round(s,n))"
   ]
  },
  {
   "cell_type": "markdown",
   "metadata": {},
   "source": [
    "# 7.有一序列：1，3，5，8，13，21...，用 while 循环求出这个数列的前 20 项之和。 "
   ]
  },
  {
   "cell_type": "code",
   "execution_count": 2,
   "metadata": {},
   "outputs": [
    {
     "name": "stdout",
     "output_type": "stream",
     "text": [
      "210\n"
     ]
    }
   ],
   "source": [
    "i=1\n",
    "\n",
    "sum=0\n",
    "\n",
    "while i<=20: \n",
    "    sum=sum+i      \n",
    "    i=i+1                      \n",
    "\n",
    "print(sum)\n"
   ]
  },
  {
   "cell_type": "markdown",
   "metadata": {},
   "source": [
    "#  8.有近千名学生排队，7 人一行余 3 人，5 人一行余 2 人，3 人一行余 1 人，编写程序求 学生人数"
   ]
  },
  {
   "cell_type": "code",
   "execution_count": 5,
   "metadata": {},
   "outputs": [
    {
     "name": "stdout",
     "output_type": "stream",
     "text": [
      "0.7142857142857143 1.0 0.6666666666666667\n"
     ]
    }
   ],
   "source": [
    "x=int(a)\n",
    "print((x/7)%3,(x/5)%2,(x/3)%1)\n"
   ]
  },
  {
   "cell_type": "code",
   "execution_count": null,
   "metadata": {},
   "outputs": [],
   "source": []
  }
 ],
 "metadata": {
  "kernelspec": {
   "display_name": "Python 3",
   "language": "python",
   "name": "python3"
  },
  "language_info": {
   "codemirror_mode": {
    "name": "ipython",
    "version": 3
   },
   "file_extension": ".py",
   "mimetype": "text/x-python",
   "name": "python",
   "nbconvert_exporter": "python",
   "pygments_lexer": "ipython3",
   "version": "3.7.1"
  }
 },
 "nbformat": 4,
 "nbformat_minor": 2
}
