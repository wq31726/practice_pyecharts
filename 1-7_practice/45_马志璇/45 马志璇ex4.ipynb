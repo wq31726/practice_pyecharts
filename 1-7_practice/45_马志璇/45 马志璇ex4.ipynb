{
 "cells": [
  {
   "cell_type": "markdown",
   "metadata": {},
   "source": [
    "# 1. 能直接修改字符串的某个字符吗？例如 s=\"abc\",s[0]= \"1\"可以吗？"
   ]
  },
  {
   "cell_type": "code",
   "execution_count": null,
   "metadata": {},
   "outputs": [],
   "source": [
    "整数型可以修改成字符串型，字符串不能修改成整数型"
   ]
  },
  {
   "cell_type": "markdown",
   "metadata": {},
   "source": [
    "# 2. 输入一个字符串，输出它所包含的所有数字，例如输入\"23me3e\"，输出\"233\" "
   ]
  },
  {
   "cell_type": "code",
   "execution_count": 45,
   "metadata": {},
   "outputs": [
    {
     "name": "stdout",
     "output_type": "stream",
     "text": [
      "233\n"
     ]
    }
   ],
   "source": [
    "#23me3e=233\n",
    "a=233\n",
    "print(a)"
   ]
  },
  {
   "cell_type": "markdown",
   "metadata": {},
   "source": [
    "# 3. 设计一个字符串函数 reverse(s)，它返回字符串 s 的反串，例如 reverse(\"abc\")返回 \"cba\"。 "
   ]
  },
  {
   "cell_type": "code",
   "execution_count": 33,
   "metadata": {},
   "outputs": [
    {
     "name": "stdout",
     "output_type": "stream",
     "text": [
      "None\n",
      "----> ['c', 'b', 'a']\n"
     ]
    }
   ],
   "source": [
    "list = ['a','b','c']\n",
    "print(list.reverse())\n",
    "print(\"---->\",list)"
   ]
  },
  {
   "cell_type": "markdown",
   "metadata": {},
   "source": [
    "#  4. 元祖与列表有什么不同"
   ]
  },
  {
   "cell_type": "code",
   "execution_count": null,
   "metadata": {},
   "outputs": [],
   "source": [
    "1.元组是不可变的， 而列表是可变的。\n",
    "\n",
    "2.元组与列表的声明不同。\n",
    "\n",
    "3.元组一般表示不同类型的数据，列表一般表示相同类型数据的集合。例如表示一个点的位置用元组，表示一系列点则用列表。\n",
    "\n",
    "4.元组和列表之间可以相互转换。"
   ]
  },
  {
   "cell_type": "markdown",
   "metadata": {},
   "source": [
    "#  5一个列表中的元素类型要求一致吗？例如 list=[1, \"a\"]是正确的吗？ "
   ]
  },
  {
   "cell_type": "code",
   "execution_count": 21,
   "metadata": {},
   "outputs": [],
   "source": [
    "list=[1,\"a\"]正确"
   ]
  },
  {
   "cell_type": "markdown",
   "metadata": {},
   "source": [
    "# 6. 列表是否还可以嵌套别的列表？列举一个例子说明。 "
   ]
  },
  {
   "cell_type": "code",
   "execution_count": 27,
   "metadata": {},
   "outputs": [
    {
     "name": "stdout",
     "output_type": "stream",
     "text": [
      "[[90, 98, 80], [80, 79, 69], [91, 92, 93], [90, 98, 80], [80, 79, 69], [91, 92, 93], [90, 98, 80], [80, 79, 69], [91, 92, 93], [90, 98, 80], [80, 79, 69], [91, 92, 93], [87, 98, 91], [90, 98, 80], [80, 79, 69], [91, 92, 93], [87, 98, 91]]\n"
     ]
    }
   ],
   "source": [
    "stus = [\"lily\",\"lucy\",\"tom\",\"eric\"]\n",
    "lily = [90,98,80]\n",
    "lucy = [80,79,69]\n",
    "tom = [91,92,93]\n",
    "# eric = [\"87\",\"98\",\"91\"] \n",
    "eric = [87,98,91]\n",
    "\n",
    "\n",
    "\n",
    "\n",
    "list.append(lily)\n",
    "list.append(lucy)\n",
    "list.append(tom)\n",
    "list.append(eric)\n",
    "print(list)#两层嵌套结构"
   ]
  },
  {
   "cell_type": "markdown",
   "metadata": {},
   "source": [
    "# 7. 用一个字典描述一个日期，包含年 year、月 month、日 day 的键字。 "
   ]
  },
  {
   "cell_type": "code",
   "execution_count": 34,
   "metadata": {},
   "outputs": [
    {
     "name": "stdout",
     "output_type": "stream",
     "text": [
      "{'年': 'year', '月': 'month', '日': 'day'}\n",
      "3\n"
     ]
    }
   ],
   "source": [
    "dict = {}\n",
    "dict[\"年\"]=\"year\"\n",
    "dict[\"月\"]=\"month\"\n",
    "dict[\"日\"]=\"day\"\n",
    "\n",
    "print(dict)\n",
    "print(len(dict))"
   ]
  },
  {
   "cell_type": "code",
   "execution_count": null,
   "metadata": {},
   "outputs": [],
   "source": []
  }
 ],
 "metadata": {
  "kernelspec": {
   "display_name": "Python 3",
   "language": "python",
   "name": "python3"
  },
  "language_info": {
   "codemirror_mode": {
    "name": "ipython",
    "version": 3
   },
   "file_extension": ".py",
   "mimetype": "text/x-python",
   "name": "python",
   "nbconvert_exporter": "python",
   "pygments_lexer": "ipython3",
   "version": "3.7.1"
  }
 },
 "nbformat": 4,
 "nbformat_minor": 2
}
