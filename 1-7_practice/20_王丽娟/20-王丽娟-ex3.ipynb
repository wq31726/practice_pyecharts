{
 "cells": [
  {
   "cell_type": "markdown",
   "metadata": {},
   "source": [
    "# 练习三"
   ]
  },
  {
   "cell_type": "markdown",
   "metadata": {},
   "source": [
    "1. 计算1+2+4+…..+100的和：\n",
    "2. 计算1+1/3+1/5+…..+1/100的和：\n",
    "3. 从键盘输入一个字符串，知道回车结束，统计字符串中上午大小写字母各有几个：\n",
    "4. 有一个分数序列：2/1,3/2,5/3,8/5,13/8,21/13…..，求出这个数列的前20项之和：\n",
    "5．输入若干个同学的成绩，计算平均成绩，输入的成绩为负数或大于100时表示结束输入：\n",
    "6. 输入三个正整数a、b、c，精确计算a/b的结果到小数后n位：\n",
    "7. 一个猴子第一天找下若干个桃子，当即吃了一半，还不过瘾，又多吃了一个。第二天早上又将剩下的桃子吃掉一半，又多吃了一个。以后每天早上都吃了前一天剩下的一半零一个。到第10天早上想在吃时，见只剩下一个桃子。求第一天共找了多少桃子：\n",
    "8. 有一个序列：1,3,5,8，13,21….，用while循环求出这个数列的前20项之和：\n",
    "9. 一个数如正好等于它的所有因子之和，则称为完数，例如6的因子有1、2、3，而6=1+2+3，因此6是一个完数。编程序找出1000之内的所有完数：\n",
    "10. 有近千名学生排队，7人一行余3人，5人一行余2人，3人一行余1人，编写程序求学生人数：\n",
    "11. 小华今年12岁，他妈妈比他大20岁，编写程序计算多少年后他妈妈年龄比他大一倍。\n",
    "12. 两个乒乓球队进行比赛，各出三人。甲队为a，b，c三人，乙队x，y，z三人。以抽签决定比赛名单。有人向队员打听比赛的名单。A说他不和x比，c说他不和x，z比，请编程序找出三队赛手名单。\n",
    "13. 目前世界人口是60亿，如每年按1.5%的比例增长，则多少年后是80亿？\n",
    "14. 一球从80米高度自由下落，每次落地后返回原高度的一半，再落下。求它在第10次落地时共经过几米？第10次反弹多高？"
   ]
  },
  {
   "cell_type": "markdown",
   "metadata": {},
   "source": [
    "## 1. 计算1+2+4+…..+100的和："
   ]
  },
  {
   "cell_type": "code",
   "execution_count": 2,
   "metadata": {},
   "outputs": [
    {
     "name": "stdout",
     "output_type": "stream",
     "text": [
      "5050\n"
     ]
    }
   ],
   "source": [
    "a=0\n",
    "for i in range (101):\n",
    "    a=a+i\n",
    "print(a)"
   ]
  },
  {
   "cell_type": "markdown",
   "metadata": {},
   "source": [
    "## 2. 计算1+1/3+1/5+…..+1/100的和："
   ]
  },
  {
   "cell_type": "code",
   "execution_count": 4,
   "metadata": {},
   "outputs": [
    {
     "name": "stdout",
     "output_type": "stream",
     "text": [
      "2.937774848474907\n"
     ]
    }
   ],
   "source": [
    "a=0\n",
    "for i in range (1,101,2):\n",
    "    a=a+1/i\n",
    "print(a)"
   ]
  },
  {
   "cell_type": "markdown",
   "metadata": {},
   "source": [
    "## 3. 从键盘输入一个字符串，知道回车结束，统计字符串中上午大小写字母各有几个："
   ]
  },
  {
   "cell_type": "code",
   "execution_count": 5,
   "metadata": {},
   "outputs": [
    {
     "name": "stdout",
     "output_type": "stream",
     "text": [
      "4 4\n"
     ]
    }
   ],
   "source": [
    "words=\"3456 AaDHDvbd\"\n",
    "upper_cnt=0\n",
    "lower_cnt=0\n",
    "for i in words:\n",
    "    if ord('a')<=ord(i)<=ord('z'):\n",
    "        lower_cnt=lower_cnt+1\n",
    "    if ord('A')<=ord(i)<=ord('Z'):\n",
    "        upper_cnt=upper_cnt+1\n",
    "print(lower_cnt,upper_cnt)"
   ]
  },
  {
   "cell_type": "markdown",
   "metadata": {},
   "source": [
    "## 4. 有一个分数序列：2/1,3/2,5/3,8/5,13/8,21/13…..，求出这个数列的前20项之和："
   ]
  },
  {
   "cell_type": "code",
   "execution_count": 6,
   "metadata": {},
   "outputs": [
    {
     "name": "stdout",
     "output_type": "stream",
     "text": [
      "32.66026079864164\n"
     ]
    }
   ],
   "source": [
    "a=2\n",
    "b=1\n",
    "sum=0\n",
    "for i in range (1,21):\n",
    "    sum=sum+a/b\n",
    "    t=a\n",
    "    a=a+b\n",
    "    b=t\n",
    "print(sum)"
   ]
  },
  {
   "cell_type": "markdown",
   "metadata": {},
   "source": [
    "## 5．输入若干个同学的成绩，计算平均成绩，输入的成绩为负数或大于100时表示结束输入："
   ]
  },
  {
   "cell_type": "code",
   "execution_count": null,
   "metadata": {},
   "outputs": [],
   "source": [
    "grade=[]\n",
    "\n",
    "while True:\n",
    "    score=input('请输入学生的成绩：')\n",
    "    if int(score)<0 or int(score)>100:\n",
    "        break\n",
    "    else:\n",
    "        grade.append(int(score))\n",
    "ave=0\n",
    "for num in grade:\n",
    "    ave=ave+num\n",
    "print(ave/len(grade))"
   ]
  },
  {
   "cell_type": "markdown",
   "metadata": {},
   "source": [
    "## 6. 输入三个正整数a、b、c，精确计算a/b的结果到小数后n位："
   ]
  },
  {
   "cell_type": "code",
   "execution_count": null,
   "metadata": {},
   "outputs": [],
   "source": [
    "a=int(input('请输入正整数a:'))\n",
    "b=int(input('请输入正整数b:'))\n",
    "c=int(input('请输入正整数c:'))\n",
    "num=a/b\n",
    "d='%.{}f'.format(n)\n",
    "print(d %num)"
   ]
  },
  {
   "cell_type": "markdown",
   "metadata": {},
   "source": [
    "## 7. 一个猴子第一天找下若干个桃子，当即吃了一半，还不过瘾，又多吃了一个。第二天早上又将剩下的桃子吃掉一半，又多吃了一个。以后每天早上都吃了前一天剩下的一半零一个。到第10天早上想在吃时，见只剩下一个桃子。求第一天共找了多少桃子："
   ]
  },
  {
   "cell_type": "code",
   "execution_count": 2,
   "metadata": {},
   "outputs": [
    {
     "name": "stdout",
     "output_type": "stream",
     "text": [
      "1534\n"
     ]
    }
   ],
   "source": [
    "day=1\n",
    "s=1\n",
    "while day<=9:\n",
    "    s=(s+1)*2\n",
    "    day=day+1\n",
    "print(s)"
   ]
  },
  {
   "cell_type": "markdown",
   "metadata": {},
   "source": [
    "## 8. 有一个序列：1,3,5,8，13,21….，用while循环求出这个数列的前20项之和："
   ]
  },
  {
   "cell_type": "code",
   "execution_count": 3,
   "metadata": {},
   "outputs": [
    {
     "name": "stdout",
     "output_type": "stream",
     "text": [
      "817\n"
     ]
    }
   ],
   "source": [
    "n=1\n",
    "a=3\n",
    "b=5\n",
    "c=a+b\n",
    "s=1+c\n",
    "while n <=16:\n",
    "    s=s+c\n",
    "    c=c+n\n",
    "    n=n+1\n",
    "    b=c-b\n",
    "print(s)"
   ]
  },
  {
   "cell_type": "markdown",
   "metadata": {},
   "source": [
    "## 9. 一个数如正好等于它的所有因子之和，则称为完数，例如6的因子有1、2、3，而6=1+2+3，因此6是一个完数。编程序找出1000之内的所有完数："
   ]
  },
  {
   "cell_type": "code",
   "execution_count": 5,
   "metadata": {},
   "outputs": [
    {
     "name": "stdout",
     "output_type": "stream",
     "text": [
      "24\n",
      "[1, 2, 3, 4, 6, 8]\n"
     ]
    }
   ],
   "source": [
    "from functools import reduce\n",
    "def sum(a,b):\n",
    "    return a+b\n",
    "for i in range (2,1001):\n",
    "    l=[1]\n",
    "    for j in range (2,int(i/2)):\n",
    "        if i%j==0:\n",
    "            l.append(j)\n",
    "    if i == reduce(sum,l):\n",
    "        print(i)\n",
    "        print(l)"
   ]
  },
  {
   "cell_type": "markdown",
   "metadata": {},
   "source": [
    "## 10. 有近千名学生排队，7人一行余3人，5人一行余2人，3人一行余1人，编写程序求学生人数："
   ]
  },
  {
   "cell_type": "code",
   "execution_count": 6,
   "metadata": {},
   "outputs": [
    {
     "name": "stdout",
     "output_type": "stream",
     "text": [
      "997\n"
     ]
    }
   ],
   "source": [
    "a=1000\n",
    "b=1000\n",
    "while True:\n",
    "    if a%7==3 and a%5==2 and a%3==1:\n",
    "        print(a)\n",
    "        break\n",
    "    if  b%7==3 and b%5==2 and b%3==1:\n",
    "        print(b)\n",
    "        break\n",
    "    b=b+1\n",
    "    a=a-1"
   ]
  },
  {
   "cell_type": "markdown",
   "metadata": {},
   "source": [
    "## 11. 小华今年12岁，他妈妈比他大20岁，编写程序计算多少年后他妈妈年龄比他大一倍。"
   ]
  },
  {
   "cell_type": "code",
   "execution_count": 7,
   "metadata": {},
   "outputs": [
    {
     "name": "stdout",
     "output_type": "stream",
     "text": [
      "8\n"
     ]
    }
   ],
   "source": [
    "for i in range (1,100):\n",
    "    if ((i+12)*2)==(i+32):\n",
    "        print(i)"
   ]
  },
  {
   "cell_type": "markdown",
   "metadata": {},
   "source": [
    "## 12. 两个乒乓球队进行比赛，各出三人。甲队为a，b，c三人，乙队x，y，z三人。以抽签决定比赛名单。有人向队员打听比赛的名单。A说他不和x比，c说他不和x，z比，请编程序找出三队赛手名单。"
   ]
  },
  {
   "cell_type": "code",
   "execution_count": 1,
   "metadata": {},
   "outputs": [
    {
     "name": "stdout",
     "output_type": "stream",
     "text": [
      "a vs z, b vs x c vs y\n"
     ]
    }
   ],
   "source": [
    "import itertools\n",
    "for i in itertools.permutations('xyz'):\n",
    "    if i[0]!='x' and i[2]!= 'x' and i[2]!='z':\n",
    "        print('a vs %s, b vs %s c vs %s'% (i[0],i[1],i[2]))"
   ]
  },
  {
   "cell_type": "markdown",
   "metadata": {},
   "source": [
    "## 13. 目前世界人口是60亿，如每年按1.5%的比例增长，则多少年后是80亿？"
   ]
  },
  {
   "cell_type": "code",
   "execution_count": 2,
   "metadata": {},
   "outputs": [
    {
     "name": "stdout",
     "output_type": "stream",
     "text": [
      "20\n"
     ]
    }
   ],
   "source": [
    "a=60\n",
    "b=0\n",
    "while True:\n",
    "    b=b+1\n",
    "    a=a*1.015\n",
    "    if a >=80:\n",
    "        break\n",
    "print(b)"
   ]
  },
  {
   "cell_type": "markdown",
   "metadata": {},
   "source": [
    "## 14. 一球从80米高度自由下落，每次落地后返回原高度的一半，再落下。求它在第10次落地时共经过几米？第10次反弹多高？"
   ]
  },
  {
   "cell_type": "code",
   "execution_count": null,
   "metadata": {},
   "outputs": [],
   "source": []
  }
 ],
 "metadata": {
  "kernelspec": {
   "display_name": "Python 3",
   "language": "python",
   "name": "python3"
  },
  "language_info": {
   "codemirror_mode": {
    "name": "ipython",
    "version": 3
   },
   "file_extension": ".py",
   "mimetype": "text/x-python",
   "name": "python",
   "nbconvert_exporter": "python",
   "pygments_lexer": "ipython3",
   "version": "3.7.4"
  }
 },
 "nbformat": 4,
 "nbformat_minor": 4
}
