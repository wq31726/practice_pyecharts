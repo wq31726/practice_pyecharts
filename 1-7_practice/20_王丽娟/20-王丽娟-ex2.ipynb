{
 "cells": [
  {
   "cell_type": "code",
   "execution_count": 5,
   "metadata": {},
   "outputs": [
    {
     "data": {
      "text/plain": [
       "'error'"
      ]
     },
     "execution_count": 5,
     "metadata": {},
     "output_type": "execute_result"
    }
   ],
   "source": [
    "#第一题：\n",
    "import math\n",
    "def get_result(a,b,c):\n",
    "    x = b*b - 4*a*c\n",
    "    if x <=0:\n",
    "        return \"error\"\n",
    "    x1 = (-b+math.sqrt(x))/2*a\n",
    "    x2 = (-b-math.sqrt(x))/2*a\n",
    "    return (x1,x2)\n",
    "\n",
    "get_result(3,4,5)"
   ]
  },
  {
   "cell_type": "code",
   "execution_count": 7,
   "metadata": {},
   "outputs": [
    {
     "data": {
      "text/plain": [
       "0.0"
      ]
     },
     "execution_count": 7,
     "metadata": {},
     "output_type": "execute_result"
    }
   ],
   "source": [
    "#第二题：\n",
    "import math\n",
    "def get_result(a,b,c):\n",
    "    x = a + b\n",
    "    y = a + c\n",
    "    z = b + c\n",
    "    p = (a+b+c)/2\n",
    "    if x<c and y<b and z<a:\n",
    "        return \"error\"\n",
    "    else:\n",
    "        s = math.sqrt(p*(p-a)*(p-b)*(p-c))\n",
    "    return s\n",
    "get_result(1,2,3)"
   ]
  },
  {
   "cell_type": "code",
   "execution_count": 9,
   "metadata": {},
   "outputs": [
    {
     "name": "stdout",
     "output_type": "stream",
     "text": [
      "A不是小写字母\n"
     ]
    }
   ],
   "source": [
    "#第三题：\n",
    "def f(str):\n",
    "    if 97<=ord(str)<=122:\n",
    "        print(\"%s是小写字母\"%str)\n",
    "    else:\n",
    "        print(\"%s不是小写字母\"%str)\n",
    "f(\"A\")"
   ]
  },
  {
   "cell_type": "code",
   "execution_count": 15,
   "metadata": {},
   "outputs": [
    {
     "name": "stdout",
     "output_type": "stream",
     "text": [
      "4\n"
     ]
    }
   ],
   "source": [
    "#第四题：\n",
    "def f(X):\n",
    "    count=0\n",
    "    for i in str(X):\n",
    "        if i=='0':\n",
    "            count = count +1\n",
    "    return count\n",
    "print(f(3300500))  "
   ]
  },
  {
   "cell_type": "code",
   "execution_count": 13,
   "metadata": {},
   "outputs": [
    {
     "name": "stdout",
     "output_type": "stream",
     "text": [
      "11 要大\n"
     ]
    }
   ],
   "source": [
    "#第五题：\n",
    "def f(a,b):\n",
    "    max = a\n",
    "    if a<b:\n",
    "        max = str(b)+\" 要大\"\n",
    "    else :\n",
    "        max = str(a)+\" 要大\"\n",
    "    return max\n",
    "print(f(11,6))"
   ]
  },
  {
   "cell_type": "code",
   "execution_count": 14,
   "metadata": {},
   "outputs": [
    {
     "name": "stdout",
     "output_type": "stream",
     "text": [
      "不是小写字母\n"
     ]
    }
   ],
   "source": [
    "#第六题：\n",
    "def f(word):\n",
    "    if 97<=ord(word)<=122:\n",
    "        x = chr(ord(word)+(ord(\"A\")-ord(\"a\")))\n",
    "    else :\n",
    "        x = \"不是小写字母\"\n",
    "    return x\n",
    "print(f(\"A\"))"
   ]
  },
  {
   "cell_type": "code",
   "execution_count": 16,
   "metadata": {},
   "outputs": [
    {
     "name": "stdout",
     "output_type": "stream",
     "text": [
      "2000是闰年\n"
     ]
    }
   ],
   "source": [
    "#第七题：\n",
    "def f(y):\n",
    "    if y%400==0:\n",
    "        print(str(y)+\"是闰年\")\n",
    "    elif y%4==0 and y%100!=0:\n",
    "        print(str(y)+\"是闰年\")\n",
    "    else:\n",
    "        print(str(y)+\"不是闰年\")\n",
    "f(2000)"
   ]
  },
  {
   "cell_type": "code",
   "execution_count": 18,
   "metadata": {},
   "outputs": [
    {
     "name": "stdout",
     "output_type": "stream",
     "text": [
      "4\n",
      "3\n"
     ]
    }
   ],
   "source": [
    "#第八题：\n",
    "def f(a,b):\n",
    "    max = a\n",
    "    min = b\n",
    "    if b>a:\n",
    "        max = b\n",
    "        min = a\n",
    "    print(max)\n",
    "    print(min)\n",
    "\n",
    "f(1,2)"
   ]
  },
  {
   "cell_type": "code",
   "execution_count": 21,
   "metadata": {},
   "outputs": [
    {
     "name": "stdout",
     "output_type": "stream",
     "text": [
      "1\n"
     ]
    }
   ],
   "source": [
    "#第九题：\n",
    "def f(a,b,c):\n",
    "    min = a\n",
    "    if b<a:\n",
    "        if c<b:\n",
    "            min = c\n",
    "        else:\n",
    "            min = b\n",
    "    print(str(min))\n",
    "f(2,1,3)"
   ]
  },
  {
   "cell_type": "code",
   "execution_count": null,
   "metadata": {},
   "outputs": [],
   "source": [
    "#第十题："
   ]
  },
  {
   "cell_type": "code",
   "execution_count": null,
   "metadata": {},
   "outputs": [],
   "source": [
    "#第十一题："
   ]
  }
 ],
 "metadata": {
  "kernelspec": {
   "display_name": "Python 3",
   "language": "python",
   "name": "python3"
  },
  "language_info": {
   "codemirror_mode": {
    "name": "ipython",
    "version": 3
   },
   "file_extension": ".py",
   "mimetype": "text/x-python",
   "name": "python",
   "nbconvert_exporter": "python",
   "pygments_lexer": "ipython3",
   "version": "3.7.4"
  }
 },
 "nbformat": 4,
 "nbformat_minor": 2
}
