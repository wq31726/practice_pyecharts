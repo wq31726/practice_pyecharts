{
 "cells": [
  {
   "cell_type": "code",
   "execution_count": 1,
   "metadata": {},
   "outputs": [
    {
     "name": "stdout",
     "output_type": "stream",
     "text": [
      "2\n"
     ]
    }
   ],
   "source": [
    "#第一题\n",
    "def area(a,b):\n",
    " return a*b\n",
    "print(area(1,2))"
   ]
  },
  {
   "cell_type": "code",
   "execution_count": 4,
   "metadata": {},
   "outputs": [
    {
     "name": "stdout",
     "output_type": "stream",
     "text": [
      "21.77777777777778:46.66666666666674:40\n",
      "00:53.333333333333336:20\n",
      "01.7658333333333334:45.95:57\n",
      "01.5258333333333334:31.549999999999997:33\n",
      "01.7658333333333334:45.95:57\n"
     ]
    }
   ],
   "source": [
    "#第二题\n",
    "def convert(s):\n",
    "    left = 3600*24 - s\n",
    "    m = left/60\n",
    "    s = left%60\n",
    "    h = 0\n",
    "    if m > 59 :\n",
    "        h = m/60\n",
    "        m = m%60\n",
    "    if h < 10:\n",
    "        h = '0'+ str(h)\n",
    "    if m < 10:\n",
    "        m = '0' + str(m)\n",
    "    if s < 10:\n",
    "        s = '0' + str(s)\n",
    "    return str(h)+\":\"+str(m)+\":\"+str(s)\n",
    "        \n",
    "\n",
    "# return \"23:00:00\"\n",
    "\n",
    "print(convert(8000))\n",
    "print(convert(83200))\n",
    "print(convert(80043))\n",
    "print(convert(80907))\n",
    "print(convert(80043))"
   ]
  },
  {
   "cell_type": "code",
   "execution_count": null,
   "metadata": {},
   "outputs": [],
   "source": [
    "#第三题\n",
    "#（1）\n",
    "FALSE\n",
    "#（2）\n",
    "FALSE\n",
    "#（3）\n",
    "TRUE\n",
    "#（4）\n",
    "FALSE\n",
    "#（5）\n",
    "TRUE\n",
    "#（6）\n",
    "TRUE\n",
    "#（7）\n",
    "TRUE\n",
    "#（8）\n",
    "TRUE"
   ]
  },
  {
   "cell_type": "code",
   "execution_count": null,
   "metadata": {},
   "outputs": [],
   "source": [
    "#第四题\n"
   ]
  },
  {
   "cell_type": "code",
   "execution_count": 13,
   "metadata": {},
   "outputs": [
    {
     "name": "stdout",
     "output_type": "stream",
     "text": [
      "False\n",
      "False\n",
      "1\n",
      "False\n",
      "1\n"
     ]
    }
   ],
   "source": [
    "#第五题\n",
    "a=1\n",
    "b=2\n",
    "c=3\n",
    "x=4\n",
    "y=5\n",
    "print(a+b>c and b==c)\n",
    "print(not a<b and b  or x+y<=3)\n",
    "print(a+(b>=x+y)and c-a and y-x)\n",
    "print(not(a+b)+c-1 and b+c/2)\n",
    "print(a or 1 + 'a' and b and 'c')"
   ]
  },
  {
   "cell_type": "code",
   "execution_count": null,
   "metadata": {},
   "outputs": [],
   "source": []
  }
 ],
 "metadata": {
  "kernelspec": {
   "display_name": "Python 3",
   "language": "python",
   "name": "python3"
  },
  "language_info": {
   "codemirror_mode": {
    "name": "ipython",
    "version": 3
   },
   "file_extension": ".py",
   "mimetype": "text/x-python",
   "name": "python",
   "nbconvert_exporter": "python",
   "pygments_lexer": "ipython3",
   "version": "3.7.4"
  }
 },
 "nbformat": 4,
 "nbformat_minor": 2
}
