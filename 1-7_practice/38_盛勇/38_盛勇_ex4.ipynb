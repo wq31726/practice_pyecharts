{
 "cells": [
  {
   "cell_type": "markdown",
   "metadata": {},
   "source": [
    "# 能直接修改字符串的某个字符吗？例如s=\"abc\"，s[0]=\"1\"可以吗？"
   ]
  },
  {
   "cell_type": "code",
   "execution_count": 1,
   "metadata": {},
   "outputs": [
    {
     "ename": "TypeError",
     "evalue": "'str' object does not support item assignment",
     "output_type": "error",
     "traceback": [
      "\u001b[1;31m---------------------------------------------------------------------------\u001b[0m",
      "\u001b[1;31mTypeError\u001b[0m                                 Traceback (most recent call last)",
      "\u001b[1;32m<ipython-input-1-dac4e1e1eb69>\u001b[0m in \u001b[0;36m<module>\u001b[1;34m\u001b[0m\n\u001b[0;32m      1\u001b[0m \u001b[0ms\u001b[0m\u001b[1;33m=\u001b[0m\u001b[1;34m\"abc\"\u001b[0m\u001b[1;33m\u001b[0m\u001b[1;33m\u001b[0m\u001b[0m\n\u001b[1;32m----> 2\u001b[1;33m \u001b[0ms\u001b[0m\u001b[1;33m[\u001b[0m\u001b[1;36m0\u001b[0m\u001b[1;33m]\u001b[0m\u001b[1;33m=\u001b[0m\u001b[1;34m'1'\u001b[0m\u001b[1;33m\u001b[0m\u001b[1;33m\u001b[0m\u001b[0m\n\u001b[0m",
      "\u001b[1;31mTypeError\u001b[0m: 'str' object does not support item assignment"
     ]
    }
   ],
   "source": [
    "#字符串中的值不能被修改\n",
    "s=\"abc\"\n",
    "s[0]='1'"
   ]
  },
  {
   "cell_type": "markdown",
   "metadata": {},
   "source": [
    "# 输入一个字符串，输出它所包含的所有数字，例如输入\"23me3e\"，输出\"233\""
   ]
  },
  {
   "cell_type": "code",
   "execution_count": 1,
   "metadata": {},
   "outputs": [
    {
     "name": "stdout",
     "output_type": "stream",
     "text": [
      "请输入一个任意字符：afdkla269\n",
      "269\n"
     ]
    }
   ],
   "source": [
    "number=input('请输入一个任意字符：')\n",
    "\n",
    "#生成一个含有数字字符串的列表\n",
    "nums=list(str(i) for i in range(0,10))\n",
    "#将列表转为字符串\n",
    "num=''.join(nums)\n",
    "\n",
    "def zifu(number):\n",
    "    output=[]\n",
    "    #遍历字符串\n",
    "    for i in number:\n",
    "        if i in num:\n",
    "            output.append(i)  #将含有数字的字符串的添加到output列表\n",
    "            \n",
    "    return ''.join(output)\n",
    "\n",
    "print(zifu(number))"
   ]
  },
  {
   "cell_type": "markdown",
   "metadata": {},
   "source": [
    "# 设计一个字符串函数reverse（s），它返回字符串s的反串，例如reverse（\"abc\"）返回\"cba\"。"
   ]
  },
  {
   "cell_type": "code",
   "execution_count": 11,
   "metadata": {},
   "outputs": [
    {
     "name": "stdout",
     "output_type": "stream",
     "text": [
      "请输入任意字符：156afaeri15\n",
      "51ireafa651\n"
     ]
    }
   ],
   "source": [
    "reverse_str=input('请输入任意字符：')\n",
    "def rever_str(reverse_str):\n",
    "    end_str=[]\n",
    "    \n",
    "    for i in reversed(reverse_str):\n",
    "        end_str.append(i)\n",
    "        \n",
    "    return ''.join(end_str)\n",
    "\n",
    "print(rever_str(reverse_str))"
   ]
  },
  {
   "cell_type": "markdown",
   "metadata": {},
   "source": [
    "# 元祖与列表有什么不同？"
   ]
  },
  {
   "cell_type": "code",
   "execution_count": null,
   "metadata": {},
   "outputs": [],
   "source": [
    "元组不可修改和添加\n",
    "列表可以修改和添加"
   ]
  },
  {
   "cell_type": "markdown",
   "metadata": {},
   "source": [
    "# 一个列表中的元素类型要求一致吗？例如list=[1，\"a]是正确的吗？"
   ]
  },
  {
   "cell_type": "code",
   "execution_count": 15,
   "metadata": {},
   "outputs": [
    {
     "name": "stdout",
     "output_type": "stream",
     "text": [
      "1\n",
      "{'lihua': 23}\n"
     ]
    }
   ],
   "source": [
    "#可以不一致\n",
    "list=[1,'a']\n",
    "print(list[0])\n",
    "\n",
    "#ist列表以中括号形式罗列各个元素，并且列表中元素可以是任意类型，包括元组，列表以及字典。各种类型可以混合表示\n",
    "\n",
    "list_2=[(1,2),'test',{'lihua':23}]\n",
    "print(list_2[2])"
   ]
  },
  {
   "cell_type": "markdown",
   "metadata": {},
   "source": [
    "# 列表是否还可以嵌套别的列表？列举一个例子说明。"
   ]
  },
  {
   "cell_type": "code",
   "execution_count": 16,
   "metadata": {},
   "outputs": [
    {
     "name": "stdout",
     "output_type": "stream",
     "text": [
      "['ni', 'hao', 'ya']\n"
     ]
    }
   ],
   "source": [
    "#可以嵌套\n",
    "list_3=['ni',3,['ni','hao','ya']]\n",
    "print(list_3[2])"
   ]
  },
  {
   "cell_type": "markdown",
   "metadata": {},
   "source": [
    "# 用一个字典描述一个日期，包含年year、月month、日day的键字。"
   ]
  },
  {
   "cell_type": "code",
   "execution_count": 17,
   "metadata": {},
   "outputs": [
    {
     "name": "stdout",
     "output_type": "stream",
     "text": [
      "2020\n"
     ]
    }
   ],
   "source": [
    "time={'year':2020,'month':5,'day':20}\n",
    "print(time['year'])"
   ]
  },
  {
   "cell_type": "markdown",
   "metadata": {},
   "source": [
    "# Python的字典数据类型与JSON数据类有很多相似的地方，说明有哪些共同点。"
   ]
  },
  {
   "cell_type": "code",
   "execution_count": null,
   "metadata": {},
   "outputs": [],
   "source": [
    "都用花括号包裹内容，有类似的键值对类型"
   ]
  },
  {
   "cell_type": "markdown",
   "metadata": {},
   "source": [
    "# 写出……"
   ]
  },
  {
   "cell_type": "code",
   "execution_count": 20,
   "metadata": {},
   "outputs": [
    {
     "name": "stdout",
     "output_type": "stream",
     "text": [
      "name A\n",
      "sex M\n",
      "name B\n",
      "sex C\n"
     ]
    }
   ],
   "source": [
    "d={\"students\":[{\"name\":\"A\",\"sex\":\"M\"},{\"name\":\"B\",\"sex\":\"C\"}]}\n",
    "                \n",
    "for k1 in d.keys():\n",
    "    for k2 in d[k1]: \n",
    "        for k3 in k2.keys():\n",
    "            print(k3,k2[k3])"
   ]
  },
  {
   "cell_type": "markdown",
   "metadata": {},
   "source": [
    "# 如果使用字典描述一个时间，例如t={\"hour\"：12，\"minute\"：23，\"second\"：34}表示时间\"12：23：34\"，设计一个函数interval（t1，t2），计算时间t1与t2的时间差，返回相同结构的一个字典时间。"
   ]
  },
  {
   "cell_type": "code",
   "execution_count": 45,
   "metadata": {},
   "outputs": [
    {
     "name": "stdout",
     "output_type": "stream",
     "text": [
      "{'hour': -3, 'minute': 31, 'second': 20}\n"
     ]
    }
   ],
   "source": [
    "t1={\"hour\":12,\"minute\":23,\"second\":34}\n",
    "t2={\"hour\":14,\"minute\":52,\"second\":14}\n",
    "\n",
    "def interval(t1,t2):\n",
    "    second=[i for i in t1.values()]\n",
    "    second2=[i for i in t2.values()]\n",
    "\n",
    "\n",
    "    a,b,c=second\n",
    "    seconds=a*3600+b*60+c\n",
    "\n",
    "    A,B,C=second2\n",
    "    seconds2=A*3600+B*60+C\n",
    "\n",
    "    t=seconds-seconds2\n",
    "\n",
    "    h=t//3600\n",
    "    m=t%3600//60\n",
    "    s=t%60\n",
    "\n",
    "    interval_time={}\n",
    "    interval_time['hour']=h\n",
    "    interval_time['minute']=m\n",
    "    interval_time['second']=s\n",
    "\n",
    "    \n",
    "    return interval_time\n",
    "    \n",
    "\n",
    "\n",
    "print(interval(t1,t2))"
   ]
  },
  {
   "cell_type": "code",
   "execution_count": null,
   "metadata": {},
   "outputs": [],
   "source": []
  }
 ],
 "metadata": {
  "kernelspec": {
   "display_name": "Python 3",
   "language": "python",
   "name": "python3"
  },
  "language_info": {
   "codemirror_mode": {
    "name": "ipython",
    "version": 3
   },
   "file_extension": ".py",
   "mimetype": "text/x-python",
   "name": "python",
   "nbconvert_exporter": "python",
   "pygments_lexer": "ipython3",
   "version": "3.7.3"
  },
  "toc": {
   "base_numbering": 1,
   "nav_menu": {},
   "number_sections": true,
   "sideBar": true,
   "skip_h1_title": false,
   "title_cell": "Table of Contents",
   "title_sidebar": "Contents",
   "toc_cell": false,
   "toc_position": {},
   "toc_section_display": true,
   "toc_window_display": false
  }
 },
 "nbformat": 4,
 "nbformat_minor": 2
}
