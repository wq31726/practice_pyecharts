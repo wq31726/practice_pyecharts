{
 "cells": [
  {
   "cell_type": "markdown",
   "metadata": {},
   "source": [
    "# 1.定义一个数学中的复数类Complex，它有一个构造函数与一个显示函数，建立一个Complex对象并调用该显示函数显示。"
   ]
  },
  {
   "cell_type": "code",
   "execution_count": 25,
   "metadata": {},
   "outputs": [
    {
     "name": "stdout",
     "output_type": "stream",
     "text": [
      "1+3i\n"
     ]
    }
   ],
   "source": [
    "class Complex( ):\n",
    "    #z=a+bi\n",
    "    def __init__(self , a ,b ):\n",
    "        \"\"\"初始化属性a,b\"\"\"\n",
    "        self.a = a\n",
    "        self.b = b\n",
    "\n",
    "        \n",
    "    def show(self):\n",
    "        \n",
    "        print('%s+%si' % (self.a ,self.b))\n",
    "\n",
    "test=Complex(1,3)\n",
    "test.show()"
   ]
  },
  {
   "cell_type": "markdown",
   "metadata": {},
   "source": [
    "# 2.定义一个计算机类MyComputer，它包含CPU类型（String类型）、RAM内存大小（Integer类型）、HD硬盘大小（Integer类型），设计它的构造函数，并设计一个显示函数，建立一个MyComputer对象并调用该显示函数显示。"
   ]
  },
  {
   "cell_type": "code",
   "execution_count": 21,
   "metadata": {},
   "outputs": [
    {
     "name": "stdout",
     "output_type": "stream",
     "text": [
      "CPU: intel core i9  RAM : 256   HD : 500 \n"
     ]
    }
   ],
   "source": [
    "class MyComputer():\n",
    "    \n",
    "    def __init__(self, cpu ,ram ,hd):\n",
    "        self.cpu = cpu\n",
    "        self.ram = ram\n",
    "        self.hd = hd\n",
    "        \n",
    "    def compuer_info(self):\n",
    "        \n",
    "        info='CPU: %s  RAM : %s   HD : %s ' %(self.cpu , self.ram ,self.hd)\n",
    "        \n",
    "        return info\n",
    "    \n",
    "\n",
    "computer=MyComputer('intel core i9',256,500)\n",
    "print(computer.compuer_info())"
   ]
  },
  {
   "cell_type": "markdown",
   "metadata": {},
   "source": [
    "# 3.设计一个整数类MyInteger，它有一个整数变量，并有一个Value属性，可以通过为Value存取该变量的值，还有一个转二进制字符串的成员函数toBin及转十六进制字符串的成员函数toHex。"
   ]
  },
  {
   "cell_type": "code",
   "execution_count": 24,
   "metadata": {},
   "outputs": [
    {
     "name": "stdout",
     "output_type": "stream",
     "text": [
      "请输入数字：6\n",
      "转换为十六进制为： 0x6\n",
      "转换为二进制为： 0b110\n"
     ]
    }
   ],
   "source": [
    "class MyInteger():\n",
    "    \n",
    "    def __init__ (self , Value):\n",
    "        self.value=Value\n",
    "        \n",
    "    def toBin(self):\n",
    "        \n",
    "        print(\"转换为二进制为：\", bin(self.value))\n",
    "    \n",
    "    def toHex(self):\n",
    "        \n",
    "        print(\"转换为十六进制为：\", hex(self.value))\n",
    "\n",
    "        \n",
    "value=int(input('请输入数字：'))\n",
    "\n",
    "MyInteger(value).toHex()\n",
    "MyInteger(value).toBin()"
   ]
  },
  {
   "cell_type": "markdown",
   "metadata": {},
   "source": [
    "# 4.建立一个普通人员类Person，包含姓名（m_name）、性别（m_sex）、年龄（m_age）成员变量。\n",
    "（1）建立Person类，包含Private 成员m name、m sex、mage成员变量；\n",
    "（2）建立Person的构造函数；\n",
    "（3）建立一个显示过程Show（），显示该对象的数据；\n",
    "（4）派生一个学生类Student，增加班级（m_class），专业（m_major），设计这些类的构造函数；\n",
    "（5）建立m_class、m_major对应的属性函数sClass）、sMajor）；\n",
    "（6）建立显示成员函数Show（），显示该学生对象所有成员数据；"
   ]
  },
  {
   "cell_type": "code",
   "execution_count": 12,
   "metadata": {},
   "outputs": [
    {
     "name": "stdout",
     "output_type": "stream",
     "text": [
      "lihua male 1820班 母猪产后护理\n"
     ]
    }
   ],
   "source": [
    "class Person():\n",
    "    \n",
    "    def __init__(self,m_name , m_sex , m_age):\n",
    "        self.m_name = m_name\n",
    "        self.m_sex = m_sex\n",
    "        self.m_age = m_age\n",
    "        \n",
    "    def show(self):\n",
    "        print(self.m_name, self.m_sex , self.m_age ,end='')\n",
    "        \n",
    "        \n",
    "class Student(Person):\n",
    "    def __init__(self, m_name , m_sex , m_age ,m_class , m_major):\n",
    "        Person.__init__(self,m_name , m_sex , m_age)\n",
    "        \n",
    "        self.m_class= m_class\n",
    "        self.m_major= m_major\n",
    "        \n",
    "    def show(self):\n",
    "        Person.show(self)\n",
    "        print(self.m_class , self.m_major)\n",
    "        \n",
    "s=Student('lihua','male','18','20班','母猪产后护理')\n",
    "s.show()\n",
    "    \n"
   ]
  },
  {
   "cell_type": "markdown",
   "metadata": {},
   "source": [
    "# 5.建立一个时间类Time，它包含时hour，分minute，秒second的实例属性（1）设计时间显示函数show（self）；\n",
    "（2）设计两个时间大小比较函数compare（self，t），其中t是另外一个时间；"
   ]
  },
  {
   "cell_type": "code",
   "execution_count": 11,
   "metadata": {},
   "outputs": [
    {
     "name": "stdout",
     "output_type": "stream",
     "text": [
      "请正确输入小时:58\n",
      "请正确输入分钟:78\n",
      "请正确输入秒数:47\n",
      "时间格式错误\n"
     ]
    }
   ],
   "source": [
    "class Time():\n",
    "    \n",
    "    def __init__(self, hour ,minute ,second):\n",
    "        if hour <0 or hour > 23 or minute <0 or  minute >59 or second>59 or second<0 :\n",
    "            raise Exception(\"时间格式错误\")\n",
    "        self.hour = hour\n",
    "        self.minute = minute\n",
    "        self.second = second\n",
    "        \n",
    "    \n",
    "    def show(self):\n",
    "        \n",
    "        print('%02d:%02d:%02d' %(self.hour, self.minute, self.second))\n",
    "    \n",
    "    def compare(self ,t):\n",
    "        \n",
    "        if t[0] <0 or t[0] > 23 or t[1] <0 or  t[1] >59 or t[2]>59 or t[2]<0 :\n",
    "            raise Exception(\"时间格式错误\")\n",
    "        \n",
    "        s1 = self.hour * 3600 + self.minute*60 + self.second\n",
    "        s2 = t[0]*3600 + t[1]*60 + t[2]\n",
    "        \n",
    "        if s1 > s2:\n",
    "            print('t小于当时间')\n",
    "            \n",
    "        elif s1 == s2:\n",
    "            print('t与当前时间相等')\n",
    "            \n",
    "        else:\n",
    "            print('t大于当前时间')\n",
    "\n",
    "hour = int(input('请正确输入小时:'))\n",
    "minute = int(input('请正确输入分钟:'))\n",
    "second = int(input('请正确输入秒数:'))\n",
    "\n",
    "try:\n",
    "    time = Time(hour,minute,second)\n",
    "    time.show()\n",
    "    #比较两个时间的大小\n",
    "    time.compare((14,15,20))\n",
    "    \n",
    "except Exception as e:\n",
    "    print(e)\n",
    "    "
   ]
  },
  {
   "cell_type": "code",
   "execution_count": null,
   "metadata": {},
   "outputs": [],
   "source": []
  }
 ],
 "metadata": {
  "kernelspec": {
   "display_name": "Python 3",
   "language": "python",
   "name": "python3"
  },
  "language_info": {
   "codemirror_mode": {
    "name": "ipython",
    "version": 3
   },
   "file_extension": ".py",
   "mimetype": "text/x-python",
   "name": "python",
   "nbconvert_exporter": "python",
   "pygments_lexer": "ipython3",
   "version": "3.7.3"
  },
  "toc": {
   "base_numbering": 1,
   "nav_menu": {},
   "number_sections": true,
   "sideBar": true,
   "skip_h1_title": false,
   "title_cell": "Table of Contents",
   "title_sidebar": "Contents",
   "toc_cell": false,
   "toc_position": {},
   "toc_section_display": true,
   "toc_window_display": false
  }
 },
 "nbformat": 4,
 "nbformat_minor": 2
}
