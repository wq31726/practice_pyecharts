{
 "cells": [
  {
   "cell_type": "markdown",
   "metadata": {},
   "source": [
    "# 1.编写一个程序建立一个文本文件abc.txt，向其中写入”abc\\n”并存盘，查看abc.txt是几个字节的文件，说明为什么。"
   ]
  },
  {
   "cell_type": "code",
   "execution_count": 1,
   "metadata": {},
   "outputs": [],
   "source": [
    "#写入文件\n",
    "with open('abc.txt','w',encoding='utf-8')as f:\n",
    "    f.write('abc\\n')"
   ]
  },
  {
   "cell_type": "code",
   "execution_count": 3,
   "metadata": {},
   "outputs": [
    {
     "name": "stdout",
     "output_type": "stream",
     "text": [
      "abc\n",
      "\n",
      "4\n"
     ]
    }
   ],
   "source": [
    "# 读取文件：\n",
    "with open('abc.txt','r',encoding='utf-8') as f:\n",
    "    bytes_long=f.read()\n",
    "    print(bytes_long)\n",
    "    print(len(bytes_long))"
   ]
  },
  {
   "cell_type": "markdown",
   "metadata": {},
   "source": [
    "<font face=\"微软雅黑\" size=4>因为字符串末尾带有换行符</font>"
   ]
  },
  {
   "cell_type": "markdown",
   "metadata": {},
   "source": [
    "# 2.用Windows记事本编写一个文本文件xyz.txt，在其中存入”123”后打”Enter”键换行，存盘后查看文件应是5个字节长，用read（1）读该文件，看看要读5次还是4次就把文件读完，为什么？编写程序验证。"
   ]
  },
  {
   "cell_type": "code",
   "execution_count": 41,
   "metadata": {},
   "outputs": [
    {
     "name": "stdout",
     "output_type": "stream",
     "text": [
      "123\n",
      "\n",
      "4\n",
      "123\n",
      "\n",
      "4\n"
     ]
    }
   ],
   "source": [
    "def read_file(n):\n",
    "    with open('xyz.txt','r') as f:\n",
    "        content=f.read(n)\n",
    "        \n",
    "        print(content)              #读取内容\n",
    "        print(len(content))         # 查看字符长度\n",
    "        \n",
    "\n",
    "read_file(4)\n",
    "\n",
    "read_file(5)\n",
    "    \n",
    "#enter 换行符算一个字节\n"
   ]
  },
  {
   "cell_type": "markdown",
   "metadata": {},
   "source": [
    "# 3.编写程序查找某个单词（键盘输入）所出现的行号及该行的内容，并统计该单词在文件共出现多少次。"
   ]
  },
  {
   "cell_type": "code",
   "execution_count": 48,
   "metadata": {},
   "outputs": [],
   "source": [
    "#写入一个文本\n",
    "text=\"\"\"\n",
    "Give me the strength lightly to bear my joys and sorrows.\n",
    "Give me the strength to make my love fruitful in service.\n",
    "Give me the strength never to disown the poor or bend my knees before insolent might.\n",
    "Give me the strength to raise my mind high above daily trifles.\n",
    "And give me the strength to surrender my strength to thy will with love.\n",
    "\"\"\"\n",
    "with open('english_word.txt','w',encoding='utf-8') as f:\n",
    "    f.write(text)"
   ]
  },
  {
   "cell_type": "code",
   "execution_count": 59,
   "metadata": {},
   "outputs": [
    {
     "name": "stdout",
     "output_type": "stream",
     "text": [
      "请输入一个单词：Give\n",
      "出现在第2行:\n",
      "Give me the strength lightly to bear my joys and sorrows.\n",
      "\n",
      "出现在第3行:\n",
      "Give me the strength to make my love fruitful in service.\n",
      "\n",
      "出现在第4行:\n",
      "Give me the strength never to disown the poor or bend my knees before insolent might.\n",
      "\n",
      "出现在第5行:\n",
      "Give me the strength to raise my mind high above daily trifles.\n",
      "\n",
      "4\n"
     ]
    }
   ],
   "source": [
    "# 查找某个单词出现……\n",
    "word=input(\"请输入一个单词：\")\n",
    "\n",
    "with open('english_word.txt','r')as f:\n",
    "    all_lines = f.readlines()\n",
    "    # 查找出现的行号以及行的内容\n",
    "    for one_line in all_lines:\n",
    "        if word in one_line:\n",
    "            print('出现在第%d行:'% int(all_lines.index(one_line)+1)  )\n",
    "            \n",
    "            print(one_line)    #输出所在行的内容\n",
    "            \n",
    "    #计算出现的次数      \n",
    "    change2str = ''.join(all_lines)\n",
    "    print(change2str.count(word))\n",
    "        \n"
   ]
  },
  {
   "cell_type": "markdown",
   "metadata": {},
   "source": [
    "# 4.设一个文本文件marks.txt中存储了学生的姓名及成绩如下：\n",
    "张三96 <br/>\n",
    "李四95 <br/>\n",
    "…… <br/>\n",
    "每行为学生姓名与成绩，编写一个程序读取这些学生的姓名与成绩并按成绩的从高到低的顺序输出到另外一个文件sorted.txt中。"
   ]
  },
  {
   "cell_type": "code",
   "execution_count": 60,
   "metadata": {},
   "outputs": [],
   "source": [
    "# 创建marks.txt 文本文件 \n",
    "student_info = ['张三 96', '李四 95', '王二 60 ', '麻子 90 ', 'sysed 88 ', 'jack_ma 88', 'poney 89', 'li_hua 40']\n",
    "for student in student_info:\n",
    "    with open('marks.txt', 'a', encoding='utf-8')as f:\n",
    "        f.write(student +'\\n')\n",
    "        "
   ]
  },
  {
   "cell_type": "code",
   "execution_count": 27,
   "metadata": {},
   "outputs": [],
   "source": [
    "def read_file(file_name):\n",
    "    with open(file_name , 'r', encoding='utf-8')as f:\n",
    "        student_details = [i.strip() for i in f.readlines() ]  #去除换行符 变成列表\n",
    "        return student_details\n",
    "        \n",
    "def sorted_data(student_details):\n",
    "    sorted_grades=[]\n",
    "    for grade in student_details:\n",
    "        sorted_grades.append(list(grade.split()))  # 将名字和 数字分割开 添加到 sorted_grades[]中\n",
    "    \n",
    "    grades = sorted(sorted_grades , key=lambda g: g[1] ,reverse= True)  #将成绩进行排序 [['张三', '96'], ['李四', '95'],……]\n",
    "    return grades\n",
    "\n",
    "def save_data(grades):\n",
    "    with open('sorted.txt' , 'w' , encoding='utf-8')as f:\n",
    "        for i in grades:\n",
    "            f.write(' '.join(i) +'\\n')\n",
    "\n",
    "def main():\n",
    "    file_name = 'marks.txt' \n",
    "    student_details = read_file(file_name)\n",
    "    grades = sorted_data(student_details)\n",
    "    save_data(grades)\n",
    "\n",
    "\n",
    "if __name__ =='__main__':\n",
    "    main()"
   ]
  },
  {
   "cell_type": "markdown",
   "metadata": {},
   "source": [
    "# 5.用二进制方式创建文件abc并写入”abc\\r\\nxyz\\n\\rl23\\r456\\n”的字符串，查看该文件有多少个字节，再用文本文件的方式打开此文件并用fgetc来读，看看每次读出的是什么字"
   ]
  },
  {
   "cell_type": "code",
   "execution_count": 51,
   "metadata": {},
   "outputs": [
    {
     "name": "stdout",
     "output_type": "stream",
     "text": [
      "21\n",
      "0x61 0x62 0x63 0xd 0xd 0xa 0x78 0x79 0x7a 0xd 0xa 0xd 0x6c 0x32 0x33 0xd 0x34 0x35 0x36 0xd 0xa "
     ]
    }
   ],
   "source": [
    "def make_file():\n",
    "    with open('abc.txt','wt')as f:\n",
    "        f.write('abc\\r\\nxyz\\n\\rl23\\r456\\n')\n",
    "        \n",
    "def read_file():\n",
    "    with open('abc.txt','rb')as f:\n",
    "        data = f.read()\n",
    "        print(len(data))\n",
    "        for i in range(len(data)):\n",
    "            print(hex(data[i]), end=' ')\n",
    "        \n",
    "try:\n",
    "    make_file()\n",
    "    read_file()\n",
    "except Exception as err:\n",
    "    print(err)"
   ]
  },
  {
   "cell_type": "markdown",
   "metadata": {},
   "source": [
    "# 6.用文本文件方式创建文件并写入”abc\\nxyz\\r\\n123\\r”字符串，再用二进制方式打开读取每个字节，看看每个字节是什么。"
   ]
  },
  {
   "cell_type": "code",
   "execution_count": 52,
   "metadata": {},
   "outputs": [
    {
     "name": "stdout",
     "output_type": "stream",
     "text": [
      "0x61 0x62 0x63 0xd 0xa 0x78 0x79 0x7a 0xd 0xd 0xa 0x31 0x32 0x33 0xd "
     ]
    }
   ],
   "source": [
    "def make_file():\n",
    "    with open('abc1.txt','w')as f:\n",
    "        f.write('abc\\nxyz\\r\\n123\\r')\n",
    "        \n",
    "def read_file():\n",
    "    with open('abc1.txt','rb')as f:\n",
    "        data = f.read()\n",
    "        for i in range(len(data)):\n",
    "            print(hex(data[i]), end=' ')\n",
    "        \n",
    "try:\n",
    "    make_file()\n",
    "    read_file()\n",
    "except Exception as err:\n",
    "    print(err)"
   ]
  },
  {
   "cell_type": "markdown",
   "metadata": {},
   "source": [
    "# 7.编写一个程序，它能统计一篇英文文章中的a~z各个字母出现的次数（不分大小写），并按出现次数的多少按顺序输出。"
   ]
  },
  {
   "cell_type": "code",
   "execution_count": 7,
   "metadata": {},
   "outputs": [
    {
     "name": "stdout",
     "output_type": "stream",
     "text": [
      "e 445\tt 332\ta 266\to 258\ts 230\th 228\tr 200\tn 198\ti 197\td 146\tl 113\tu 94\tw 94\tf 92\tm 71\tg 59\tc 58\ty 52\tb 49\tv 32\tp 29\tk 21\tz 3\tx 2\tj 1\tq 1\t"
     ]
    }
   ],
   "source": [
    "def read_essay(file_name):                               #读取文件\n",
    "    with open(file_name , 'r' ) as f:\n",
    "        texts = f.read()\n",
    "        return texts\n",
    "\n",
    "\n",
    "def sort_alpha(texts):\n",
    "    words = [word.lower()  for word in texts  if word.isalpha()]  # 将文章中的英文字母添加到列表 并转换为小写\n",
    "    \n",
    "    alphas = [chr(i) for i in range(97, 123)] #生成26个小写字母\n",
    "    \n",
    "    counts = []\n",
    "    for alpha in alphas:\n",
    "        counts.append([alpha , words.count(alpha)] )\n",
    "    \n",
    "    sort_counts = sorted(counts,key=lambda c:c[1], reverse=True) #降序排列\n",
    "\n",
    "    return sort_counts\n",
    "\n",
    "\n",
    "def print_alpha(sort_counts):                  #按照排序打印输出\n",
    "    for sort_count in sort_counts:\n",
    "        \n",
    "        frequent=' '.join([sort_count[0] +' '+ str(sort_count[1])])  #将第二个int型转换字符型\n",
    "        print(frequent ,end='\\t')\n",
    "\n",
    "\n",
    "def main():         #主函数\n",
    "    file_name = 'english_essay.txt'\n",
    "    texts=read_essay(file_name)\n",
    "    sort_counts=sort_alpha(texts)\n",
    "    print_alpha(sort_counts)\n",
    "\n",
    "if __name__ == '__main__':\n",
    "    main()"
   ]
  },
  {
   "cell_type": "code",
   "execution_count": null,
   "metadata": {},
   "outputs": [],
   "source": []
  }
 ],
 "metadata": {
  "kernelspec": {
   "display_name": "Python 3",
   "language": "python",
   "name": "python3"
  },
  "language_info": {
   "codemirror_mode": {
    "name": "ipython",
    "version": 3
   },
   "file_extension": ".py",
   "mimetype": "text/x-python",
   "name": "python",
   "nbconvert_exporter": "python",
   "pygments_lexer": "ipython3",
   "version": "3.7.3"
  },
  "toc": {
   "base_numbering": 1,
   "nav_menu": {},
   "number_sections": true,
   "sideBar": true,
   "skip_h1_title": false,
   "title_cell": "Table of Contents",
   "title_sidebar": "Contents",
   "toc_cell": false,
   "toc_position": {},
   "toc_section_display": true,
   "toc_window_display": false
  }
 },
 "nbformat": 4,
 "nbformat_minor": 2
}
