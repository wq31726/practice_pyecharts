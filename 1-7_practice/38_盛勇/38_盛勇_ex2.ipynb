{
 "cells": [
  {
   "cell_type": "markdown",
   "metadata": {},
   "source": [
    "### 输入a、b、c三个参数，求解ax**2+b*x+c=0的两个根，假定b2-4ac>0。"
   ]
  },
  {
   "cell_type": "code",
   "execution_count": 10,
   "metadata": {},
   "outputs": [
    {
     "name": "stdout",
     "output_type": "stream",
     "text": [
      "请输入数字a4\n",
      "请输入数字b56\n",
      "请输入数字c5\n",
      "方程的根分别是:(-0.08986251945737322+0j)、(-13.910137480542627+0j)\n"
     ]
    }
   ],
   "source": [
    "#导入复杂数学运算模块\n",
    "import cmath\n",
    "\n",
    "#输入数字\n",
    "a=float(input('请输入数字a'))\n",
    "b=float(input('请输入数字b'))\n",
    "c=float(input('请输入数字c'))\n",
    "\n",
    "#求维达值\n",
    "d=b**2-4*a*c\n",
    "\n",
    "#求x1，x2的值\n",
    "result_1=(-b+cmath.sqrt(d))/(2*a)\n",
    "result_2=(-b-cmath.sqrt(d))/(2*a)\n",
    "\n",
    "\n",
    "print('方程的根分别是:'+str(result_1)+'、'+str(result_2))"
   ]
  },
  {
   "cell_type": "markdown",
   "metadata": {},
   "source": [
    "### 求三角形的面积"
   ]
  },
  {
   "cell_type": "code",
   "execution_count": 17,
   "metadata": {},
   "outputs": [
    {
     "name": "stdout",
     "output_type": "stream",
     "text": [
      "请输入数字a1\n",
      "请输入数字b2\n",
      "请输入数字c1\n",
      "请重新输入三角形的三条边\n",
      "请输入数字a3\n",
      "请输入数字b4\n",
      "请输入数字c5\n",
      "6.0\n"
     ]
    }
   ],
   "source": [
    "# 输入a、b、c三个参数，以它们作为三角形的三边，判断是否可以构成一个三角形，如能则进一步计算其面积。三角形的面积s可以用以下公式计算：\n",
    "# s=sqrt（p*（p-a）*（p-b）*（p-c））\n",
    "# 其中p=（a+b+c）/2。\n",
    "\n",
    "import math\n",
    "#输入三角形的三边\n",
    "\n",
    "while True:\n",
    "    a=float(input('请输入数字a:'))\n",
    "    b=float(input('请输入数字b:'))\n",
    "    c=float(input('请输入数字c:'))\n",
    "\n",
    "    #三角形成立判断条件\n",
    "    if (a+b)>c and (a-b)<c and (b-a)<c:\n",
    "        p=(a+b+c)/2\n",
    "        s=math.sqrt(p*(p-a)*(p-b)*(p-c))\n",
    "        print(s)\n",
    "        break\n",
    "    else:\n",
    "        print('请重新输入三角形的三条边')\n",
    "    "
   ]
  },
  {
   "cell_type": "markdown",
   "metadata": {},
   "source": [
    "### 输入一个字母，判断它是否为小写英文字母。"
   ]
  },
  {
   "cell_type": "code",
   "execution_count": 26,
   "metadata": {},
   "outputs": [
    {
     "name": "stdout",
     "output_type": "stream",
     "text": [
      "请输入一个字母:W\n",
      "请重新输入\n",
      "请输入一个字母:w\n",
      "w\n"
     ]
    }
   ],
   "source": [
    "while True:\n",
    "    word=input('请输入一个字母:')\n",
    "\n",
    "    if word==word.lower():\n",
    "        print(word)\n",
    "        break\n",
    "    else:\n",
    "        print('请重新输入')"
   ]
  },
  {
   "cell_type": "markdown",
   "metadata": {},
   "source": [
    "### 从键盘输入5个字符，统计’0’字符出现的次数。"
   ]
  },
  {
   "cell_type": "code",
   "execution_count": 40,
   "metadata": {},
   "outputs": [
    {
     "name": "stdout",
     "output_type": "stream",
     "text": [
      "请输入5个字符:20202\n",
      "2\n"
     ]
    }
   ],
   "source": [
    "#4.从键盘输入5个字符，统计’0’字符出现的次数。\n",
    "\n",
    "numbers=input('请输入5个字符:')\n",
    "\n",
    "num_long=[]\n",
    "for num in numbers:\n",
    "    if num == '0':\n",
    "        num_long.append(num)\n",
    "        \n",
    "print(len(num_long))\n",
    "\n"
   ]
  },
  {
   "cell_type": "markdown",
   "metadata": {},
   "source": [
    "### 判断两个整数的大小"
   ]
  },
  {
   "cell_type": "code",
   "execution_count": 63,
   "metadata": {},
   "outputs": [
    {
     "name": "stdout",
     "output_type": "stream",
     "text": [
      "请输入一个数字a：4\n",
      "请输入一个数字b：3\n",
      "4\n"
     ]
    }
   ],
   "source": [
    "a=float(input('请输入一个数字a：'))\n",
    "b=float(input('请输入一个数字b：'))\n",
    "\n",
    "if a>b:\n",
    "    print(a)\n",
    "else:\n",
    "    print(b)"
   ]
  },
  {
   "cell_type": "markdown",
   "metadata": {},
   "source": [
    "### 输入一个字母，如它是一个小写英文字母，则把它变为对应大写字母输出。"
   ]
  },
  {
   "cell_type": "code",
   "execution_count": 44,
   "metadata": {},
   "outputs": [
    {
     "name": "stdout",
     "output_type": "stream",
     "text": [
      "请输入一个字符：W\n",
      "请重新输入：\n",
      "请输入一个字符：w\n",
      "W\n"
     ]
    }
   ],
   "source": [
    "while True:\n",
    "    \n",
    "    alph=input('请输入一个字符：')\n",
    "    if alph == alph.lower():\n",
    "        print(alph.upper())\n",
    "        break\n",
    "    else:\n",
    "        print('请重新输入：')"
   ]
  },
  {
   "cell_type": "markdown",
   "metadata": {},
   "source": [
    "### 输入一个年份，判断它是否为闰年。"
   ]
  },
  {
   "cell_type": "code",
   "execution_count": 46,
   "metadata": {},
   "outputs": [
    {
     "name": "stdout",
     "output_type": "stream",
     "text": [
      "输入一个年份: 2020\n",
      "2020 是闰年\n"
     ]
    }
   ],
   "source": [
    "year = int(input(\"输入一个年份: \"))\n",
    "if (year % 4) == 0:\n",
    "    if(year % 100) == 0:\n",
    "        if (year % 400) == 0:\n",
    "            print(\"{0} 是闰年\".format(year))   # 整百年能被400整除的是闰年\n",
    "        else:\n",
    "            print(\"{0} 不是闰年\".format(year))\n",
    "    else:\n",
    "        print(\"{0} 是闰年\".format(year))       # 非整百年能被4整除的为闰年\n",
    "else:\n",
    "    print(\"{0} 不是闰年\".format(year))"
   ]
  },
  {
   "cell_type": "markdown",
   "metadata": {},
   "source": [
    "### 从键盘输入a、b两个数，按大小顺序输出它们。"
   ]
  },
  {
   "cell_type": "code",
   "execution_count": 1,
   "metadata": {},
   "outputs": [
    {
     "name": "stdout",
     "output_type": "stream",
     "text": [
      "请输入一个数字a：5\n",
      "请输入一个数字b：4\n",
      "a=5.0,b=4.0\n"
     ]
    }
   ],
   "source": [
    "a=float(input('请输入一个数字a：'))\n",
    "b=float(input('请输入一个数字b：'))\n",
    "\n",
    "if a>b:\n",
    "    print('a={},b={}'.format(str(a),str(b)))\n",
    "else:\n",
    "    print('b={},a={}'.format(str(b),str(a)))"
   ]
  },
  {
   "cell_type": "markdown",
   "metadata": {},
   "source": [
    "### 输入a、b、c三个整数，找出最小的数。"
   ]
  },
  {
   "cell_type": "code",
   "execution_count": 62,
   "metadata": {},
   "outputs": [
    {
     "name": "stdout",
     "output_type": "stream",
     "text": [
      "请输入数字a:784\n",
      "请输入数字b:45\n",
      "请输入数字c:78\n",
      "45\n"
     ]
    }
   ],
   "source": [
    "a=int(input('请输入数字a:'))\n",
    "b=int(input('请输入数字b:'))\n",
    "c=int(input('请输入数字c:'))\n",
    "\n",
    "if a>b:\n",
    "    if b>c:\n",
    "        print(c)  #输出最小值c\n",
    "    else:\n",
    "        if a>c:\n",
    "            print(b) #输出最小值b\n",
    "            \n",
    "\n",
    "else:\n",
    "    if a>c:\n",
    "        print(c)  #输出最小值c\n",
    "    else:\n",
    "        print(a) #输出最小值a"
   ]
  },
  {
   "cell_type": "markdown",
   "metadata": {},
   "source": [
    "### 企业利润"
   ]
  },
  {
   "cell_type": "code",
   "execution_count": 2,
   "metadata": {},
   "outputs": [
    {
     "name": "stdout",
     "output_type": "stream",
     "text": [
      "请输入当月利润(/万):12\n",
      "应发奖金总数为:0.17万\n"
     ]
    }
   ],
   "source": [
    "profit=float(input('请输入当月利润(/万):'))\n",
    "\n",
    "if profit<=10:\n",
    "    print('应发奖金总数为:'+str(profit*0.12)+'万')\n",
    "else:\n",
    "    if profit>10 and profit<20:\n",
    "        print('应发奖金总数为:'+str((profit-10)*0.085)+'万')\n",
    "    else:\n",
    "        if profit>=20 and profit<40:\n",
    "            print('应发奖金总数为:'+str((profit-20)*0.06)+'万')\n",
    "        else:\n",
    "            if profit>=40 and profit<60:\n",
    "                print('应发奖金总数为:'+str((profit-40)*0.04)+'万')\n",
    "            else:\n",
    "                if profit>=60 and profit<=100:\n",
    "                    print('应发奖金总数为:'+str((profit-60)*0.025)+'万')\n",
    "                else:\n",
    "                    print('应发奖金总数为:'+str((profit-100)*0.01)+'万')\n",
    "                \n",
    "                "
   ]
  },
  {
   "cell_type": "markdown",
   "metadata": {},
   "source": [
    "### 判断点是否在圆上"
   ]
  },
  {
   "cell_type": "code",
   "execution_count": 76,
   "metadata": {},
   "outputs": [
    {
     "name": "stdout",
     "output_type": "stream",
     "text": [
      "请输入坐标a:-2\n",
      "请输入坐标b:-1\n",
      "在第三个圆上\n"
     ]
    }
   ],
   "source": [
    "#圆的标准方程(x-a)²+(y-b)²=r²\n",
    "\n",
    "# (x-2)²+(y-2)²=1 #第一象限\n",
    "# (x-2)²+(y+2)²=1  #第二象限\n",
    "\n",
    "# (x+2)²+(y+2)²=1  #第三象限\n",
    "# (x-2)²+(y+2)²=1  #第四象限\n",
    "import math\n",
    "\n",
    "a=int(input('请输入坐标a:'))\n",
    "b=int(input('请输入坐标b:'))\n",
    "\n",
    "if a>=0 and b>=0:\n",
    "    if math.sqrt((a-2)**2+(b-2)**2)<=1:\n",
    "        print('在第一个圆上')\n",
    "    else:\n",
    "        print('坐标({},{})不在第一个圆上'.format(a,b))\n",
    "\n",
    "else:\n",
    "    if a<=0 and b>=0:\n",
    "        if math.sqrt((a+2)**2+(b-2)**2)<=1:\n",
    "            print('在第二个圆上')\n",
    "        else:\n",
    "            print('坐标({},{})不在第二个圆上'.format(a,b))\n",
    "\n",
    "    else:\n",
    "        if a<=0 and b<=0:\n",
    "            if math.sqrt((a+2)**2+(b+2)**2)<=1:\n",
    "                print('在第三个圆上')\n",
    "            else:\n",
    "                print('坐标({},{})不在第三个圆上'.format(a,b))\n",
    "        else:\n",
    "            if a>=0 and b<=0:\n",
    "                if math.sqrt((a-2)**2+(b+2)**2)<=1:\n",
    "                    print('在第四个圆上')\n",
    "                else:\n",
    "                    print('坐标({},{})不在第四个圆上'.format(a,b))\n",
    "            \n",
    "    "
   ]
  },
  {
   "cell_type": "code",
   "execution_count": null,
   "metadata": {},
   "outputs": [],
   "source": []
  }
 ],
 "metadata": {
  "kernelspec": {
   "display_name": "Python 3",
   "language": "python",
   "name": "python3"
  },
  "language_info": {
   "codemirror_mode": {
    "name": "ipython",
    "version": 3
   },
   "file_extension": ".py",
   "mimetype": "text/x-python",
   "name": "python",
   "nbconvert_exporter": "python",
   "pygments_lexer": "ipython3",
   "version": "3.7.3"
  },
  "toc": {
   "base_numbering": 1,
   "nav_menu": {},
   "number_sections": true,
   "sideBar": true,
   "skip_h1_title": false,
   "title_cell": "Table of Contents",
   "title_sidebar": "Contents",
   "toc_cell": false,
   "toc_position": {},
   "toc_section_display": true,
   "toc_window_display": false
  }
 },
 "nbformat": 4,
 "nbformat_minor": 2
}
